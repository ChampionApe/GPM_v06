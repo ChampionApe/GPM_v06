{
 "cells": [
  {
   "cell_type": "code",
   "execution_count": 1,
   "id": "620a9507-6e1e-40eb-b2f9-f46caa3aef33",
   "metadata": {},
   "outputs": [
    {
     "name": "stdout",
     "output_type": "stream",
     "text": [
      "The file_gams_py_gdb14.gdx is still active and was not deleted.\n",
      "The file_gams_py_gdb15.gdx is still active and was not deleted.\n",
      "The file_gams_py_gdb16.gdx is still active and was not deleted.\n",
      "The file_gams_py_gdb17.gdx is still active and was not deleted.\n",
      "The file_gams_py_gdb18.gdx is still active and was not deleted.\n",
      "The file_gams_py_gdb19.gdx is still active and was not deleted.\n",
      "The file_gams_py_gdb20.gdx is still active and was not deleted.\n",
      "The file_gams_py_gdb21.gdx is still active and was not deleted.\n",
      "The file_gams_py_gdb22.gdx is still active and was not deleted.\n",
      "The file_gams_py_gdb23.gdx is still active and was not deleted.\n",
      "The file_gams_py_gdb24.gdx is still active and was not deleted.\n",
      "The file_gams_py_gdb25.gdx is still active and was not deleted.\n",
      "The file_gams_py_gdb26.gdx is still active and was not deleted.\n",
      "The file_gams_py_gdb27.gdx is still active and was not deleted.\n"
     ]
    }
   ],
   "source": [
    "clean_up = True\n",
    "%run StdPackages.ipynb"
   ]
  },
  {
   "cell_type": "markdown",
   "id": "52811ff0-6602-4e68-bb1f-07f4cf6ab630",
   "metadata": {
    "tags": []
   },
   "source": [
    "# *GmsPy.GmsModel*"
   ]
  },
  {
   "cell_type": "markdown",
   "id": "0abea70d-4f28-4def-a0ab-0151422ad7c2",
   "metadata": {},
   "source": [
    "Small class used to execute GAMS models from Python. The class works through the GAMS Python API."
   ]
  },
  {
   "cell_type": "markdown",
   "id": "90c6671a-6020-45f8-8e48-fd5dd6d3d0a3",
   "metadata": {},
   "source": [
    "The class is initialized with two main inputs specifiying (1) the workspace (where should GAMS run), (2) the GAMS options that the model should run with. \n",
    "\n",
    "```python\n",
    "class GmsPy.GmsModel:\n",
    "    def __init__(self, ws=None, options = {}, **kwargs):\n",
    "```\n",
    "* ```ws``` specifies the ```gams.GamsWorkspace``` that is available as attribute ```self.ws```. Can be initialized using (```None```, ```str```, ```gams.GamsWorkspace```).\n",
    "* ```options``` specifies the ```gams.GamsOptions``` that is available as attribute ```self.opt```. Uses three arguments: ```opt,opt_file,opt_name```.\n",
    "    * ```opt```: Can either be a string or an instance of ```gams.GamsOptions```. If it is a string, an options file is written to the working repository with the name ```opt_name``` (defaults to \"options.opt\" if non is provided).\n",
    "    * ```opt_file```: Initializes a ```gams.GamsOptions``` instance from the specified file. \n",
    "    \n",
    "    If ```opt = opt_file = None``` an empty ```gams.GamsOptions``` instance is initialized.\n",
    "* ```**kwargs```: Are used to specify attributes to ```self.opt```."
   ]
  },
  {
   "cell_type": "markdown",
   "id": "0c0a7f39-82b3-4bfe-9aea-e3b0905acba3",
   "metadata": {},
   "source": [
    "### 1: Methods and properties"
   ]
  },
  {
   "cell_type": "markdown",
   "id": "588471de-0bff-428a-8024-e1f03b7157bc",
   "metadata": {},
   "source": [
    "The GmsModel class contains a few useful methods/properties that employ methods from the GAMS Python API:\n",
    "* ```self.work_folder```: Repository that GAMS executes in.\n",
    "* ```self.addlocal(placeholder,local)```: Defines a local variable used in GAMS code (with syntax %placeholder%).\n",
    "* ```self.add_job(run=None, runfile=None, options={})```: Defines a ```GamsJob``` from string (if ```run```) or from a file (if ```runfile```). The options are passed to the job.\n",
    "* ```self.run_job(options={})```: Runs the job ```self.job``` with gams options ```self.opt``` and passes ```options``` as kwargs. \n",
    "* ```self.run(run=None, runfile = None, options_add={},options_run = {}, db_as_gpy=True)```:  Adds a job from ```run``` or ```runfile``` and passes ```options_add```, then runs the job passing ```options_run```. If ```db_as_gpy``` the database with solutions from ```self.job.out_db``` are stored as a ```GpyDB``` database that can be accessed through ```self.out_db```."
   ]
  },
  {
   "cell_type": "markdown",
   "id": "98d1d08d-9bbe-41e7-aca5-ecf74545c91f",
   "metadata": {},
   "source": [
    "### 2: Examples"
   ]
  },
  {
   "cell_type": "markdown",
   "id": "e006a0fb-e02a-46e0-8b38-c6c0af5ed6c0",
   "metadata": {},
   "source": [
    "#### Example 2.1: Run a gams model specified in a file. Use specific solver + add local variable"
   ]
  },
  {
   "cell_type": "markdown",
   "id": "53060471-4439-4c41-b3b3-3536fb13c120",
   "metadata": {},
   "source": [
    "*Initialize a model from the 'work folder'. Add that we want the 'cns' model to be solved using conopt4:*"
   ]
  },
  {
   "cell_type": "code",
   "execution_count": 2,
   "id": "c4707e57-3089-4f78-a414-838331cb6ddf",
   "metadata": {},
   "outputs": [],
   "source": [
    "m = GmsPy.GmsModel(ws=d['work'], **{'cns': 'CONOPT4'})"
   ]
  },
  {
   "cell_type": "markdown",
   "id": "3b6ddebe-b089-4f34-9a1c-a22b393ce983",
   "metadata": {},
   "source": [
    "*This specific model needs a local variable that points to the relevant database:*"
   ]
  },
  {
   "cell_type": "code",
   "execution_count": 3,
   "id": "a47663f6-4a6a-411a-a443-ab46d46d469c",
   "metadata": {},
   "outputs": [],
   "source": [
    "repo = os.path.join(d['main'],'gams\\\\AbatementExample')\n",
    "m.addlocal('V01_DB', os.path.join(repo,'V01_DB.gdx'))"
   ]
  },
  {
   "cell_type": "markdown",
   "id": "ef23307a-df43-4764-8dbf-28e7e3595051",
   "metadata": {},
   "source": [
    "*Run model from file:*"
   ]
  },
  {
   "cell_type": "code",
   "execution_count": 4,
   "id": "74856e06-bbe3-428a-b439-86b4069c48c0",
   "metadata": {},
   "outputs": [],
   "source": [
    "m.run(runfile = os.path.join(repo, 'CollectAndRun.gmy'))"
   ]
  },
  {
   "cell_type": "markdown",
   "id": "209606c1-1482-44e1-a2ae-cf8ddf54c666",
   "metadata": {},
   "source": [
    "#### Example 2.2: Add a checkpoint"
   ]
  },
  {
   "cell_type": "markdown",
   "id": "0db544d3-0ea7-4c61-b6af-29590d69589b",
   "metadata": {},
   "source": [
    "*As before, initialize an instance and specify that we should use 'CONOPT4' to use 'cns' models:*"
   ]
  },
  {
   "cell_type": "code",
   "execution_count": 5,
   "id": "e6022f4a-1736-4d9b-9ec8-de84e25814a9",
   "metadata": {},
   "outputs": [],
   "source": [
    "m = GmsPy.GmsModel(ws=d['work'], **{'cns': 'CONOPT4'})"
   ]
  },
  {
   "cell_type": "markdown",
   "id": "ffbbaf72-aae7-4b18-8f60-604ba3039667",
   "metadata": {},
   "source": [
    "*Add local:*"
   ]
  },
  {
   "cell_type": "code",
   "execution_count": 6,
   "id": "dac0b708-3b18-497e-b3f8-c30eed1f1dc5",
   "metadata": {},
   "outputs": [],
   "source": [
    "repo = os.path.join(d['main'],'gams\\\\AbatementExample')\n",
    "m.addlocal('V01_DB', os.path.join(repo,'V01_DB.gdx'))"
   ]
  },
  {
   "cell_type": "markdown",
   "id": "b3246474-ffc1-479a-b8e8-573b783b5e7f",
   "metadata": {},
   "source": [
    "*Initialize an empty checkpoint:*"
   ]
  },
  {
   "cell_type": "code",
   "execution_count": 7,
   "id": "ed44ff63-1c2a-449c-85ea-31339a26fe7f",
   "metadata": {},
   "outputs": [],
   "source": [
    "cp = m.ws.add_checkpoint()"
   ]
  },
  {
   "cell_type": "markdown",
   "id": "7d1e943a-983f-4932-9d7a-cc0d37e86890",
   "metadata": {},
   "source": [
    "*Add checkpoint to run statement:*"
   ]
  },
  {
   "cell_type": "code",
   "execution_count": 8,
   "id": "96f2dcbd-7699-48a6-9cd6-81e49584534b",
   "metadata": {},
   "outputs": [],
   "source": [
    "m.run(runfile = os.path.join(repo, 'CollectAndRun.gmy'), options_run = {'checkpoint':cp})\n",
    "db_before = m.out_db"
   ]
  },
  {
   "cell_type": "markdown",
   "id": "5f6a5ce9-b369-4610-a57a-76f737bd428f",
   "metadata": {},
   "source": [
    "*We can initialize a new run from this checkpoint by adding it to a new job. Here, we increase the price on capital by 50%:*"
   ]
  },
  {
   "cell_type": "code",
   "execution_count": 9,
   "id": "31f15852-28d9-4c93-a061-fc90a14f27c4",
   "metadata": {},
   "outputs": [],
   "source": [
    "run = f\"\"\"pD.fx[s,n]$(v01_dur[s,n]) = pD.l[s,n]*1.5;\n",
    "solve V01_B using CNS;\"\"\"\n",
    "m.run(run = run, options_add = {'checkpoint': cp})"
   ]
  },
  {
   "cell_type": "markdown",
   "id": "5091aed7-29f5-4813-9db7-aeb25661aa5d",
   "metadata": {},
   "source": [
    "*We can now check how much demand for the inputs have changed:*"
   ]
  },
  {
   "cell_type": "code",
   "execution_count": 10,
   "id": "d3510034-5a68-40f4-9fa4-da3a27783bce",
   "metadata": {},
   "outputs": [
    {
     "data": {
      "image/png": "[encoded data removed]",
      "text/plain": [
       "<Figure size 576x396 with 1 Axes>"
      ]
     },
     "metadata": {},
     "output_type": "display_data"
    }
   ],
   "source": [
    "pd.DataFrame({'Before': rc_pd(db_before['qD'],m.out_db['V01_inp']), \n",
    "              'After':  rc_pd(m.out_db['qD'], m.out_db['V01_inp'])}).plot.bar();"
   ]
  }
 ],
 "metadata": {
  "kernelspec": {
   "display_name": "Python 3 (ipykernel)",
   "language": "python",
   "name": "python3"
  },
  "language_info": {
   "codemirror_mode": {
    "name": "ipython",
    "version": 3
   },
   "file_extension": ".py",
   "mimetype": "text/x-python",
   "name": "python",
   "nbconvert_exporter": "python",
   "pygments_lexer": "ipython3",
   "version": "3.9.7"
  }
 },
 "nbformat": 4,
 "nbformat_minor": 5
}
