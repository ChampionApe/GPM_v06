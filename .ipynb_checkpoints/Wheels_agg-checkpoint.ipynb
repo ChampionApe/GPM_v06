{
 "cells": [
  {
   "cell_type": "code",
   "execution_count": 1,
   "id": "f054aa36-4ca5-450e-834d-427b5a842991",
   "metadata": {},
   "outputs": [],
   "source": [
    "%run StdPackages.ipynb"
   ]
  },
  {
   "cell_type": "markdown",
   "id": "29d3ef54-6b9c-4fc8-8876-d9bddaf331c7",
   "metadata": {},
   "source": [
    "Load wheels and test databases:"
   ]
  },
  {
   "cell_type": "code",
   "execution_count": 2,
   "id": "074f2d52-6759-4d33-bc55-b2104fbab1fc",
   "metadata": {},
   "outputs": [],
   "source": [
    "fs = [f\"{d['data']}\\\\test_size1000.gdx\", f\"{d['data']}\\\\baselinerun.gdx\"] # files\n",
    "ws = gams.GamsWorkspace() \n",
    "g2np = gams2numpy.Gams2Numpy(ws.system_directory)\n",
    "dbs = {'gms1': ws.add_database_from_gdx(fs[0]), 'gms2': ws.add_database_from_gdx(fs[1]),\n",
    "       'gpy1': Database.GpyDB(db=fs[0],**{'name': 'testdb1'}), 'gpy2': Database.GpyDB(db=fs[1],**{'name': 'testdb2'})}\n",
    "db = dbs['gpy2']"
   ]
  },
  {
   "cell_type": "code",
   "execution_count": 3,
   "id": "69e6374f-821c-48e2-90a4-cf0284ae5c7b",
   "metadata": {},
   "outputs": [],
   "source": [
    "os.chdir(d['py'])\n",
    "import DBWheels_agg\n",
    "os.chdir(d['curr'])"
   ]
  },
  {
   "cell_type": "markdown",
   "id": "3b3fface-51e5-4c8f-9b63-3f95a591ad79",
   "metadata": {
    "tags": []
   },
   "source": [
    "# DBWheels_agg.py"
   ]
  },
  {
   "cell_type": "markdown",
   "id": "afb2b1e2-11f4-4538-b67b-d1d19e812bd9",
   "metadata": {},
   "source": [
    "The wheels ```DBWheels_agg.py``` specifies operations on entire databases e.g. for updating all sets from what is used in variables/parameters and aggregating in various ways. The main methods are: ```update_sets```"
   ]
  },
  {
   "cell_type": "markdown",
   "id": "1a97c0b4-13fb-427f-9809-456e7e6e1f19",
   "metadata": {},
   "source": [
    "### 1: ```update_sets```\n",
    "\n",
    "```python\n",
    "DBWheels_agg.update_sets(db, types = ('variable','parameter'), clean = True, ignore_alias = False, clean_alias = False)\n",
    "```\n",
    "\n",
    "Goes through the following steps:\n",
    "1. ```If clean```: Remove all elements from *sets* except for the alias-handling sets ```alias_set, alias_map2```.\n",
    "2. Read sets from types: Iterate through all symbols of types ```types``` (default variable/parameter) and record all set elements. \n",
    "    * Aliased sets (listed in ```alias_map2```) can be recorded in the database as its own symbol or not (depends on the setting). The property ```db.alias_notin_db``` returns the aliases that are in ```alias_map2``` but is not defined as a symbol in ```db```.\n",
    "    * ```If ignore_alias```: When reading sets from variables/parameters we will not write to the aliased sets in ```db.alias_notin_db```.\n",
    "3. ```If clean_aliases```: If true all aliased sets that are not used in the database is removed from ```alias_map2```. \n",
    "4. Read aliased sets: This method gets the union of all aliased sets and updates accordingly.\n",
    "    * ```If ignore_alias```: Once the union of all elements are detected the aliased sets in ```db.alias_notin_db``` are not updated.\n",
    "5. ```If clean```: Update subsets and mappings based on the domain elements in the cleaned up sets."
   ]
  },
  {
   "cell_type": "markdown",
   "id": "b5db221e-a519-4146-b605-9f713b2d3756",
   "metadata": {},
   "source": [
    "*Executing the following is equivalent to simply using ```update_sets(db)```*."
   ]
  },
  {
   "cell_type": "code",
   "execution_count": 4,
   "id": "c4978d49-2fc4-4c7f-99a5-4f3dea337d08",
   "metadata": {},
   "outputs": [],
   "source": [
    "#defaults:\n",
    "types = ('variable','parameter')\n",
    "clean = True\n",
    "ignore_alias = False\n",
    "clean_alias = False"
   ]
  },
  {
   "cell_type": "markdown",
   "id": "a6ec5e1f-8b6e-401b-8c43-4662f8b9b763",
   "metadata": {},
   "source": [
    "*1. Clean: Returns empty pandas indices*"
   ]
  },
  {
   "cell_type": "code",
   "execution_count": 5,
   "id": "eb0d0acb-e2cb-41cc-88c1-8f6d3abba45f",
   "metadata": {},
   "outputs": [
    {
     "data": {
      "text/plain": [
       "Index([], dtype='object', name='k')"
      ]
     },
     "execution_count": 5,
     "metadata": {},
     "output_type": "execute_result"
    }
   ],
   "source": [
    "DBWheels_agg.clean_sets(db)\n",
    "db.get('k')"
   ]
  },
  {
   "cell_type": "markdown",
   "id": "cbd3d600-970c-4eea-abe8-13b46e00c108",
   "metadata": {},
   "source": [
    "*2. Read sets from types: The set elements used in variables/parameters are read to the pandas indices again*"
   ]
  },
  {
   "cell_type": "code",
   "execution_count": 6,
   "id": "f6014299-e3a7-4fa6-8929-aac8ae2dce06",
   "metadata": {},
   "outputs": [
    {
     "data": {
      "text/plain": [
       "Index([ 1,  2,  3,  4,  5,  6,  7,  8,  9, 10, 11, 12, 13, 14, 15, 16, 17, 18,\n",
       "       19, 20, 21, 22, 23, 24, 25],\n",
       "      dtype='object', name='k')"
      ]
     },
     "execution_count": 6,
     "metadata": {},
     "output_type": "execute_result"
    }
   ],
   "source": [
    "DBWheels_agg.read_sets(db, types = types, ignore_alias = ignore_alias)\n",
    "db.get('k')"
   ]
  },
  {
   "cell_type": "markdown",
   "id": "295df68e-cd5d-46f7-81f9-025e9c2b341f",
   "metadata": {},
   "source": [
    "*3. Clean aliases: Relies on the 'active_aliases' method to indicate which aliases are used in the database. Recall that aliases might be used in models even if they are not used here; thus we default to ```False```*"
   ]
  },
  {
   "cell_type": "code",
   "execution_count": 7,
   "id": "7d31cf67-9b1f-41f5-bd49-7686f8ee586b",
   "metadata": {},
   "outputs": [
    {
     "data": {
      "text/plain": [
       "[('k', 'i'), ('k', 'j'), ('EA', 'EAEA')]"
      ]
     },
     "execution_count": 7,
     "metadata": {},
     "output_type": "execute_result"
    }
   ],
   "source": [
    "DBWheels_agg.active_aliases(db,types)"
   ]
  },
  {
   "cell_type": "markdown",
   "id": "faf500ff-113f-4581-8bc3-bbb5da69454b",
   "metadata": {},
   "source": [
    "*Using the ```clean_aliases``` option would remove the aliases such as ```(HA,HAHA)```:*"
   ]
  },
  {
   "cell_type": "code",
   "execution_count": 8,
   "id": "d3e74055-b7c0-4e14-9c99-cfb5414c0f7a",
   "metadata": {},
   "outputs": [
    {
     "data": {
      "text/plain": [
       "MultiIndex([(    'k',          'i'),\n",
       "            (    'k',          'j'),\n",
       "            ('aggid', 'aggidaggid'),\n",
       "            (   'EA',       'EAEA'),\n",
       "            (   'HA',       'HAHA')],\n",
       "           names=['alias_set', 'alias_map2'])"
      ]
     },
     "execution_count": 8,
     "metadata": {},
     "output_type": "execute_result"
    }
   ],
   "source": [
    "db.get('alias_')"
   ]
  },
  {
   "cell_type": "markdown",
   "id": "c5a3f73d-f4cd-403f-913a-6e61a60470f7",
   "metadata": {},
   "source": [
    "*4. Read aliased sets: The set 'k' is aliased with ('i','j'). If ```read_sets``` has read elements to 'i' or 'j', these elements are in 'k' as well. In our case this does not make a difference*"
   ]
  },
  {
   "cell_type": "code",
   "execution_count": 9,
   "id": "fca452a4-4ad2-435f-93fa-c8a52335b9c6",
   "metadata": {},
   "outputs": [
    {
     "data": {
      "text/plain": [
       "Int64Index([ 1,  2,  3,  4,  5,  6,  7,  8,  9, 10, 11, 12, 13, 14, 15, 16, 17,\n",
       "            18, 19, 20, 21, 22, 23, 24, 25],\n",
       "           dtype='int64', name='k')"
      ]
     },
     "execution_count": 9,
     "metadata": {},
     "output_type": "execute_result"
    }
   ],
   "source": [
    "DBWheels_agg.read_aliased_sets(db, ignore_alias = ignore_alias)\n",
    "db.get('k')"
   ]
  },
  {
   "cell_type": "markdown",
   "id": "891719d9-dc7f-4d52-ab3f-01e11e946b1e",
   "metadata": {},
   "source": [
    "*5. Update subsets and mappings:*"
   ]
  },
  {
   "cell_type": "code",
   "execution_count": 10,
   "id": "d98c8a7d-7e10-497c-aa47-c9750ce51779",
   "metadata": {},
   "outputs": [],
   "source": [
    "DBWheels_agg.update_subsets_from_sets(db)\n",
    "DBWheels_agg.update_maps_from_sets(db)"
   ]
  }
 ],
 "metadata": {
  "kernelspec": {
   "display_name": "Python 3 (ipykernel)",
   "language": "python",
   "name": "python3"
  },
  "language_info": {
   "codemirror_mode": {
    "name": "ipython",
    "version": 3
   },
   "file_extension": ".py",
   "mimetype": "text/x-python",
   "name": "python",
   "nbconvert_exporter": "python",
   "pygments_lexer": "ipython3",
   "version": "3.9.7"
  }
 },
 "nbformat": 4,
 "nbformat_minor": 5
}
