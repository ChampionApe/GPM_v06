{
 "cells": [
  {
   "cell_type": "code",
   "execution_count": 1,
   "id": "d8eb5366-0377-435c-a237-cb0e99b13538",
   "metadata": {},
   "outputs": [
    {
     "name": "stdout",
     "output_type": "stream",
     "text": [
      "The file_gams_py_gdb1.gdx is still active and was not deleted.\n",
      "The file_gams_py_gdb14.gdx is still active and was not deleted.\n",
      "The file_gams_py_gdb15.gdx is still active and was not deleted.\n",
      "The file_gams_py_gdb16.gdx is still active and was not deleted.\n",
      "The file_gams_py_gdb17.gdx is still active and was not deleted.\n",
      "The file_gams_py_gdb18.gdx is still active and was not deleted.\n",
      "The file_gams_py_gdb19.gdx is still active and was not deleted.\n",
      "The file_gams_py_gdb20.gdx is still active and was not deleted.\n",
      "The file_gams_py_gdb21.gdx is still active and was not deleted.\n",
      "The file_gams_py_gdb22.gdx is still active and was not deleted.\n",
      "The file_gams_py_gdb23.gdx is still active and was not deleted.\n",
      "The file_gams_py_gdb24.gdx is still active and was not deleted.\n",
      "The file_gams_py_gdb25.gdx is still active and was not deleted.\n",
      "The file_gams_py_gdb26.gdx is still active and was not deleted.\n",
      "The file_gams_py_gdb27.gdx is still active and was not deleted.\n"
     ]
    }
   ],
   "source": [
    "clean_up = True\n",
    "%run StdPackages.ipynb\n",
    "repo = os.path.join(d['main'],'gams\\\\AbatementExample')\n",
    "db_str = os.path.join(repo,'V01_DB.gdx')"
   ]
  },
  {
   "cell_type": "markdown",
   "id": "58858cb4-91aa-4fcf-9695-8af50e3ace4e",
   "metadata": {
    "tags": []
   },
   "source": [
    "# *GmsPy.GmsSettings*"
   ]
  },
  {
   "cell_type": "markdown",
   "id": "7a8aaf88-890b-4f44-bab9-534dc46e1dfc",
   "metadata": {},
   "source": [
    "*A class of settings used to specify gams models.*"
   ]
  },
  {
   "cell_type": "markdown",
   "id": "a474ffcb-94a3-4997-9083-4fc8f896e6b8",
   "metadata": {},
   "source": [
    "The class is initialized either with kwargs or from a pickle. If it is not initialized from a pickle, a number of default attributes are defined.\n",
    "\n",
    "```python\n",
    "    class GmsPy.GmsSettings:\n",
    "        def __init__(self, file_path = None, **kwargs):\n",
    "```\n",
    "If a file path is not supplied, the kwargs are merged with default settings. Default settings:\n",
    "* ```self.name:``` Name of the settings file (a string).\n",
    "* ```self.macros:``` Empty dictionary. A container to capture the declared macros (GAMS macros).\n",
    "* ```self.Precompiler:``` An instance of the Precompiler class from the ```dreamtools``` package (gamY).\n",
    "* ```self.Compile:``` A user-class defined to write gams code from group/model specifications. \n",
    "* ```self.db:``` A ```GpyDB``` database instance. \n",
    "* ```self.from_db:``` Specifying how much of Gams code should be written automatically from the database in ```self.db```.\n",
    "* ```self.locals:``` Dictionary with local variables to be added as placeholders when running the gams model.\n",
    "* ```self.states:``` Dictionary with different model states (e.g. different selection of endogenous groups, blocks etc.).\n",
    "* ```self.state:``` The current state of the model (key in self.states)."
   ]
  },
  {
   "cell_type": "markdown",
   "id": "6271316d-088a-416f-b3ac-760591644f7f",
   "metadata": {},
   "source": [
    "## Example 1: Use gamY model"
   ]
  },
  {
   "cell_type": "markdown",
   "id": "68e1b8e6-c8c1-40cf-82e8-5e97258321f0",
   "metadata": {},
   "source": [
    "This example shows how to use gamY model blocks to create a model. We show basic methods for reading and writing model components. Specifically we cover:\n",
    "1. Specify gamY files to be included by the model (various ways of parsing the argument to the gamY Precompiler). Use these arguments to write a gams file. \n",
    "2. Use information on endogenous groups, exogeonus groups, and model blocks to create an instance of the model, and use the GmsSettings class to automate running this."
   ]
  },
  {
   "cell_type": "markdown",
   "id": "560ad892-b761-4562-bbde-1d53e3fad72e",
   "metadata": {},
   "source": [
    "### 1.1. Add gamY files"
   ]
  },
  {
   "cell_type": "code",
   "execution_count": 2,
   "id": "acf3075a-1942-4241-bdb2-227a29d58d54",
   "metadata": {},
   "outputs": [],
   "source": [
    "s = GmsPy.GmsSettings(**{'name': 'Test1'})"
   ]
  },
  {
   "cell_type": "markdown",
   "id": "7240ad55-c1e0-4877-b9d8-d1426b406689",
   "metadata": {},
   "source": [
    "For this specific example, we need to specify the technology type used in the model: The gamY model code refers to a technology type using the syntax \"%techtype%\". We add this to the local namespace:"
   ]
  },
  {
   "cell_type": "code",
   "execution_count": 3,
   "id": "16190e0d-9673-4094-aa4f-57bb39942b91",
   "metadata": {},
   "outputs": [],
   "source": [
    "s.Precompiler.locals = {'techtype': \"'logit'\"}"
   ]
  },
  {
   "cell_type": "markdown",
   "id": "b58d1836-5c38-4234-8bf3-ff3d3467ed6a",
   "metadata": {},
   "source": [
    "One way to use the ```GmsSettings``` class is to read files prepared for the Precompiler in ```dreamtools```. In this example, we read in files that:\n",
    "1. Define gamY functions and gams macros, \n",
    "2. Define and load sets,\n",
    "3. Define groupings of variables,\n",
    "4. Define blocks of equations,\n",
    "5. Load variables as either fixed or unfixed."
   ]
  },
  {
   "cell_type": "markdown",
   "id": "af27e2c6-e963-4e31-b513-3c4945ef8cb6",
   "metadata": {},
   "source": [
    "We can add files to the ```self.args``` by either (1) passing the file destination or (2) storing the text. Both will eventually be parsed through the gamY precompiler (if no gamY commands are used, this does nothing to the text). "
   ]
  },
  {
   "cell_type": "markdown",
   "id": "595b118e-8f98-4b44-8558-ee78bb7834c7",
   "metadata": {},
   "source": [
    "*The manual way, referring to file path:*"
   ]
  },
  {
   "cell_type": "code",
   "execution_count": 4,
   "id": "70f6a4a6-6f94-45d5-97bf-76f7d0a223c0",
   "metadata": {},
   "outputs": [],
   "source": [
    "fs = ('V02_functions.gms', 'V02_sets.gms', 'V02_groups.gms', 'V02_blocks.gms', 'V02_groupsload.gms')\n",
    "files_path = {k: {'file_path': os.path.join(repo,k)} for k in fs}"
   ]
  },
  {
   "cell_type": "markdown",
   "id": "cf044c14-1522-49cb-9918-48bf5428e991",
   "metadata": {},
   "source": [
    "*The manual way, referring to string:*"
   ]
  },
  {
   "cell_type": "code",
   "execution_count": 5,
   "id": "63670809-b348-4f2b-b329-7b6b115c9242",
   "metadata": {},
   "outputs": [],
   "source": [
    "def read(x,path = repo):\n",
    "    with open(os.path.join(path,x), 'r') as f:\n",
    "        return f.read()\n",
    "files_string = {k: read(k) for k in fs}"
   ]
  },
  {
   "cell_type": "markdown",
   "id": "101a5902-7466-40af-996d-5afbd50155ea",
   "metadata": {},
   "source": [
    "*Either one can be added to the args. Using file names builds in a dependency on the files that persists if we store the ```GmsSettings``` instance for later use:*"
   ]
  },
  {
   "cell_type": "code",
   "execution_count": 6,
   "id": "4f616c4d-1cea-4f76-ae7c-d1211f713a7e",
   "metadata": {},
   "outputs": [],
   "source": [
    "s['args'] = files_path"
   ]
  },
  {
   "cell_type": "markdown",
   "id": "58e6b2b1-ce75-49da-9af3-c8564e7a8c19",
   "metadata": {},
   "source": [
    "The class uses the method ```self.write``` to write the components in ```self.args``` into a dictionary of strings. Depending on the argument, it might be processed by the Precompiler, or simply copying the text."
   ]
  },
  {
   "cell_type": "code",
   "execution_count": 7,
   "id": "35eb908c-b53c-46a6-b7c6-e6c5d016f8c6",
   "metadata": {},
   "outputs": [],
   "source": [
    "%%capture\n",
    "s.write()"
   ]
  },
  {
   "cell_type": "markdown",
   "id": "43378029-a59c-400a-bd02-15fa9fecfeb8",
   "metadata": {},
   "source": [
    "### 1.1.1 Precompiler settings"
   ]
  },
  {
   "cell_type": "markdown",
   "id": "45cf5015-704b-46c5-80bc-922bf5ee1fc3",
   "metadata": {},
   "source": [
    "It is important to note that the ```Precompiler``` does not have separate read/write methods: When it reads a file/text string in order to define groups and model blocks, it automatically writes the corresponding text that declare these: This means that if we apply the ```Precompiler``` to a file, it will produce one piece of text (declaring models/groups), but if we do it again (without resetting the Precompiler settings), it will behave differently, as it has already written definitions for the relevant groups/model blocks once. "
   ]
  },
  {
   "cell_type": "code",
   "execution_count": 8,
   "id": "3b860efc-cace-40dd-a5a3-c48d21c0fd8c",
   "metadata": {},
   "outputs": [
    {
     "name": "stdout",
     "output_type": "stream",
     "text": [
      "\n",
      "# Non-Technology groups:\n",
      "\n",
      "# ----------------------------------------G_V01_NT_endo_always----------------------------------------\n",
      "#  Initialize G_V01_NT_endo_always group\n",
      "# ----------------------------------------------------------------------------------------------------\n",
      "$offlisting\n",
      "VARIABLE pS[s,n] \"cost price index for outputs\";\n",
      "pS.L[s,n]$(V01_NT_out[s,n]) = 0;\n",
      "VARIABLE pD[s,n] \"cost price index for intermediates\";\n",
      "pD.L[s,n]$(V01_NT_int[s,n]) = 0;\n",
      "VARIABLE qD[s,n] \"demand for pure inputs outside Tech\";\n",
      "qD.L[s,n]$(V01_NT_x[s,n]) = 0;\n",
      "$onlisting\n",
      "\n",
      "\n",
      "# -----------------------------------------G\n"
     ]
    }
   ],
   "source": [
    "print(s['text']['V02_groups.gms'][0:600])"
   ]
  },
  {
   "cell_type": "code",
   "execution_count": 9,
   "id": "80815de1-d890-43ad-8564-2b5540763c38",
   "metadata": {},
   "outputs": [
    {
     "name": "stdout",
     "output_type": "stream",
     "text": [
      "\n",
      "# Non-Technology groups:\n",
      "\n",
      "# ----------------------------------------G_V01_NT_endo_always----------------------------------------\n",
      "#  Initialize G_V01_NT_endo_always group\n",
      "# ----------------------------------------------------------------------------------------------------\n",
      "$offlisting\n",
      "$onlisting\n",
      "\n",
      "\n",
      "# -----------------------------------------G_V01_NT_endo_base----------------------------------------\n"
     ]
    }
   ],
   "source": [
    "text = s.Precompiler(**files_path['V02_groups.gms'])\n",
    "print(text[0:400])"
   ]
  },
  {
   "cell_type": "markdown",
   "id": "965af773-f676-4f0b-9ab8-f9aab5df0cdf",
   "metadata": {},
   "source": [
    "Because of this feature of the ```Precompiler```, the ```self.write(reset=True)``` method automatically uses the setting ```reset=True```, which resets the Precompiler before processing the ```self.args```. Thus, re-running the ```self.write``` method produces the same result as the first time:"
   ]
  },
  {
   "cell_type": "code",
   "execution_count": 10,
   "id": "52807e00-ed1a-44e6-8f2b-cddeeabdced3",
   "metadata": {},
   "outputs": [
    {
     "name": "stdout",
     "output_type": "stream",
     "text": [
      "\n",
      "# Non-Technology groups:\n",
      "\n",
      "# ----------------------------------------G_V01_NT_endo_always----------------------------------------\n",
      "#  Initialize G_V01_NT_endo_always group\n",
      "# ----------------------------------------------------------------------------------------------------\n",
      "$offlisting\n",
      "VARIABLE pS[s,n] \"cost price index for outputs\";\n",
      "pS.L[s,n]$(V01_NT_out[s,n]) = 0;\n",
      "VARIABLE pD[s,n] \"cost price index for intermediates\";\n",
      "pD.L[s,n]$(V01_NT_int[s,n]) = 0;\n",
      "VARIABLE qD[s,n] \"demand for pure inputs outside Tech\";\n",
      "qD.L[s,n]$(V01_NT_x[s,n]) = 0;\n",
      "$onlisting\n",
      "\n",
      "\n",
      "# -----------------------------------------G\n"
     ]
    }
   ],
   "source": [
    "s.write()\n",
    "print(s['text']['V02_groups.gms'][0:600])"
   ]
  },
  {
   "cell_type": "markdown",
   "id": "7be9dce3-1116-4693-bf99-19b0a4352883",
   "metadata": {},
   "source": [
    "### 1.2. Model instances and run files"
   ]
  },
  {
   "cell_type": "markdown",
   "id": "d5d45043-aeba-482b-a31c-8e1024b8da26",
   "metadata": {},
   "source": [
    "So far, the gamY files does not include the \"run\" part of the gams code: This is the part of the code that (1) Fix/unfix relevant variables, (2) Define models from blocks of equations, and (3) Executes the solve statement. We can of course provide these using gamY files as well, or we can use the ```GmsSettings``` to write these arguments for us. To use class to write the run file for us, we need to specify the relevant information:"
   ]
  },
  {
   "cell_type": "markdown",
   "id": "e34bf807-ee18-4e8f-b709-4794c9d1b94e",
   "metadata": {},
   "source": [
    "*Specify endogenous groups, exogeonous groups, blocks:*"
   ]
  },
  {
   "cell_type": "code",
   "execution_count": 11,
   "id": "224a4515-0ab9-4a11-ac63-7ac0edfa514a",
   "metadata": {},
   "outputs": [],
   "source": [
    "s['g_endo'] = ['G_V01_NT_endo_always', 'G_V01_NT_endo_base', 'G_V01_T_endo_always', 'G_V01_T_endo_base', 'G_V01_ACC_endo_base']\n",
    "s['g_exo'] = ['G_V01_NT_exo_always', 'G_V01_NT_exo_base', 'G_V01_T_exo_always', 'G_V01_T_exo_base']\n",
    "s['blocks'] = ['M_V01_NT', 'M_V01_T_always', 'M_V01_T_base', 'M_V01_ACC']"
   ]
  },
  {
   "cell_type": "markdown",
   "id": "9c4b70d7-7f47-4108-9025-7978bd955400",
   "metadata": {},
   "source": [
    "*Note that per construction these settings are ordered sets (makes merging easier). Also, the slicing [] syntax uses a simple look-up in the ```self.states[self.state]```, for instance:*"
   ]
  },
  {
   "cell_type": "code",
   "execution_count": 12,
   "id": "498350c0-e99f-4ca5-8607-9e79c5cd1d34",
   "metadata": {},
   "outputs": [
    {
     "data": {
      "text/plain": [
       "True"
      ]
     },
     "execution_count": 12,
     "metadata": {},
     "output_type": "execute_result"
    }
   ],
   "source": [
    "s['g_endo'] is s.states[s.state]['g_endo']"
   ]
  },
  {
   "cell_type": "markdown",
   "id": "3dade387-cdf2-4dd6-ab4c-f2ce3d994288",
   "metadata": {},
   "source": [
    "*The name of the model in question is per construction the name of the GmsSettings instance + the relevant state. We can, however, also alter this if we want:*"
   ]
  },
  {
   "cell_type": "code",
   "execution_count": 13,
   "id": "da0656d8-12de-4acd-afce-57e99c5a0733",
   "metadata": {},
   "outputs": [
    {
     "data": {
      "text/plain": [
       "'Test1_B'"
      ]
     },
     "execution_count": 13,
     "metadata": {},
     "output_type": "execute_result"
    }
   ],
   "source": [
    "s['name'] = s.name +'_'+s.state # this is the way we define the standard name, so changes nothing here.\n",
    "s['name']"
   ]
  },
  {
   "cell_type": "markdown",
   "id": "c7305696-32d5-4d19-b0ee-d45a3fa2d87e",
   "metadata": {},
   "source": [
    "With these specifications, ```GmsWrite``` writes standard components for us, this includes fix, unfix, model, and solve statements:"
   ]
  },
  {
   "cell_type": "code",
   "execution_count": 14,
   "id": "32e2acdc-69fc-4770-9716-1589bc609695",
   "metadata": {},
   "outputs": [
    {
     "data": {
      "text/plain": [
       "dict_keys(['fix', 'unfix', 'model', 'solve'])"
      ]
     },
     "execution_count": 14,
     "metadata": {},
     "output_type": "execute_result"
    }
   ],
   "source": [
    "runargs = GmsWrite.standardRun_gamY(s)\n",
    "runargs.keys()"
   ]
  },
  {
   "cell_type": "markdown",
   "id": "58ca9367-f3bd-4599-aa9d-edafb1479173",
   "metadata": {},
   "source": [
    "*Note: The standard arguments here can be re-run by the Precompiler without resetting and still produce the same results:*"
   ]
  },
  {
   "cell_type": "code",
   "execution_count": 15,
   "id": "a995e4b2-3a28-4693-a222-8d0915e6e2f2",
   "metadata": {},
   "outputs": [
    {
     "data": {
      "text/plain": [
       "dict_keys(['root', 'V02_functions.gms', 'V02_sets.gms', 'V02_groups.gms', 'V02_blocks.gms', 'V02_groupsload.gms', 'fix', 'unfix', 'model', 'solve'])"
      ]
     },
     "execution_count": 15,
     "metadata": {},
     "output_type": "execute_result"
    }
   ],
   "source": [
    "s['args'].update(runargs)\n",
    "s.write()\n",
    "s['text'].keys()"
   ]
  },
  {
   "cell_type": "markdown",
   "id": "980fa972-f340-4b74-a120-854d679271aa",
   "metadata": {},
   "source": [
    "We can now run the model:"
   ]
  },
  {
   "cell_type": "code",
   "execution_count": 16,
   "id": "d6ee9e8c-7dd9-4c81-a481-1808bf352fff",
   "metadata": {},
   "outputs": [],
   "source": [
    "m = GmsPy.GmsModel(ws=d['work'],**{'cns': 'CONOPT4'}) # use CONOPT4 to solve CNS models.\n",
    "m.addlocal('V01_DB', db_str) # the gams code uses the placeholder %V01_DB% to load data. This directs it to the relevant database.\n",
    "m.run(run = '\\n'.join(s['text'].values()))"
   ]
  },
  {
   "cell_type": "markdown",
   "id": "3cecc754-4f3f-47ca-ab7a-e4960a5d522f",
   "metadata": {},
   "source": [
    "## Example 2: Use GpyDB + gamY"
   ]
  },
  {
   "cell_type": "markdown",
   "id": "1af97028-627c-4eef-83dc-0175c1b0764f",
   "metadata": {},
   "source": [
    "In this example, we use the ```GpyDB``` database to write gams text that declares variables. Obviously, if we already have gams code that does this (like in example 1), there is not anything to be gained here. So, we imagine that we have not yet written the files 'V02_sets.gms'. In this case, we need to specify the following inputs: "
   ]
  },
  {
   "cell_type": "code",
   "execution_count": 17,
   "id": "27e48717-1c51-46f5-bb2a-403d46ad2e06",
   "metadata": {},
   "outputs": [],
   "source": [
    "db = Database.GpyDB(db=db_str) # database used to declare symbols\n",
    "functions = read('V02_functions.gms') # read in file that declares functions\n",
    "declare_groups = read('V02_groups.gms') # read in file that declares groups\n",
    "blocks = read('V02_blocks.gms') # read in equations for model."
   ]
  },
  {
   "cell_type": "markdown",
   "id": "88c1d4a8-21c9-44bb-87f9-209ce1779a4b",
   "metadata": {},
   "source": [
    "Initialize settings:"
   ]
  },
  {
   "cell_type": "code",
   "execution_count": 18,
   "id": "983a5960-3107-42f1-9f25-8565f0ed20af",
   "metadata": {},
   "outputs": [],
   "source": [
    "s = GmsPy.GmsSettings(**{'name': 'Test2', 'db': db})\n",
    "s.Precompiler.locals = {'techtype': \"'logit'\"}"
   ]
  },
  {
   "cell_type": "markdown",
   "id": "f7fb8e38-0993-4388-94f4-fb941b609b7f",
   "metadata": {},
   "source": [
    "Specify the endogenous/exogenous groups, specify blocks of equations:"
   ]
  },
  {
   "cell_type": "code",
   "execution_count": 19,
   "id": "38225e10-105d-40f4-b639-5f58f7ac2e76",
   "metadata": {},
   "outputs": [],
   "source": [
    "s['g_endo'] = ['G_V01_NT_endo_always', 'G_V01_NT_endo_base', 'G_V01_T_endo_always', 'G_V01_T_endo_base', 'G_V01_ACC_endo_base']\n",
    "s['g_exo'] = ['G_V01_NT_exo_always', 'G_V01_NT_exo_base', 'G_V01_T_exo_always', 'G_V01_T_exo_base']\n",
    "s['blocks'] = ['M_V01_NT', 'M_V01_T_always', 'M_V01_T_base', 'M_V01_ACC']"
   ]
  },
  {
   "cell_type": "markdown",
   "id": "d09a0fe1-275b-48ac-b8df-363f9e95ba98",
   "metadata": {},
   "source": [
    "We can now collect a standard selection of 'args':"
   ]
  },
  {
   "cell_type": "code",
   "execution_count": 20,
   "id": "63d9cdd2-7d02-45f8-a3aa-9eda8a20f941",
   "metadata": {},
   "outputs": [
    {
     "data": {
      "text/plain": [
       "dict_keys(['root', 'Test2_functions', 'Test2_declare', 'Test2_declare_groups', 'Test2_load_groups', 'Test2_blocks', 'Test2_B_fix', 'Test2_B_unfix', 'Test2_B_model', 'Test2_B_solve'])"
      ]
     },
     "execution_count": 20,
     "metadata": {},
     "output_type": "execute_result"
    }
   ],
   "source": [
    "s['args'] = s.stdArgs_gamY(blocks=blocks,functions=functions,declare_groups=declare_groups)\n",
    "s['args'].keys()"
   ]
  },
  {
   "cell_type": "markdown",
   "id": "42776b0f-fd16-4903-806c-782eb0ab8f3a",
   "metadata": {},
   "source": [
    "To solve the model, we simply use the ```self.write``` method again:"
   ]
  },
  {
   "cell_type": "code",
   "execution_count": 21,
   "id": "afb6f61f-ae09-4717-8159-0a2f50d8968e",
   "metadata": {},
   "outputs": [],
   "source": [
    "%%capture\n",
    "s.write()"
   ]
  },
  {
   "cell_type": "markdown",
   "id": "692a4317-36cb-45eb-b71e-bcbf06931f82",
   "metadata": {},
   "source": [
    "And set up model and solve:"
   ]
  },
  {
   "cell_type": "code",
   "execution_count": 22,
   "id": "3e434e2b-96f7-4f4c-bc5e-d13d97220ca4",
   "metadata": {},
   "outputs": [],
   "source": [
    "m = GmsPy.GmsModel(ws=d['work'],**{'cns': 'CONOPT4'}) # use CONOPT4 to solve CNS models.\n",
    "m.addlocal(db.name, db_str)\n",
    "m.run(run = '\\n'.join(s['text'].values()))"
   ]
  },
  {
   "cell_type": "markdown",
   "id": "7912d771-a6fc-4cb4-8836-b92371a57f31",
   "metadata": {},
   "source": [
    "## Example 3: Use GpyDB + ```self.Compile```"
   ]
  },
  {
   "cell_type": "markdown",
   "id": "756c77e2-22a3-4c3d-b210-5d8cf19b5218",
   "metadata": {},
   "source": [
    "In this example, we use the class ```_GmsPy.Compile``` to define the groups of variables. This can be a bit more cumbersome to do, as we specify them using nested dictionaries instead of plain text. However, it has the advantage that it can be processed in Python, which allows us to subset pandas objects using them. "
   ]
  },
  {
   "cell_type": "markdown",
   "id": "18961d1a-f06f-448f-983f-170fb9c89d91",
   "metadata": {},
   "source": [
    "Specify groups:"
   ]
  },
  {
   "cell_type": "code",
   "execution_count": 23,
   "id": "97cece5a-6aba-4641-9d1c-1e5538ad173c",
   "metadata": {},
   "outputs": [],
   "source": [
    "g1 = GmsPy.Group('G_V01_NT_endo_always', v = [('pS', db['V01_NT_out']),\n",
    "                                        ('pD', db['V01_NT_int']),\n",
    "                                        ('qD', db['V01_NT_x'])])\n",
    "g2 = GmsPy.Group('G_V01_NT_endo_base', v = [('qD', db['V01_NT_int']),\n",
    "                                      ('qD', ('and', [db['V01_NT_inp'], ('not', db['V01_NT_x'])]))])\n",
    "g3 = GmsPy.Group('G_V01_NT_exo_always', v = [('sigma', db['V01_NT_int']),\n",
    "                                       ('sigma', db['V01_NT_out']),\n",
    "                                       ('pD', db['V01_inp']),\n",
    "                                       ('qS', db['V01_NT_out'])])\n",
    "g4 = GmsPy.Group('G_V01_NT_exo_base', v = [('mu', db['V01_NT_map'])])\n",
    "g5 = GmsPy.Group('G_V01_T_endo_always', v = [('lambda', db['V01_ES']),\n",
    "                                       ('pD', db['V01_ES'])])\n",
    "g6 = GmsPy.Group('G_V01_T_endo_base', v = [('qD', db['V01_T']),\n",
    "                                     ('pD', db['V01_T'])])\n",
    "g7 = GmsPy.Group('G_V01_T_exo_always', v = [('theta', db['V01_T']),\n",
    "                                      ('mu', ('and', [db['V01_inp2T'], ('not', db['V01_dur'])])),\n",
    "                                      ('sigma', db['V01_ES']),\n",
    "                                      ('mu', db['V01_T2ESNorm'])])\n",
    "g8 = GmsPy.Group('G_V01_T_exo_base', v = [('mu', ('and', [db['V01_T2ES'], ('not', db['V01_T2ESNorm'])])),\n",
    "                                    ('mu', ('and', [db['V01_inp2T'], db['V01_dur']]))])\n",
    "g9 = GmsPy.Group('G_V01_ACC_endo_base', v = [('qD', db['V01_inp'])])"
   ]
  },
  {
   "cell_type": "markdown",
   "id": "e140a537-f440-4cf3-ad77-4aca7d7581de",
   "metadata": {},
   "source": [
    "Initialize settings with groups:"
   ]
  },
  {
   "cell_type": "code",
   "execution_count": 24,
   "id": "2d52cbc2-d198-49d3-be07-ded7d0e76554",
   "metadata": {},
   "outputs": [],
   "source": [
    "s = GmsPy.GmsSettings(**{'name': 'Test3', 'db': db, 'groups': {g.name: g for g in (g1,g2,g3,g4,g5,g6,g7,g8,g9)}})\n",
    "s.Compile.run()\n",
    "s.Precompiler.locals = {'techtype': \"'logit'\"}"
   ]
  },
  {
   "cell_type": "markdown",
   "id": "5fb89e99-8a1d-4e05-90dd-32d8c91c6406",
   "metadata": {},
   "source": [
    "Specify functions and blocks:"
   ]
  },
  {
   "cell_type": "code",
   "execution_count": 25,
   "id": "ec164e76-c4d0-41a9-a004-619fdd3d62b8",
   "metadata": {},
   "outputs": [],
   "source": [
    "functions = read('V02_functions.gms') # read in file that declares functions\n",
    "blocks = read('V02_blocks.gms') # read in equations for model."
   ]
  },
  {
   "cell_type": "markdown",
   "id": "9714f621-9e41-41be-938a-99d66a0bd253",
   "metadata": {},
   "source": [
    "Specify the endogenous/exogenous groups, specify blocks of equations:"
   ]
  },
  {
   "cell_type": "code",
   "execution_count": 26,
   "id": "03510cf9-a878-4dc8-94fb-eb0ba9dc84a5",
   "metadata": {},
   "outputs": [],
   "source": [
    "s['g_endo'] = ['G_V01_NT_endo_always', 'G_V01_NT_endo_base', 'G_V01_T_endo_always', 'G_V01_T_endo_base', 'G_V01_ACC_endo_base']\n",
    "s['g_exo'] = ['G_V01_NT_exo_always', 'G_V01_NT_exo_base', 'G_V01_T_exo_always', 'G_V01_T_exo_base']\n",
    "s['blocks'] = ['M_V01_NT', 'M_V01_T_always', 'M_V01_T_base', 'M_V01_ACC']"
   ]
  },
  {
   "cell_type": "markdown",
   "id": "4c302311-c8ab-4371-8d74-851f4ec77b61",
   "metadata": {},
   "source": [
    "We can now collect a standard selection of arguments:"
   ]
  },
  {
   "cell_type": "code",
   "execution_count": 27,
   "id": "c3527f09-214f-453a-8411-4bf2886c9aa3",
   "metadata": {},
   "outputs": [
    {
     "data": {
      "text/plain": [
       "dict_keys(['root', 'Test3_functions', 'Test3_declare', 'Test3_blocks', 'Test3_B_fix', 'Test3_B_unfix', 'Test3_B_model', 'Test3_B_solve'])"
      ]
     },
     "execution_count": 27,
     "metadata": {},
     "output_type": "execute_result"
    }
   ],
   "source": [
    "s['args'] = s.stdArgs(blocks=blocks,functions=functions)\n",
    "s['args'].keys()"
   ]
  },
  {
   "cell_type": "markdown",
   "id": "4a19a9cb-8ce2-42ba-8a7b-4786615dd3bd",
   "metadata": {},
   "source": [
    "To solve the model, we simply use the ```self.write``` method again:"
   ]
  },
  {
   "cell_type": "code",
   "execution_count": 28,
   "id": "332c19b4-e66a-43bd-883a-28015bd98488",
   "metadata": {},
   "outputs": [],
   "source": [
    "%%capture\n",
    "s.write()"
   ]
  },
  {
   "cell_type": "markdown",
   "id": "c0a7783f-600a-4370-9d03-5bdbe3fa8f92",
   "metadata": {},
   "source": [
    "And set up model and solve:"
   ]
  },
  {
   "cell_type": "code",
   "execution_count": 29,
   "id": "fd14cf27-e6cf-4892-a5fa-3a2225735679",
   "metadata": {},
   "outputs": [],
   "source": [
    "m = GmsPy.GmsModel(ws=d['work'],**{'cns': 'CONOPT4'}) # use CONOPT4 to solve CNS models.\n",
    "m.addlocal(db.name, db_str)\n",
    "m.run(run = '\\n'.join(s['text'].values()))"
   ]
  }
 ],
 "metadata": {
  "kernelspec": {
   "display_name": "Python 3 (ipykernel)",
   "language": "python",
   "name": "python3"
  },
  "language_info": {
   "codemirror_mode": {
    "name": "ipython",
    "version": 3
   },
   "file_extension": ".py",
   "mimetype": "text/x-python",
   "name": "python",
   "nbconvert_exporter": "python",
   "pygments_lexer": "ipython3",
   "version": "3.9.7"
  }
 },
 "nbformat": 4,
 "nbformat_minor": 5
}
