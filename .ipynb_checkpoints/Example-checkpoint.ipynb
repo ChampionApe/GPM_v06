{
 "cells": [
  {
   "cell_type": "code",
   "execution_count": 1,
   "id": "b030b477-0934-4a9e-bed9-023afc7d95f6",
   "metadata": {},
   "outputs": [
    {
     "name": "stdout",
     "output_type": "stream",
     "text": [
      "No clean-up of work-folder\n"
     ]
    }
   ],
   "source": [
    "%run StdPackages.ipynb"
   ]
  },
  {
   "cell_type": "code",
   "execution_count": 2,
   "id": "56bc71af-2ca5-4fbf-953f-bc22daf9fa2f",
   "metadata": {},
   "outputs": [],
   "source": [
    "db = Database.GpyDB(db=os.path.join(d['main'],'gams\\\\AbatementExample\\\\V01_DB.gdx'))"
   ]
  },
  {
   "cell_type": "markdown",
   "id": "9d980a1d-62d5-4448-a7a0-53bf7bbbb086",
   "metadata": {},
   "source": [
    "*Load classes:*"
   ]
  },
  {
   "cell_type": "code",
   "execution_count": 3,
   "id": "f6854a1b-517c-46d8-87a5-372a6344cb69",
   "metadata": {},
   "outputs": [],
   "source": [
    "os.chdir(d['py'])\n",
    "from GmsPy import Group, OrdSet, Compile\n",
    "os.chdir(d['curr'])"
   ]
  },
  {
   "cell_type": "markdown",
   "id": "883f9d9c-c3c6-4588-a0d1-694a2dff06b9",
   "metadata": {},
   "source": [
    "### Define groups:"
   ]
  },
  {
   "cell_type": "markdown",
   "id": "ee0040b0-2bae-42ac-b597-d5f2f72a2c3f",
   "metadata": {},
   "source": [
    "Groups defined in 'V01_groups.gms':"
   ]
  },
  {
   "cell_type": "code",
   "execution_count": 4,
   "id": "a0ffd695-8e8c-4f3c-9593-25906dc07e06",
   "metadata": {},
   "outputs": [],
   "source": [
    "g1 = Group('G_V01_NT_endo_always', v = [('pS', db['V01_NT_out']),\n",
    "                                        ('pD', db['V01_NT_int']),\n",
    "                                        ('qD', db['V01_NT_x'])])\n",
    "g2 = Group('G_V01_NT_endo_base', v = [('qD', db['V01_NT_int']),\n",
    "                                      ('qD', ('and', [db['V01_NT_inp'], ('not', db['V01_NT_x'])]))])\n",
    "g3 = Group('G_V01_NT_exo_always', v = [('sigma', db['V01_NT_int']),\n",
    "                                       ('sigma', db['V01_NT_out']),\n",
    "                                       ('pD', db['V01_inp']),\n",
    "                                       ('qS', db['V01_NT_out'])])\n",
    "g4 = Group('G_V01_NT_exo_base', v = [('mu', db['V01_NT_map'])])\n",
    "g5 = Group('G_V01_T_endo_always', v = [('lambda', db['V01_ES']),\n",
    "                                       ('pD', db['V01_ES'])])\n",
    "g6 = Group('G_V01_T_endo_base', v = [('qD', db['V01_T']),\n",
    "                                     ('pD', db['V01_T'])])\n",
    "g7 = Group('G_V01_T_exo_always', v = [('theta', db['V01_T']),\n",
    "                                      ('mu', ('and', [db['V01_inp2T'], ('not', db['V01_dur'])])),\n",
    "                                      ('sigma', db['V01_ES']),\n",
    "                                      ('mu', db['V01_T2ESNorm'])])\n",
    "g8 = Group('G_V01_T_exo_base', v = [('mu', ('and', [db['V01_T2ES'], ('not', db['V01_T2ESNorm'])])),\n",
    "                                    ('mu', ('and', [db['V01_inp2T'], db['V01_dur']]))])\n",
    "g9 = Group('G_V01_ACC_endo_base', v = [('qD', db['V01_inp'])])"
   ]
  },
  {
   "cell_type": "markdown",
   "id": "f09891f1-bae3-43ab-910b-7e74b61a20e7",
   "metadata": {},
   "source": [
    "Collect groups:"
   ]
  },
  {
   "cell_type": "code",
   "execution_count": 5,
   "id": "27ec0a8c-5363-4a2c-9aae-57211459c995",
   "metadata": {},
   "outputs": [],
   "source": [
    "groups = {g.name: g.compile({}) for g in (g1,g2,g3,g4,g5,g6,g7,g8,g9)}"
   ]
  },
  {
   "cell_type": "markdown",
   "id": "5d5ddcf1-2143-4868-b987-688ad73ef88e",
   "metadata": {},
   "source": [
    "Compiler:"
   ]
  },
  {
   "cell_type": "code",
   "execution_count": 6,
   "id": "0d90e877-721b-47bc-8830-d0b2940a77d7",
   "metadata": {},
   "outputs": [],
   "source": [
    "c = Compile(groups,db)"
   ]
  },
  {
   "cell_type": "markdown",
   "id": "bbf739a0-4f1d-4a8b-9af3-6c64d683c875",
   "metadata": {},
   "source": [
    "*Test group:*"
   ]
  },
  {
   "cell_type": "code",
   "execution_count": 7,
   "id": "0872d46e-f0f5-4767-9426-192fd8f72432",
   "metadata": {},
   "outputs": [],
   "source": [
    "g = groups['G_V01_NT_exo_always']"
   ]
  },
  {
   "cell_type": "markdown",
   "id": "34af8bd4-b6fb-49b0-9fa0-23896117018d",
   "metadata": {},
   "source": [
    "Declaration of variables:"
   ]
  },
  {
   "cell_type": "code",
   "execution_count": 8,
   "id": "01a6ce7c-880a-4b39-8187-0852f341a17d",
   "metadata": {},
   "outputs": [
    {
     "name": "stdout",
     "output_type": "stream",
     "text": [
      "variable sigma[s,n];\n",
      "variable pD[s,n];\n",
      "variable qS[s,n];\n"
     ]
    }
   ],
   "source": [
    "print(c.declareGroupText(g,db))"
   ]
  },
  {
   "cell_type": "markdown",
   "id": "8449b246-2248-4944-bba9-d1098348a99c",
   "metadata": {},
   "source": [
    "Fixing/unfixing a group:"
   ]
  },
  {
   "cell_type": "code",
   "execution_count": 9,
   "id": "5a415024-60c2-4f29-9722-daeb7983a5c1",
   "metadata": {},
   "outputs": [
    {
     "name": "stdout",
     "output_type": "stream",
     "text": [
      "sigma.fx[s,n]$((V01_NT_int[s,n] or V01_NT_out[s,n])) = sigma.l[s,n];\n",
      "pD.fx[s,n]$(V01_inp[s,n]) = pD.l[s,n];\n",
      "qS.fx[s,n]$(V01_NT_out[s,n]) = qS.l[s,n];\n"
     ]
    }
   ],
   "source": [
    "print(c.fixGroupText(g,db))"
   ]
  },
  {
   "cell_type": "code",
   "execution_count": 10,
   "id": "d9c78095-158c-4fa9-aa1c-00c005fb7775",
   "metadata": {},
   "outputs": [
    {
     "name": "stdout",
     "output_type": "stream",
     "text": [
      "sigma.lo[s,n]$((V01_NT_int[s,n] or V01_NT_out[s,n])) = -inf;\n",
      "sigma.up[s,n]$((V01_NT_int[s,n] or V01_NT_out[s,n])) = inf;\n",
      "pD.lo[s,n]$(V01_inp[s,n]) = -inf;\n",
      "pD.up[s,n]$(V01_inp[s,n]) = inf;\n",
      "qS.lo[s,n]$(V01_NT_out[s,n]) = -inf;\n",
      "qS.up[s,n]$(V01_NT_out[s,n]) = inf;\n"
     ]
    }
   ],
   "source": [
    "print(c.unfixGroupText(g,db))"
   ]
  },
  {
   "cell_type": "markdown",
   "id": "6ae446f4-a8f7-4e4c-a83a-ad048e34ca05",
   "metadata": {},
   "source": [
    "### Define blocks:"
   ]
  },
  {
   "cell_type": "markdown",
   "id": "d9b08b11-f191-4a42-bf5e-95b07e14d89d",
   "metadata": {},
   "source": [
    "Each equation is defined by the following attributes:\n",
    "* Name: Name of the equation.\n",
    "* Sets: Sets of the equation.\n",
    "* Conditions: Subsetting the equation.\n",
    "* LHS: Text, lhs of equation.\n",
    "* eqtype: Type of equation belongs to ('e','g','l','n','x','c','b').\n",
    "* RHS: Text, rhs of equation."
   ]
  },
  {
   "cell_type": "code",
   "execution_count": 21,
   "id": "0cc94ca3-f764-4bdb-9e92-0eda2f8445a5",
   "metadata": {},
   "outputs": [],
   "source": [
    "import dreamtools\n",
    "from dreamtools.gamY import Precompiler\n",
    "CaseInsensitiveDict = dreamtools.gamY.classes.CaseInsensitiveDict"
   ]
  },
  {
   "cell_type": "code",
   "execution_count": 22,
   "id": "875df69d-43d9-4eb9-a825-55d46f3d3729",
   "metadata": {},
   "outputs": [
    {
     "data": {
      "text/plain": [
       "{'all': {}}"
      ]
     },
     "execution_count": 22,
     "metadata": {},
     "output_type": "execute_result"
    }
   ],
   "source": [
    "CaseInsensitiveDict({\"all\": {}})"
   ]
  }
 ],
 "metadata": {
  "kernelspec": {
   "display_name": "Python 3 (ipykernel)",
   "language": "python",
   "name": "python3"
  },
  "language_info": {
   "codemirror_mode": {
    "name": "ipython",
    "version": 3
   },
   "file_extension": ".py",
   "mimetype": "text/x-python",
   "name": "python",
   "nbconvert_exporter": "python",
   "pygments_lexer": "ipython3",
   "version": "3.9.7"
  }
 },
 "nbformat": 4,
 "nbformat_minor": 5
}
