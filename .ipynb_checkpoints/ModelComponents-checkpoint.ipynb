{
 "cells": [
  {
   "cell_type": "code",
   "execution_count": 1,
   "id": "359f3feb-5419-4110-bd85-a7b0fee8b105",
   "metadata": {},
   "outputs": [
    {
     "name": "stdout",
     "output_type": "stream",
     "text": [
      "No clean-up of work-folder\n"
     ]
    }
   ],
   "source": [
    "%run StdPackages.ipynb"
   ]
  },
  {
   "cell_type": "code",
   "execution_count": 2,
   "id": "4afc0222-53f2-4c6d-85f5-d339b6450d2b",
   "metadata": {},
   "outputs": [],
   "source": [
    "db = Database.GpyDB(db=os.path.join(d['main'],'gams\\\\AbatementExample\\\\V01_DB.gdx'))"
   ]
  },
  {
   "cell_type": "markdown",
   "id": "e466d88b-d3da-44b9-ab80-cc0e31bb4df0",
   "metadata": {},
   "source": [
    "*Load classes:*"
   ]
  },
  {
   "cell_type": "code",
   "execution_count": 3,
   "id": "fd365bdf-3152-4872-be4f-44276c7332db",
   "metadata": {},
   "outputs": [],
   "source": [
    "os.chdir(d['py'])\n",
    "from GmsPy import Group\n",
    "os.chdir(d['curr'])"
   ]
  },
  {
   "cell_type": "markdown",
   "id": "d3618d4c-3fdc-41e4-b560-1510760d8268",
   "metadata": {
    "tags": []
   },
   "source": [
    "# Model components"
   ]
  },
  {
   "cell_type": "markdown",
   "id": "bb731510-e555-42ed-9201-e4c05980816b",
   "metadata": {},
   "source": [
    "### Grouping of variables"
   ]
  },
  {
   "cell_type": "markdown",
   "id": "15c61729-8b38-4985-919c-4b31d2102630",
   "metadata": {},
   "source": [
    "The class ```GmsPy.Group``` specifies how to define groupings of variables. We can define groups of variables using four attributes:\n",
    "* ```self.v```: List of tuples. Each tuple is length 2, with first element indicating the variable, the second indicating the condition on that variable.\n",
    "* ```self.g```: Ordered set. Each element is a string referencing other groups to be included.\n",
    "* ```self.neg_v```: List of tuples akin to ```self.v```. Each element is subtracted from the group.\n",
    "* ```sef.neg_g```: Ordered set. Each element is a string referencing another group that is subtracted.\n",
    "\n",
    "When specifying variables, the conditions should conform to the form used in ```DBWheels_rc``` and ```GmsPyWheels_write```.\n",
    "\n",
    "*NB: As groups can depend on other groups, it can be important to process groups in the right order.*"
   ]
  },
  {
   "cell_type": "code",
   "execution_count": 4,
   "id": "01ff64a6-122d-4505-ab1a-30e27b51cc38",
   "metadata": {},
   "outputs": [],
   "source": [
    "groups = {}"
   ]
  },
  {
   "cell_type": "markdown",
   "id": "ec7ed3d1-2e07-41fe-80ca-7613d56fe785",
   "metadata": {},
   "source": [
    "#### Add a group specified as a list of tuples"
   ]
  },
  {
   "cell_type": "markdown",
   "id": "a41f39a9-29c4-4e3e-bd49-3116b1b22105",
   "metadata": {},
   "source": [
    "Specify the list of tuples and initialize a group:"
   ]
  },
  {
   "cell_type": "code",
   "execution_count": 5,
   "id": "1159398f-53f4-4c0f-b13a-19d18b1e957a",
   "metadata": {},
   "outputs": [],
   "source": [
    "g1 = Group('g1', v = [('theta',db['V01_T']), \n",
    "                      ('mu', ('and', [db['V01_inp2T'], ('not', db['V01_dur'])])),\n",
    "                      ('sigma', db['V01_T2ESNorm'])])"
   ]
  },
  {
   "cell_type": "markdown",
   "id": "2ff62447-3fbb-4e71-a719-40b7fb30acff",
   "metadata": {},
   "source": [
    "Compile:"
   ]
  },
  {
   "cell_type": "code",
   "execution_count": 6,
   "id": "3f0ed97d-d9ec-49ff-b70a-8cb69b2a4112",
   "metadata": {},
   "outputs": [
    {
     "data": {
      "text/plain": [
       "{'theta': [<_Database.gpy at 0x23b2ddc3c70>],\n",
       " 'mu': [('and',\n",
       "   [<_Database.gpy at 0x23b2ddc3bb0>,\n",
       "    ('not', <_Database.gpy at 0x23b2ddc38b0>)])],\n",
       " 'sigma': [<_Database.gpy at 0x23b2ddc86a0>]}"
      ]
     },
     "execution_count": 6,
     "metadata": {},
     "output_type": "execute_result"
    }
   ],
   "source": [
    "groups[g1.name] = g1.compile(groups)\n",
    "g1.out"
   ]
  },
  {
   "cell_type": "markdown",
   "id": "d85e127f-ff61-4a95-852f-85a76030dcfe",
   "metadata": {},
   "source": [
    "#### Add a group specified by referencing a group and variables"
   ]
  },
  {
   "cell_type": "markdown",
   "id": "641a2456-9d57-4ba5-8484-4723edd0b9b3",
   "metadata": {},
   "source": [
    "Specify list of variables + reference group 'g1'. This adds a variable 'mu' and the conditional of the mapping 'V01_NT_inp' that has been aliased with 'n','nn'. A preview of what will eventually be written:"
   ]
  },
  {
   "cell_type": "code",
   "execution_count": 7,
   "id": "275ad55e-97ed-4a74-849e-7918a59d2be8",
   "metadata": {},
   "outputs": [
    {
     "data": {
      "text/plain": [
       "'V01_NT_inp[s,nn]'"
      ]
     },
     "execution_count": 7,
     "metadata": {},
     "output_type": "execute_result"
    }
   ],
   "source": [
    "c = {'s': db['V01_NT_inp'], 'alias': {'n':'nn'}}\n",
    "write_gpy(**c)"
   ]
  },
  {
   "cell_type": "code",
   "execution_count": 8,
   "id": "a187b552-be56-4f50-b449-3cc4fe0ee6d4",
   "metadata": {},
   "outputs": [],
   "source": [
    "g2 = Group('g2', v = [('mu',c)], g=['g1'])"
   ]
  },
  {
   "cell_type": "markdown",
   "id": "fd9819c3-9ee5-4391-8744-e78e31da714a",
   "metadata": {},
   "source": [
    "Compile:"
   ]
  },
  {
   "cell_type": "code",
   "execution_count": 9,
   "id": "1e0fbeaa-8d31-499d-935d-a765d6c81389",
   "metadata": {},
   "outputs": [
    {
     "data": {
      "text/plain": [
       "{'mu': [{'s': <_Database.gpy at 0x23b2dd7e940>, 'alias': {'n': 'nn'}},\n",
       "  ('and',\n",
       "   [<_Database.gpy at 0x23b2ddc3bb0>,\n",
       "    ('not', <_Database.gpy at 0x23b2ddc38b0>)])],\n",
       " 'theta': [<_Database.gpy at 0x23b2ddc3c70>],\n",
       " 'sigma': [<_Database.gpy at 0x23b2ddc86a0>]}"
      ]
     },
     "execution_count": 9,
     "metadata": {},
     "output_type": "execute_result"
    }
   ],
   "source": [
    "groups[g2.name] = g2.compile(groups)\n",
    "groups[g2.name].out"
   ]
  },
  {
   "cell_type": "markdown",
   "id": "12982f75-f6fb-4590-996e-6746c162c13f",
   "metadata": {},
   "source": [
    "#### Subtract a group"
   ]
  },
  {
   "cell_type": "markdown",
   "id": "5176466e-a0a2-4db3-b62d-a4e06547a179",
   "metadata": {},
   "source": [
    "Define a group as the group 'g2', but extract 'g1':"
   ]
  },
  {
   "cell_type": "code",
   "execution_count": 10,
   "id": "794d27dc-1985-4b1e-b87a-5923db63d5e7",
   "metadata": {},
   "outputs": [],
   "source": [
    "g3 = Group('g3', g = ['g2'], neg_g = ['g1'])"
   ]
  },
  {
   "cell_type": "markdown",
   "id": "59eb1691-b411-498e-b770-d687e3e0ebc4",
   "metadata": {},
   "source": [
    "Compile:"
   ]
  },
  {
   "cell_type": "code",
   "execution_count": 11,
   "id": "c5ce3d5e-c6d7-4e35-83ab-5a1fdbb3f0dc",
   "metadata": {},
   "outputs": [
    {
     "data": {
      "text/plain": [
       "{'mu': [{'s': <_Database.gpy at 0x23b2dd7e940>, 'alias': {'n': 'nn'}}]}"
      ]
     },
     "execution_count": 11,
     "metadata": {},
     "output_type": "execute_result"
    }
   ],
   "source": [
    "groups[g3.name] = g3.compile(groups)\n",
    "groups[g3.name].out"
   ]
  },
  {
   "cell_type": "code",
   "execution_count": 12,
   "id": "030e77de-a83d-4419-8087-424d2b0f2690",
   "metadata": {},
   "outputs": [
    {
     "data": {
      "text/plain": [
       "{}"
      ]
     },
     "execution_count": 12,
     "metadata": {},
     "output_type": "execute_result"
    }
   ],
   "source": [
    "groups[g3.name].out_neg"
   ]
  },
  {
   "cell_type": "markdown",
   "id": "6b2738c1-ac3c-4234-88f4-d0af073e6b8a",
   "metadata": {},
   "source": [
    "#### Subtract a group and a variable:"
   ]
  },
  {
   "cell_type": "code",
   "execution_count": 13,
   "id": "39cca952-f1cf-4bbc-a6f8-cfb1d66938d1",
   "metadata": {},
   "outputs": [],
   "source": [
    "g4 = Group('g4', g = ['g2'], neg_g = ['g1'], neg_v = [('mu', db['V01_NT_inp'])])"
   ]
  },
  {
   "cell_type": "markdown",
   "id": "2b1455c7-14d7-47c7-aa57-5acf8168aed7",
   "metadata": {},
   "source": [
    "Compile:"
   ]
  },
  {
   "cell_type": "code",
   "execution_count": 14,
   "id": "a27d2566-80ad-46ed-8e10-29244a594370",
   "metadata": {},
   "outputs": [
    {
     "data": {
      "text/plain": [
       "({'mu': [{'s': <_Database.gpy at 0x23b2dd7e940>, 'alias': {'n': 'nn'}}]},\n",
       " {'mu': [<_Database.gpy at 0x23b2dd7e940>]})"
      ]
     },
     "execution_count": 14,
     "metadata": {},
     "output_type": "execute_result"
    }
   ],
   "source": [
    "groups[g4.name] = g4.compile(groups)\n",
    "groups[g4.name].out, g4.out_neg"
   ]
  },
  {
   "cell_type": "markdown",
   "id": "a10eff19-4482-45fe-bc83-40330a75e7a7",
   "metadata": {},
   "source": [
    "#### Collect conditions from a group:"
   ]
  },
  {
   "cell_type": "markdown",
   "id": "18176ac8-fda2-4f07-903d-0d427b1408f8",
   "metadata": {},
   "source": [
    "The ```self.compile``` creates a dictionary of conditions to apply (```self.out```) and conditions to negate and apply (```self.out_neg```). The two are combined into one dictionary of nested conditions using the ```self.conditions``` property. These can be processed using e.g. the ```write_gpy``` method:"
   ]
  },
  {
   "cell_type": "code",
   "execution_count": 15,
   "id": "3f87da5d-754c-42d1-993c-0d36abcd7b12",
   "metadata": {},
   "outputs": [
    {
     "name": "stdout",
     "output_type": "stream",
     "text": [
      "Text for group g1:\n",
      "\ttheta[s,n]$(V01_T[s,n])\n",
      "\tmu[s,n,nn]$((V01_inp2T[s,n,nn] and ( not (V01_dur[s,n]))))\n",
      "\tsigma[s,n]$(V01_T2ESNorm[s,n,nn])\n",
      "Text for group g2:\n",
      "\tmu[s,n,nn]$((V01_NT_inp[s,nn] or (V01_inp2T[s,n,nn] and ( not (V01_dur[s,n])))))\n",
      "\ttheta[s,n]$(V01_T[s,n])\n",
      "\tsigma[s,n]$(V01_T2ESNorm[s,n,nn])\n",
      "Text for group g3:\n",
      "\tmu[s,n,nn]$(V01_NT_inp[s,nn])\n",
      "Text for group g4:\n",
      "\tmu[s,n,nn]$((V01_NT_inp[s,nn] and ( not (V01_NT_inp[s,n]))))\n"
     ]
    }
   ],
   "source": [
    "for g in groups.values():\n",
    "    print(f\"Text for group {g.name}:\")\n",
    "    for k,v in g.conditions.items():\n",
    "        print(f\"\\t{write_gpy(db[k],c=v)}\")"
   ]
  }
 ],
 "metadata": {
  "kernelspec": {
   "display_name": "Python 3 (ipykernel)",
   "language": "python",
   "name": "python3"
  },
  "language_info": {
   "codemirror_mode": {
    "name": "ipython",
    "version": 3
   },
   "file_extension": ".py",
   "mimetype": "text/x-python",
   "name": "python",
   "nbconvert_exporter": "python",
   "pygments_lexer": "ipython3",
   "version": "3.9.7"
  }
 },
 "nbformat": 4,
 "nbformat_minor": 5
}
