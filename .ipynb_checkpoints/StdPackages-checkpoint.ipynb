{
 "cells": [
  {
   "cell_type": "code",
   "execution_count": 2,
   "metadata": {},
   "outputs": [],
   "source": [
    "import os, gams, pandas as pd, numpy as np, gams2numpy, shutil,pickle\n",
    "repo = 'GPM_v06'\n",
    "d = {'main': f\"{os.getcwd().split(repo)[0]}{repo}\"}\n",
    "d.update({'curr': os.getcwd(),\n",
    "          'py': f\"{d['main']}\\\\GPM\", \n",
    "          'data': f\"{d['main']}\\\\Data\", \n",
    "          'work': f\"{d['main']}\\\\work_folder\"}) \n",
    "os.chdir(d['py'])\n",
    "import Database, GmsPy, GmsWrite, NestingTree\n",
    "from DBWheels_rc import rc_pd, rc_AdjGpy\n",
    "from GmsWrite import write_gpy, write_from_db,write_root\n",
    "os.chdir(d['curr'])"
   ]
  },
  {
   "cell_type": "markdown",
   "metadata": {},
   "source": [
    "*Clean up working folder:*"
   ]
  },
  {
   "cell_type": "code",
   "execution_count": 2,
   "metadata": {},
   "outputs": [
    {
     "name": "stdout",
     "output_type": "stream",
     "text": [
      "No clean-up of work-folder\n"
     ]
    }
   ],
   "source": [
    "try:\n",
    "    if clean_up is True:\n",
    "        temp_gamsdb = [filename for filename in os.listdir(d['work']) if filename.endswith((\".gdx\",\".gms\",\".lst\",\".g00\",\".pf\",\".opt\",\".gmy\"))]\n",
    "        for temp in temp_gamsdb:\n",
    "            try:\n",
    "                os.remove(d['work']+'\\\\'+temp)\n",
    "            except OSError as err:\n",
    "                print('The file' + temp + ' is still active and was not deleted.')\n",
    "except NameError:\n",
    "    print('No clean-up of work-folder')"
   ]
  },
  {
   "cell_type": "markdown",
   "metadata": {},
   "source": [
    "*Plotting:*"
   ]
  },
  {
   "cell_type": "code",
   "execution_count": 2,
   "metadata": {},
   "outputs": [],
   "source": [
    "import matplotlib as mpl, matplotlib.pyplot as plt\n",
    "%matplotlib inline\n",
    "plt.style.use('seaborn-whitegrid')\n",
    "mpl.style.use('seaborn')\n",
    "plt.rcParams['font.family'] = 'Palatino Linotype'\n",
    "prop_cycle = plt.rcParams[\"axes.prop_cycle\"]\n",
    "colors = prop_cycle.by_key()[\"color\"]"
   ]
  }
 ],
 "metadata": {
  "kernelspec": {
   "display_name": "Python 3 (ipykernel)",
   "language": "python",
   "name": "python3"
  },
  "language_info": {
   "codemirror_mode": {
    "name": "ipython",
    "version": 3
   },
   "file_extension": ".py",
   "mimetype": "text/x-python",
   "name": "python",
   "nbconvert_exporter": "python",
   "pygments_lexer": "ipython3",
   "version": "3.9.7"
  }
 },
 "nbformat": 4,
 "nbformat_minor": 4
}
