{
 "cells": [
  {
   "cell_type": "code",
   "execution_count": 1,
   "metadata": {},
   "outputs": [],
   "source": [
    "%run StdPackages.ipynb"
   ]
  },
  {
   "cell_type": "markdown",
   "metadata": {},
   "source": [
    "*Load test databases:*"
   ]
  },
  {
   "cell_type": "code",
   "execution_count": 2,
   "metadata": {},
   "outputs": [],
   "source": [
    "fs = [f\"{d['data']}\\\\test_size1000.gdx\", f\"{d['data']}\\\\baselinerun.gdx\"] # files\n",
    "ws = gams.GamsWorkspace() \n",
    "g2np = gams2numpy.Gams2Numpy(ws.system_directory)\n",
    "dbs = {'gmd1': ws.add_database_from_gdx(fs[0]), 'gmd2': ws.add_database_from_gdx(fs[1]),\n",
    "       'GPM1': DataBase.GPM_database(db=fs[0]), 'GPM2': DataBase.GPM_database(db=fs[1])}"
   ]
  },
  {
   "cell_type": "markdown",
   "metadata": {},
   "source": [
    "# *DataBase.py*"
   ]
  },
  {
   "cell_type": "markdown",
   "metadata": {},
   "source": [
    "Facilitates interaction with GAMS databases from Python using ```Pandas``` and the Python API from GAMS. Includes three main classes: ```gpy_symbol, PM_database, GPM_database```."
   ]
  },
  {
   "cell_type": "markdown",
   "metadata": {},
   "source": [
    "## ```gpy_symbol```\n",
    "The supertype for symbols used in GAMS (akin to ```gams._GamsSymbol```). Instances of this class are initialized in one of three ways and always specifies four attributes:\n",
    "\n",
    "```python\n",
    "class DataBase.gpy_symbol:\n",
    "```  \n",
    "* ```vals:``` Pandas representation of the symbol. The type of pandas representation depends on the ```self.type``` of the symbol. \n",
    "* ```name:``` Name of the symbol.  \n",
    "* ```type:``` Subtype of symbol \\{'set', 'subset', 'mapping', 'scalar_variable', 'scalar_parameter', 'variable', 'parameter'\\}.\n",
    "* ```text:``` description of symbol."
   ]
  },
  {
   "cell_type": "markdown",
   "metadata": {},
   "source": [
    "### Subtypes\n",
    "The pandas representation can ```pd.Index```, ```pd.MultiIndex```, ```pd.Series```, or simply a scalar (see variable ```DataBase.admissable_py_types```), depending on the subtype. In general, sets, subsets, and mappings are defined as pandas indices and parameters/variables are defined as pandas series. The differences between sets and subsets (both ```pd.Index```) and scalars/parameters/variables are more subtle. The function ```DataBase._type(symbol)``` returns the type."
   ]
  },
  {
   "cell_type": "code",
   "execution_count": null,
   "metadata": {},
   "outputs": [],
   "source": []
  },
  {
   "cell_type": "code",
   "execution_count": null,
   "metadata": {},
   "outputs": [],
   "source": []
  }
 ],
 "metadata": {
  "kernelspec": {
   "display_name": "Python 3",
   "language": "python",
   "name": "python3"
  },
  "language_info": {
   "codemirror_mode": {
    "name": "ipython",
    "version": 3
   },
   "file_extension": ".py",
   "mimetype": "text/x-python",
   "name": "python",
   "nbconvert_exporter": "python",
   "pygments_lexer": "ipython3",
   "version": "3.8.3"
  }
 },
 "nbformat": 4,
 "nbformat_minor": 4
}
