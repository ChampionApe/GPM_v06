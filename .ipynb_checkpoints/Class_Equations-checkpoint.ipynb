{
 "cells": [
  {
   "cell_type": "code",
   "execution_count": 1,
   "id": "e09c43b8-8c94-46f1-81da-e3fc3bb5ec8d",
   "metadata": {},
   "outputs": [],
   "source": [
    "%run StdPackages.ipynb"
   ]
  },
  {
   "cell_type": "markdown",
   "id": "33f063b4-393c-4cff-acde-50620974fc66",
   "metadata": {},
   "source": [
    "Load wheels"
   ]
  },
  {
   "cell_type": "code",
   "execution_count": 2,
   "id": "faf8541a-9cbd-423e-a2d3-a64a4baad5bc",
   "metadata": {},
   "outputs": [],
   "source": [
    "os.chdir(d['py'])\n",
    "from _Equations import *\n",
    "from DBWheels_eq import gpy_eq\n",
    "import FunctionsPd\n",
    "os.chdir(d['curr'])"
   ]
  },
  {
   "cell_type": "markdown",
   "id": "ef6dd6f1-c94f-460e-845c-c51102cba6d8",
   "metadata": {},
   "source": [
    "### 1: Create useful data"
   ]
  },
  {
   "cell_type": "code",
   "execution_count": 3,
   "id": "9a9411be-a3a9-4b24-9fbe-180aa27c0b8e",
   "metadata": {},
   "outputs": [],
   "source": [
    "rng = np.random.default_rng(seed=43)"
   ]
  },
  {
   "cell_type": "markdown",
   "id": "3197dc16-f675-48f4-97f9-efc68f10b19c",
   "metadata": {},
   "source": [
    "*Create some useful data:*\n",
    "* Three sets (i,j,t),\n",
    "* Subsets for each of them (added suffix '_ss'),\n",
    "* Mappings combining subsets (name convention 'i2j').\n",
    "* Mapping combining all three subsets ('i2j2t').\n",
    "* Variables defined over all sets; simple range values (named 'var_'+s).\n",
    "* A scalar ('scalar')."
   ]
  },
  {
   "cell_type": "code",
   "execution_count": 4,
   "id": "79b9b9c0-e383-456d-ae8e-68d817a7ea60",
   "metadata": {},
   "outputs": [],
   "source": [
    "db = Database.GpyDB(**{'name': 'test'})\n",
    "sets = ['i','j','t']\n",
    "subsets = [s+'_ss' for s in sets]\n",
    "# sets\n",
    "for s in sets:\n",
    "    db[s] = pd.Index(range(200), name = s)\n",
    "    # db[s] = pd.Index(range(11+rng.integers(0,100)), name = s)\n",
    "db.update_alias(pd.MultiIndex.from_tuples([(k,2*k) for k in sets]))\n",
    "# subsets\n",
    "for ss in subsets:\n",
    "    s = db.get(ss.split('_')[0])\n",
    "    db[ss] = s[s>5]\n",
    "# mappings\n",
    "for i,j in [(i,j) for i in subsets for j in subsets if i!=j]:\n",
    "    db[i.split('_')[0]+'2'+j.split('_')[0]] = pd.MultiIndex.from_product([db.get(i),db.get(j)])\n",
    "db['2'.join(sets)] = pd.MultiIndex.from_product([db.get(s) for s in sets])\n",
    "# Variables\n",
    "for s in set(db.gettypes(('set','subset','mapping')).keys())-{'alias_set','alias_map2','alias_'}:\n",
    "    db['var_'+s] = pd.Series(range(1,len(db.get(s))+1), index = db.get(s), name = 'var_'+s)\n",
    "db['scalar'] = 2"
   ]
  },
  {
   "cell_type": "markdown",
   "id": "d5b313d3-b6f1-48fb-8ccb-627e7a1a664a",
   "metadata": {},
   "source": [
    "### 2: Broadcasting methods"
   ]
  },
  {
   "cell_type": "markdown",
   "id": "12b7b5c7-e926-4260-b676-d07ea940f5b6",
   "metadata": {},
   "source": [
    "We use three main broadcasting methods that depend on the situation:\n",
    "1. ```broadcast(vlist, d = None, c = None, db = None, index = None, bc = 'sparse', bc_scalar=False)```: \n",
    "    * Takes as inputs a list of variables (```vlist```), \n",
    "    * d = list of domain names,\n",
    "    * index = pandas index\n",
    "    * c = conditions to subset on\n",
    "    * bc$\\in${'sparse','full}.\n",
    "    * bc_scalar = Broadcast scalar variables as well, or keep them as scalars.\n",
    "2. ```broadcast_wind```: Version of ```broadcast``` that returns tuple with (vals, index).\n",
    "3. ```broadcast_infdoms```: Broadcast variables in ```vlist``` to a common level from domains in ```vlist```."
   ]
  },
  {
   "cell_type": "code",
   "execution_count": 5,
   "id": "26438508-1fcf-477e-9510-e07d075d8b75",
   "metadata": {},
   "outputs": [],
   "source": [
    "v = [db['var_'+s] for s in sets if s!='t']+[db['scalar']]\n",
    "eq = gpy_eq(name='test', db = db, domains = ['i','j','t'])"
   ]
  },
  {
   "cell_type": "markdown",
   "id": "f16cfedd-aa83-4c70-b7c2-2ef6a0690900",
   "metadata": {},
   "source": [
    "*1. Broadcast sparse: Consider an equation defined over [i,j,t], but variables over defined over some of these (i,j). The broadcast with 'sparse' setting broadcasts all variables to [i,j]:*"
   ]
  },
  {
   "cell_type": "code",
   "execution_count": 6,
   "id": "c02c265c-facf-4676-ac91-0be454397016",
   "metadata": {},
   "outputs": [
    {
     "data": {
      "text/plain": [
       "(i\n",
       " 0        1\n",
       " 1        2\n",
       " 2        3\n",
       " 3        4\n",
       " 4        5\n",
       "       ... \n",
       " 195    196\n",
       " 196    197\n",
       " 197    198\n",
       " 198    199\n",
       " 199    200\n",
       " Name: var_i, Length: 200, dtype: int64,\n",
       " i    j  \n",
       " 0    0        1\n",
       "      1        1\n",
       "      2        1\n",
       "      3        1\n",
       "      4        1\n",
       "            ... \n",
       " 199  195    200\n",
       "      196    200\n",
       "      197    200\n",
       "      198    200\n",
       "      199    200\n",
       " Length: 40000, dtype: int64)"
      ]
     },
     "execution_count": 6,
     "metadata": {},
     "output_type": "execute_result"
    }
   ],
   "source": [
    "v1 = broadcast(v, index = eq.index, bctype = 'sparse',db=db)\n",
    "v[0].vals,v1[0] # variable 0 before and after broadcast"
   ]
  },
  {
   "cell_type": "markdown",
   "id": "8badba1c-e3a7-429e-8120-9b66c0ebd1b0",
   "metadata": {},
   "source": [
    "*If we add ```bc_scalar = True``` this method also broadcasts the scalar variable to this domain:*"
   ]
  },
  {
   "cell_type": "code",
   "execution_count": 7,
   "id": "ba36d1de-bf0a-42e7-8250-be26b5704155",
   "metadata": {},
   "outputs": [
    {
     "data": {
      "text/plain": [
       "(2,\n",
       " i    j  \n",
       " 0    0      2\n",
       "      1      2\n",
       "      2      2\n",
       "      3      2\n",
       "      4      2\n",
       "            ..\n",
       " 199  195    2\n",
       "      196    2\n",
       "      197    2\n",
       "      198    2\n",
       "      199    2\n",
       " Length: 40000, dtype: int64)"
      ]
     },
     "execution_count": 7,
     "metadata": {},
     "output_type": "execute_result"
    }
   ],
   "source": [
    "v2 = broadcast(v, index = eq.index, bctype = 'sparse', db = db, bc_scalar=True)\n",
    "v[2].vals, v2[2]"
   ]
  },
  {
   "cell_type": "markdown",
   "id": "b25d1a58-5d1e-4def-be6a-ce03ce45e9ff",
   "metadata": {},
   "source": [
    "*2. Broadcast non-sparsely, i.e. fit all variables to a common index:*"
   ]
  },
  {
   "cell_type": "code",
   "execution_count": 8,
   "id": "51e85c17-7328-4c3e-9fca-27e955000d0f",
   "metadata": {},
   "outputs": [
    {
     "data": {
      "text/plain": [
       "(i\n",
       " 0        1\n",
       " 1        2\n",
       " 2        3\n",
       " 3        4\n",
       " 4        5\n",
       "       ... \n",
       " 195    196\n",
       " 196    197\n",
       " 197    198\n",
       " 198    199\n",
       " 199    200\n",
       " Name: var_i, Length: 200, dtype: int64,\n",
       " i    j    t  \n",
       " 0    0    0        1\n",
       "           1        1\n",
       "           2        1\n",
       "           3        1\n",
       "           4        1\n",
       "                 ... \n",
       " 199  199  195    200\n",
       "           196    200\n",
       "           197    200\n",
       "           198    200\n",
       "           199    200\n",
       " Length: 8000000, dtype: int64)"
      ]
     },
     "execution_count": 8,
     "metadata": {},
     "output_type": "execute_result"
    }
   ],
   "source": [
    "v3 = broadcast(v, index = eq.index, bctype = 'full', db = db)\n",
    "v[0].vals,v3[0] # variable 0 before and after broadcast"
   ]
  },
  {
   "cell_type": "markdown",
   "id": "e259a7c1-3c68-46e1-8922-52127d922a02",
   "metadata": {},
   "source": [
    "*3. Return with index:*"
   ]
  },
  {
   "cell_type": "code",
   "execution_count": 9,
   "id": "8a8054d5-6f88-4201-ae65-25ac3f8a50c4",
   "metadata": {},
   "outputs": [
    {
     "data": {
      "text/plain": [
       "i    j  \n",
       "0    0        1\n",
       "     1        1\n",
       "     2        1\n",
       "     3        1\n",
       "     4        1\n",
       "           ... \n",
       "199  195    200\n",
       "     196    200\n",
       "     197    200\n",
       "     198    200\n",
       "     199    200\n",
       "Length: 40000, dtype: int64"
      ]
     },
     "execution_count": 9,
     "metadata": {},
     "output_type": "execute_result"
    }
   ],
   "source": [
    "v4,v4doms = broadcast_windex(v, index = eq.index, bc = 'sparse', db = db)\n",
    "v4[0]"
   ]
  },
  {
   "cell_type": "markdown",
   "id": "cd69dd1e-2eee-4aee-9b81-23c327e9e764",
   "metadata": {},
   "source": [
    "*4. Broadcast list of variables to common domain inferred from the list of variables passed*"
   ]
  },
  {
   "cell_type": "code",
   "execution_count": 10,
   "id": "bc148c00-1a2e-44e2-b013-c7cb0e01ba67",
   "metadata": {},
   "outputs": [
    {
     "data": {
      "text/plain": [
       "i    j  \n",
       "0    0        1\n",
       "     1        1\n",
       "     2        1\n",
       "     3        1\n",
       "     4        1\n",
       "           ... \n",
       "199  195    200\n",
       "     196    200\n",
       "     197    200\n",
       "     198    200\n",
       "     199    200\n",
       "Length: 40000, dtype: int64"
      ]
     },
     "execution_count": 10,
     "metadata": {},
     "output_type": "execute_result"
    }
   ],
   "source": [
    "v5 = broadcast(v, index = eq.index, db = db)\n",
    "v5[0]"
   ]
  },
  {
   "cell_type": "markdown",
   "id": "a3bb20d9-401a-4cb2-afcb-1cf2afd94f4d",
   "metadata": {},
   "source": [
    "### 3: The main method"
   ]
  },
  {
   "cell_type": "markdown",
   "id": "ae7c89cb-0384-4af8-8c54-075f6579da44",
   "metadata": {},
   "source": [
    "Applying functions we generally do the following:\n",
    "1. Infer domains from the variables that are used within the function.\n",
    "2. Perform function and return an output.\n",
    "3. Broadcast the output to a specific domain. "
   ]
  },
  {
   "cell_type": "markdown",
   "id": "eb48a71a-a9e9-4aaa-af53-86f7cb4bc066",
   "metadata": {},
   "source": [
    "#### 3.1: The Sum method"
   ]
  },
  {
   "cell_type": "markdown",
   "id": "a0f64266-5ddb-4a3e-941c-06daf224582c",
   "metadata": {},
   "source": [
    "As an example, consider the function ```fSum(args,**kwargs)``` that sums over args. Consider again the case where the sum defines the equation defined over [i,j,t]. If args is empty, the equation simply returns zeros on the right domain. Finding the right domain is done using the broadcast methods above:"
   ]
  },
  {
   "cell_type": "code",
   "execution_count": 11,
   "id": "0e883109-eeb7-415c-a904-5a337d297ba9",
   "metadata": {},
   "outputs": [
    {
     "data": {
      "text/plain": [
       "i    j    t  \n",
       "0    0    0      0\n",
       "          1      0\n",
       "          2      0\n",
       "          3      0\n",
       "          4      0\n",
       "                ..\n",
       "199  199  195    0\n",
       "          196    0\n",
       "          197    0\n",
       "          198    0\n",
       "          199    0\n",
       "Length: 8000000, dtype: int64"
      ]
     },
     "execution_count": 11,
     "metadata": {},
     "output_type": "execute_result"
    }
   ],
   "source": [
    "fSum_noargs = FunctionsPd.fSum([], **{'index':eq.index})\n",
    "fSum_noargs"
   ]
  },
  {
   "cell_type": "markdown",
   "id": "eff7a0ea-64c4-482b-85b3-5ce9d4179dc3",
   "metadata": {},
   "source": [
    "If we pass a single element, the ```fSum``` method similarly simply use the broadcast function to return the new argument: "
   ]
  },
  {
   "cell_type": "code",
   "execution_count": 15,
   "id": "c216d05f-9691-4d81-a9b3-ab3403c8ae02",
   "metadata": {},
   "outputs": [
    {
     "data": {
      "text/plain": [
       "i    j    t  \n",
       "0    0    0        1\n",
       "          1        1\n",
       "          2        1\n",
       "          3        1\n",
       "          4        1\n",
       "                ... \n",
       "199  199  195    200\n",
       "          196    200\n",
       "          197    200\n",
       "          198    200\n",
       "          199    200\n",
       "Length: 8000000, dtype: int64"
      ]
     },
     "execution_count": 15,
     "metadata": {},
     "output_type": "execute_result"
    }
   ],
   "source": [
    "fSum_1arg = FunctionsPd.fSum([v[0]], **{'index': eq.index})\n",
    "fSum_1arg"
   ]
  },
  {
   "cell_type": "markdown",
   "id": "71f5c9e7-ee99-4cbb-b6ce-ffbdd5df0f06",
   "metadata": {},
   "source": [
    "*NB: If the variable passed to fSum is defined over other indices than the corresponding index, this returns a domain error.*"
   ]
  },
  {
   "cell_type": "markdown",
   "id": "6e8ff9df-18fe-46c2-8533-09bad0b189dd",
   "metadata": {},
   "source": [
    "If we pass a single element, the ```fSum``` method similarly simply use the broadcast function to return the new argument: "
   ]
  },
  {
   "cell_type": "code",
   "execution_count": 13,
   "id": "4e33a296-6844-4ca1-8c9e-16aa4f446722",
   "metadata": {},
   "outputs": [
    {
     "data": {
      "text/plain": [
       "True"
      ]
     },
     "execution_count": 13,
     "metadata": {},
     "output_type": "execute_result"
    }
   ],
   "source": [
    "eq.index.names == ['i','j','t']"
   ]
  },
  {
   "cell_type": "code",
   "execution_count": 14,
   "id": "13de2ebb-6956-4d82-a4f6-b14cd656ff86",
   "metadata": {},
   "outputs": [
    {
     "data": {
      "text/plain": [
       "i    j    t  \n",
       "0    0    0      0\n",
       "          1      0\n",
       "          2      0\n",
       "          3      0\n",
       "          4      0\n",
       "                ..\n",
       "199  199  195    0\n",
       "          196    0\n",
       "          197    0\n",
       "          198    0\n",
       "          199    0\n",
       "Length: 8000000, dtype: int64"
      ]
     },
     "execution_count": 14,
     "metadata": {},
     "output_type": "execute_result"
    }
   ],
   "source": [
    "broadcast([], index = eq.index, bctype='full',db = db)"
   ]
  }
 ],
 "metadata": {
  "kernelspec": {
   "display_name": "Python 3 (ipykernel)",
   "language": "python",
   "name": "python3"
  },
  "language_info": {
   "codemirror_mode": {
    "name": "ipython",
    "version": 3
   },
   "file_extension": ".py",
   "mimetype": "text/x-python",
   "name": "python",
   "nbconvert_exporter": "python",
   "pygments_lexer": "ipython3",
   "version": "3.9.7"
  }
 },
 "nbformat": 4,
 "nbformat_minor": 5
}
