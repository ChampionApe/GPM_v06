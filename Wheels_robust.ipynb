{
 "cells": [
  {
   "cell_type": "code",
   "execution_count": 1,
   "id": "40f8744d-e528-46c7-9294-574e185145d2",
   "metadata": {},
   "outputs": [
    {
     "name": "stdout",
     "output_type": "stream",
     "text": [
      "No clean-up of work-folder\n"
     ]
    }
   ],
   "source": [
    "%run StdPackages.ipynb"
   ]
  },
  {
   "cell_type": "markdown",
   "id": "8b7b5427-3691-4794-b73d-e6f08a9f9e2d",
   "metadata": {},
   "source": [
    "Load wheels and test databases:"
   ]
  },
  {
   "cell_type": "code",
   "execution_count": 2,
   "id": "19c66cc4-a612-46aa-aa3d-adff4d95ba2e",
   "metadata": {},
   "outputs": [],
   "source": [
    "fs = [f\"{d['data']}\\\\test_size1000.gdx\", f\"{d['data']}\\\\baselinerun.gdx\"] # files\n",
    "ws = gams.GamsWorkspace() \n",
    "g2np = gams2numpy.Gams2Numpy(ws.system_directory)\n",
    "dbs = {'gms1': ws.add_database_from_gdx(fs[0]), 'gms2': ws.add_database_from_gdx(fs[1]),\n",
    "       'gpy1': Database.GpyDB(db=fs[0],**{'name': 'testdb1'}), 'gpy2': Database.GpyDB(db=fs[1],**{'name': 'testdb2'})}\n",
    "db = dbs['gpy2']"
   ]
  },
  {
   "cell_type": "code",
   "execution_count": 3,
   "id": "178e90d2-bf63-4c3d-b725-9bb5183f1f2e",
   "metadata": {},
   "outputs": [],
   "source": [
    "os.chdir(d['py'])\n",
    "import DBWheels_robust, gmdcc\n",
    "os.chdir(d['curr'])"
   ]
  },
  {
   "cell_type": "markdown",
   "id": "9495e0c7-93ef-4799-a3b6-65214d873816",
   "metadata": {
    "tags": []
   },
   "source": [
    "# DBWheels_robust.py"
   ]
  },
  {
   "cell_type": "markdown",
   "id": "df97c737-484c-47e2-ab1b-2bf1ac5d0a6e",
   "metadata": {},
   "source": [
    "The wheels ```DBWheels_robust.py``` defines more robust methods that work on different type of symbols and database types. Main methods are: ```robust_gpy, robust_add_or_merge, robust_merge_dbs```"
   ]
  },
  {
   "cell_type": "markdown",
   "id": "45d4b39c-0ba9-4390-a534-76bb6e10ef99",
   "metadata": {},
   "source": [
    "### 1: ```robust_gpy```\n",
    "\n",
    "```python\n",
    "DBWheels_robust.robust_gpy(symbol, db = None, g2np = None, **kwargs):\n",
    "```\n",
    "\n",
    "The method initializes a ```gpy``` symbol. It takes a number of different input types:\n",
    "\n",
    "```python\n",
    "if isinstance(symbol, admissable_gpy_types):\n",
    "```\n",
    "    A gpy symbol is initialized using standard methods (see Class_gpy.ipynb). The **kwargs are only used in this instance.\n",
    "\n",
    "```python\n",
    "if isinstance(symbol,admissable_gamsTypes):\n",
    "```\n",
    "    A gpy symbol is initialized after reading relevant information using Database.gpydict_from_GamsSymbol\n",
    "\n",
    "\n",
    "```python\n",
    "else try:\n",
    "    gpy(gpydict_from_GmdSymbol(db,g2np,symbol)):\n",
    "```\n",
    "\n",
    "    If the symbol belongs to a gams.GamsDatabase._gmd this will work. Otherwise we get an error."
   ]
  },
  {
   "cell_type": "markdown",
   "id": "c8b60862-60a1-4915-8856-2a6abef62109",
   "metadata": {},
   "source": [
    "##### 1.1 Initialize from pandas-like/python/gpy types"
   ]
  },
  {
   "cell_type": "markdown",
   "id": "80492623-f83e-4489-a40d-54753ef35ccd",
   "metadata": {},
   "source": [
    "The following input types can be used (see Class_gpy.ipynb):"
   ]
  },
  {
   "cell_type": "code",
   "execution_count": 4,
   "id": "0a97bcbe-6802-4b45-bf14-521edd4e4d39",
   "metadata": {},
   "outputs": [
    {
     "data": {
      "text/plain": [
       "(pandas.core.series.Series,\n",
       " pandas.core.indexes.base.Index,\n",
       " int,\n",
       " float,\n",
       " str,\n",
       " numpy.generic,\n",
       " dict,\n",
       " _Database.gpy)"
      ]
     },
     "execution_count": 4,
     "metadata": {},
     "output_type": "execute_result"
    }
   ],
   "source": [
    "Database.admissable_gpy_types "
   ]
  },
  {
   "cell_type": "markdown",
   "id": "526aa468-4d86-4d76-b271-f761920af8b0",
   "metadata": {},
   "source": [
    "*Example:*"
   ]
  },
  {
   "cell_type": "code",
   "execution_count": 5,
   "id": "887285cb-07b8-45cf-a61c-a01220bf0cc6",
   "metadata": {},
   "outputs": [
    {
     "data": {
      "text/plain": [
       "{'vals': i\n",
       " i1    0\n",
       " Name: new_variable, dtype: int64,\n",
       " 'name': 'new_variable',\n",
       " 'type': 'variable',\n",
       " 'text': ''}"
      ]
     },
     "execution_count": 5,
     "metadata": {},
     "output_type": "execute_result"
    }
   ],
   "source": [
    "s = DBWheels_robust.robust_gpy(pd.Series([0], index = pd.Index(['i1'], name = 'i'), name = 'new_variable'))\n",
    "s.__dict__"
   ]
  },
  {
   "cell_type": "markdown",
   "id": "829adac4-8d75-4003-adf0-3285133b0535",
   "metadata": {},
   "source": [
    "##### 1.2 Initialize gams type:"
   ]
  },
  {
   "cell_type": "markdown",
   "id": "c6adbc5e-14f5-433a-bbc7-d5ab88b8e0b6",
   "metadata": {},
   "source": [
    "*Takes gams._GamsSymbol, gams.GamsDatabase, and gams2numpy input:*"
   ]
  },
  {
   "cell_type": "code",
   "execution_count": 6,
   "id": "37211636-0f96-48f1-a395-bebde2db25dc",
   "metadata": {},
   "outputs": [
    {
     "data": {
      "text/plain": [
       "{'vals': Int64Index([ 1,  2,  3,  4,  5,  6,  7,  8,  9, 10, 11, 12, 13, 14, 15, 16, 17,\n",
       "             18, 19, 20, 21, 22, 23, 24, 25],\n",
       "            dtype='int64', name='k'),\n",
       " 'name': 'k',\n",
       " 'text': 'short run states of the model. Can at most be 8760 as h_full',\n",
       " 'type': 'set'}"
      ]
     },
     "execution_count": 6,
     "metadata": {},
     "output_type": "execute_result"
    }
   ],
   "source": [
    "s = DBWheels_robust.robust_gpy(db.database['k'], db=db.database, g2np = db.g2np)\n",
    "s.__dict__"
   ]
  },
  {
   "cell_type": "markdown",
   "id": "e7a4e004-ee40-412d-9fbb-cff9f7496988",
   "metadata": {},
   "source": [
    "##### 1.3 Initialize from '_gmd' type:"
   ]
  },
  {
   "cell_type": "markdown",
   "id": "86927f37-cd88-4f7b-8e1d-7de388532cbd",
   "metadata": {},
   "source": [
    "*This takes a gmd-like symbol, a gams.GamsDatabase._gmd database, and gams2numpy input:*"
   ]
  },
  {
   "cell_type": "code",
   "execution_count": 7,
   "id": "13e4e7b5-0d90-489e-9f73-770f19c64e2c",
   "metadata": {},
   "outputs": [
    {
     "data": {
      "text/plain": [
       "{'vals': Int64Index([ 1,  2,  3,  4,  5,  6,  7,  8,  9, 10, 11, 12, 13, 14, 15, 16, 17,\n",
       "             18, 19, 20, 21, 22, 23, 24, 25],\n",
       "            dtype='int64', name='k'),\n",
       " 'name': 'k',\n",
       " 'text': 'short run states of the model. Can at most be 8760 as h_full',\n",
       " 'type': 'set'}"
      ]
     },
     "execution_count": 7,
     "metadata": {},
     "output_type": "execute_result"
    }
   ],
   "source": [
    "db_gmd,rc = db.database._gmd, gmdcc.new_intp()\n",
    "gmd_symbol = gmdcc.gmdGetSymbolByNumberPy(db_gmd, 1, rc)\n",
    "s = DBWheels_robust.robust_gpy(gmd_symbol, db = db_gmd, g2np = db.g2np)\n",
    "s.__dict__"
   ]
  },
  {
   "cell_type": "markdown",
   "id": "f30c190c-f202-4ec0-bc27-601e175414f1",
   "metadata": {
    "tags": []
   },
   "source": [
    "### 2: ```robust_add_or_merge```\n",
    "\n",
    "```python\n",
    "DBWheels_robust.robust_add_or_merge(db, symbol, db_from = None, g2np = None, merge=False, **kwargs):\n",
    "```\n",
    "\n",
    "The method initializes a ```gpy``` symbol ```s``` using ```robust_gpy(symbol,db=db_from, g2np = g2np, **kwargs)```. This is either added or merged to the database ```db```.\n",
    "\n",
    "```python\n",
    "if isinstance(db, (dict, GpyDB, SeriesDB)):\n",
    "```\n",
    "    The db consists of (s.name, s) items. If s.name is already in the database merge values. If not, add the new symbol.\n",
    "\n",
    "```python\n",
    "if isinstance(symbol,gams.GamsDatabase):\n",
    "```\n",
    "     The symbol either added or merged ultimately using the gams2numpy method ```gmdFillSymbolStr```."
   ]
  },
  {
   "cell_type": "markdown",
   "id": "65f19bda-a979-4a7c-9a8a-9f35fe74b1d7",
   "metadata": {},
   "source": [
    "*Example: dictionary, GpyDB, SeriesDB or gams.Gamsdatabse types:*"
   ]
  },
  {
   "cell_type": "code",
   "execution_count": 8,
   "id": "ad87ecdd-30bb-4f55-9850-2da70313fe89",
   "metadata": {},
   "outputs": [],
   "source": [
    "dbs = [{}, db, db.series, db.database]"
   ]
  },
  {
   "cell_type": "markdown",
   "id": "8ca9ebb6-b5c3-4234-a624-d044c6591c97",
   "metadata": {},
   "source": [
    "*Add a gpy to each of the different types*"
   ]
  },
  {
   "cell_type": "code",
   "execution_count": 9,
   "id": "c3c4c6c0-0329-4a43-aeb7-dd242b91e033",
   "metadata": {},
   "outputs": [
    {
     "name": "stdout",
     "output_type": "stream",
     "text": [
      "Symbol added to db type <class 'dict'>, \n",
      "\tas type: <_Database.gpy object at 0x000001A46101B6D0>\n",
      "Symbol added to db type <class 'Database.GpyDB'>, \n",
      "\tas type: <_Database.gpy object at 0x000001A465C43400>\n",
      "Symbol added to db type <class 'Database.SeriesDB'>, \n",
      "\tas type: <_Database.gpy object at 0x000001A465C43400>\n",
      "Symbol added to db type <class 'gams.database.GamsDatabase'>, \n",
      "\tas type: <gams.database.GamsSet object at 0x000001A4660C0FD0>\n"
     ]
    }
   ],
   "source": [
    "for db_i in dbs:\n",
    "    DBWheels_robust.robust_add_or_merge(db_i, s, db_from = db.database, g2np = db.g2np)\n",
    "    print(f\"Symbol added to db type {type(db_i)}, \\n\\tas type: {db_i[s.name]}\")"
   ]
  },
  {
   "cell_type": "markdown",
   "id": "a19916ec-2fcd-4b3d-830a-047bd84fbd3d",
   "metadata": {
    "tags": []
   },
   "source": [
    "### 3: ```robust_merge_dbs```\n",
    "\n",
    "```python\n",
    "DBWheels_robust.robust_merge_dbs(db1, db2, priority='second'):\n",
    "```\n",
    "\n",
    "The method merges all symbols in ```db2``` into ```db1```. If symbols are in both databases, the priority will be given to ```priority```. Note that, generally, the method ```first``` will be slower. The two databases, ```(db1,db2)``` can both be of types ```(GpyDB,SeriesDB,dict,gams.GamsDatabase)```. "
   ]
  },
  {
   "cell_type": "markdown",
   "id": "fec58e17-57d8-4e4e-b08c-e2cc5abc8b28",
   "metadata": {},
   "source": [
    "*The following tests (trivial) merging of the different types:*"
   ]
  },
  {
   "cell_type": "code",
   "execution_count": 10,
   "id": "9b6bdf17-de07-4ed0-8d6a-12fe5488d4dd",
   "metadata": {},
   "outputs": [],
   "source": [
    "db_combinations = [(k,v) for k in dbs for v in dbs]\n",
    "for (db1,db2) in db_combinations:\n",
    "    DBWheels_robust.robust_merge_dbs(db1,db2)"
   ]
  },
  {
   "cell_type": "markdown",
   "id": "9054807f-c80e-4e40-8c38-adba45682e75",
   "metadata": {},
   "source": [
    "*Test reversing the priority:*"
   ]
  },
  {
   "cell_type": "code",
   "execution_count": 11,
   "id": "25d2dc52-c474-4edb-b171-2199916f7e90",
   "metadata": {},
   "outputs": [],
   "source": [
    "for (db1,db2) in db_combinations:\n",
    "    DBWheels_robust.robust_merge_dbs(db1,db2,priority = 'first')"
   ]
  }
 ],
 "metadata": {
  "kernelspec": {
   "display_name": "Python 3 (ipykernel)",
   "language": "python",
   "name": "python3"
  },
  "language_info": {
   "codemirror_mode": {
    "name": "ipython",
    "version": 3
   },
   "file_extension": ".py",
   "mimetype": "text/x-python",
   "name": "python",
   "nbconvert_exporter": "python",
   "pygments_lexer": "ipython3",
   "version": "3.9.7"
  }
 },
 "nbformat": 4,
 "nbformat_minor": 5
}
