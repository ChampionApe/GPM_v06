{
 "cells": [
  {
   "cell_type": "code",
   "execution_count": 1,
   "id": "f6b92d4d-d55a-4a16-ba74-c59dccc1d42f",
   "metadata": {},
   "outputs": [
    {
     "name": "stdout",
     "output_type": "stream",
     "text": [
      "No clean-up of work-folder\n"
     ]
    }
   ],
   "source": [
    "%run StdPackages.ipynb"
   ]
  },
  {
   "cell_type": "markdown",
   "id": "de4ca87e-78a7-4fac-a817-665407b2b1b9",
   "metadata": {},
   "source": [
    "Load wheels and test databases:"
   ]
  },
  {
   "cell_type": "code",
   "execution_count": 2,
   "id": "b20aafaf-76f7-4aae-8830-cf2b89aacb0e",
   "metadata": {},
   "outputs": [],
   "source": [
    "fs = [f\"{d['data']}\\\\test_size1000.gdx\", f\"{d['data']}\\\\baselinerun.gdx\"] # files\n",
    "ws = gams.GamsWorkspace() \n",
    "g2np = gams2numpy.Gams2Numpy(ws.system_directory)\n",
    "dbs = {'gms1': ws.add_database_from_gdx(fs[0]), 'gms2': ws.add_database_from_gdx(fs[1]),\n",
    "       'gpy1': Database.GpyDB(db=fs[0],**{'name': 'testdb1'}), 'gpy2': Database.GpyDB(db=fs[1],**{'name': 'testdb1'})}\n",
    "db = dbs['gpy1']"
   ]
  },
  {
   "cell_type": "markdown",
   "id": "e3c635ef-06d3-40d0-972d-e05818aeb0af",
   "metadata": {
    "tags": []
   },
   "source": [
    "# GmsWrite.py"
   ]
  },
  {
   "cell_type": "markdown",
   "id": "677709c6-a185-4c86-94f1-757c0d3a25b9",
   "metadata": {},
   "source": [
    "```GmsWrite.py``` is used to write simple lines of gams code. The main functions are: ```write_gpy```."
   ]
  },
  {
   "cell_type": "markdown",
   "id": "58d6b2f0-6463-4e7d-a6af-029dcd8893fd",
   "metadata": {},
   "source": [
    "### 1: ```write_gpy(s=None, c = None, alias = {}, lag = {}, l = \"\", **kwargs)``` \n",
    "\n",
    "The method writes standard variations on ```gpy``` symbols ```s``` to gams. Note that beyond the argument 'l', the inputs are equivalent to the ones used in ```DBWheels_rc``` to subset pandas versions of ```gpy``` symbols. The point of this is that the same inputs can be used to slice pandas objects and write gams code that correspond to this. Important differences compared to the ```DBWheels_rc.rctree_pd``` method are:\n",
    "* ```write_gpy``` only works with ```gpy``` symbols, not pandas objects (as in ```rctree_pd```). The reason is simply that pandas objects to not have sufficient information to write the corresponding gams code.\n",
    "* ```write_gpy``` includes a level argument \"l\": The ```rctree_pd``` do not distinguish between different attributes. \n",
    "* ```write_gpy``` does not include a ```pm``` argument: In general, the ```rctree_pd``` might throw errors when domains do match and allows one to use partial matching. The gams writing facility is more straightforward in this regard. \n",
    "* ```write_gpy``` allows the user to add a condition as a ```string```, in which case this string is simply copied into the conditional statement; the ```rctree_pd``` does not allow for strings (as it matches pandas indices).\n",
    "* ```write_gpy``` can use other ```gpy``` in the conditional, including variables; however, we do not include methods for automatically writing expressions like ```var.l[x,y]>0``` in the conditional. \n",
    "* ```write_gpy``` includes methods for subsetting scalar variables, ```rctree_pd``` does not. \n",
    "\n",
    "Note that for the ```write_gpy``` and ```rctree_pd``` to be equivalent, we need to set ```pm=False```, not use ```string``` inputs in the ```write_gpy``` method, and not include conditionals on ```scalars```."
   ]
  },
  {
   "cell_type": "markdown",
   "id": "2391dfaf-ec83-496a-82a1-5dba21600f41",
   "metadata": {},
   "source": [
    "*Automatic write for different types:*"
   ]
  },
  {
   "cell_type": "markdown",
   "id": "c0cfd9ad-9678-4d8d-aa18-c3d7ce8a869a",
   "metadata": {},
   "source": [
    "*Variables:*"
   ]
  },
  {
   "cell_type": "code",
   "execution_count": 3,
   "id": "751a8e07-1db3-4c38-99c3-268193774dbd",
   "metadata": {},
   "outputs": [
    {
     "data": {
      "text/plain": [
       "'var[i,j]'"
      ]
     },
     "execution_count": 3,
     "metadata": {},
     "output_type": "execute_result"
    }
   ],
   "source": [
    "write_gpy(db['var'])"
   ]
  },
  {
   "cell_type": "code",
   "execution_count": 4,
   "id": "e76f1402-bfc9-4e03-93ff-d732cf218327",
   "metadata": {},
   "outputs": [
    {
     "data": {
      "text/plain": [
       "'var.L[ii-1,j]'"
      ]
     },
     "execution_count": 4,
     "metadata": {},
     "output_type": "execute_result"
    }
   ],
   "source": [
    "write_gpy(db['var'], alias = {'i':'ii'}, lag = {'i': -1}, l = \".L\")"
   ]
  },
  {
   "cell_type": "markdown",
   "id": "9b9c8d10-61e3-4833-b0f9-99d1770d2954",
   "metadata": {},
   "source": [
    "*Sets:*"
   ]
  },
  {
   "cell_type": "code",
   "execution_count": 5,
   "id": "35f81ac8-0a29-48ce-bc91-1334db2f37bd",
   "metadata": {},
   "outputs": [
    {
     "data": {
      "text/plain": [
       "'map[i,j]'"
      ]
     },
     "execution_count": 5,
     "metadata": {},
     "output_type": "execute_result"
    }
   ],
   "source": [
    "write_gpy(db['map'])"
   ]
  },
  {
   "cell_type": "code",
   "execution_count": 6,
   "id": "e78d1b03-0b17-4574-9884-43797de7faa8",
   "metadata": {},
   "outputs": [
    {
     "data": {
      "text/plain": [
       "'map[i,jj+2]'"
      ]
     },
     "execution_count": 6,
     "metadata": {},
     "output_type": "execute_result"
    }
   ],
   "source": [
    "write_gpy(db['map'], alias = {'j':'jj'}, lag = {'j': \"+2\"}, l= \".l\")"
   ]
  },
  {
   "cell_type": "markdown",
   "id": "fde42e27-f3c5-4bc9-a816-c87f9789c7d9",
   "metadata": {},
   "source": [
    "*Using conditionals:*"
   ]
  },
  {
   "cell_type": "code",
   "execution_count": 7,
   "id": "31354901-425d-40e9-bba3-0c4c6b8166d9",
   "metadata": {},
   "outputs": [
    {
     "data": {
      "text/plain": [
       "'var[i,j]$(map[i,j])'"
      ]
     },
     "execution_count": 7,
     "metadata": {},
     "output_type": "execute_result"
    }
   ],
   "source": [
    "write_gpy(db['var'], c = db['map'])"
   ]
  },
  {
   "cell_type": "code",
   "execution_count": 8,
   "id": "c32092fe-a427-450f-be82-3469f519c37c",
   "metadata": {},
   "outputs": [
    {
     "data": {
      "text/plain": [
       "'var[ii,j]$(map[i,j])'"
      ]
     },
     "execution_count": 8,
     "metadata": {},
     "output_type": "execute_result"
    }
   ],
   "source": [
    "write_gpy(db['var'], c = db['map'], alias = {'i':'ii'})"
   ]
  },
  {
   "cell_type": "markdown",
   "id": "03aba39f-0b0b-4998-8202-38e8f6b04ccb",
   "metadata": {},
   "source": [
    "*Using nested conditionals:*"
   ]
  },
  {
   "cell_type": "code",
   "execution_count": 9,
   "id": "dd216c8c-5978-4128-921c-6d7751a56713",
   "metadata": {},
   "outputs": [
    {
     "data": {
      "text/plain": [
       "'var[i,j]$(map[i,j]$(subset[j]))'"
      ]
     },
     "execution_count": 9,
     "metadata": {},
     "output_type": "execute_result"
    }
   ],
   "source": [
    "write_gpy(db['var'], c = {'s': db['map'], 'c': db['subset']})"
   ]
  },
  {
   "cell_type": "markdown",
   "id": "6eb461bc-a2ac-4fe0-ab02-3f1d89e66831",
   "metadata": {},
   "source": [
    "*Note that nested conditionals is kind of a weird thing here that is simpler to construct using and 'and' tuple:*"
   ]
  },
  {
   "cell_type": "code",
   "execution_count": 10,
   "id": "1f570c91-d518-4034-a77b-31da9a90ea8a",
   "metadata": {},
   "outputs": [
    {
     "data": {
      "text/plain": [
       "'var[i,j]$((map[i,j] and subset[j]))'"
      ]
     },
     "execution_count": 10,
     "metadata": {},
     "output_type": "execute_result"
    }
   ],
   "source": [
    "write_gpy(db['var'], c = ('and', [db['map'],db['subset']]))"
   ]
  },
  {
   "cell_type": "markdown",
   "id": "b7ec55ef-f756-44f6-aedc-20e7024f9868",
   "metadata": {},
   "source": [
    "*We can also use mixed inputs, e.g. just add some text at the end:*"
   ]
  },
  {
   "cell_type": "code",
   "execution_count": 11,
   "id": "4b86a9f6-4640-46bf-90c2-7c7808d15140",
   "metadata": {},
   "outputs": [
    {
     "data": {
      "text/plain": [
       "'var[i,j]$((map[i,j] and then also this text even though gams will not like this))'"
      ]
     },
     "execution_count": 11,
     "metadata": {},
     "output_type": "execute_result"
    }
   ],
   "source": [
    "write_gpy(db['var'], c = ('and', [db['map'], 'then also this text even though gams will not like this']))"
   ]
  }
 ],
 "metadata": {
  "kernelspec": {
   "display_name": "Python 3 (ipykernel)",
   "language": "python",
   "name": "python3"
  },
  "language_info": {
   "codemirror_mode": {
    "name": "ipython",
    "version": 3
   },
   "file_extension": ".py",
   "mimetype": "text/x-python",
   "name": "python",
   "nbconvert_exporter": "python",
   "pygments_lexer": "ipython3",
   "version": "3.9.7"
  }
 },
 "nbformat": 4,
 "nbformat_minor": 5
}
