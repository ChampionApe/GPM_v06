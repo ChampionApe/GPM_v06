{
 "cells": [
  {
   "cell_type": "code",
   "execution_count": 1,
   "id": "617f4b63-7251-4e83-9c44-d132a9324b18",
   "metadata": {},
   "outputs": [
    {
     "name": "stdout",
     "output_type": "stream",
     "text": [
      "No clean-up of work-folder\n"
     ]
    }
   ],
   "source": [
    "%run StdPackages.ipynb"
   ]
  },
  {
   "cell_type": "markdown",
   "id": "278c82b2-7d9c-4826-ac0a-96db6bfdad2e",
   "metadata": {
    "tags": []
   },
   "source": [
    "# NestingTree.py"
   ]
  },
  {
   "cell_type": "markdown",
   "id": "4e399c9b-098f-49b2-be8f-6efaa0964940",
   "metadata": {},
   "source": [
    "Nesting tree class takes data on nesting and merge them into one aggregate nesting tree. It then produces a number of mappings/subsets that can be useful, in particular for the CGE model generator. The following provides a brief overview."
   ]
  },
  {
   "cell_type": "markdown",
   "id": "43baec1f-8705-47a0-88b7-361fe257e864",
   "metadata": {},
   "source": [
    "### Initialize"
   ]
  },
  {
   "cell_type": "markdown",
   "id": "91617c15-0d37-4145-8019-d30ab643b885",
   "metadata": {},
   "source": [
    "Initializing the tree we specify:\n",
    "* ```name```: Only mandatory argument; name of the tree.\n",
    "* ```self.tree:``` List of tuples defining the nesting structure. The tuples should include three elements with (1) sector index, (2) knot, (3) branch.\n",
    "* ```self.io:``` Specifies whether the type of nest is an input type ('in') or an output type ('out'). The default is input types, where the branches are \"below\" the knots in the tree. The output type reverses this; this is used e.g. for sectors that produce multiple outputs.\n",
    "* ```self.f:``` Specifies the type of function to apply in the specific nest (used for CGE generator). If ```self.io == 'in'``` the default behavior is 'CES', if ```self.out == 'out'``` default is 'CET'.\n",
    "* ```self.ns:``` A dictionary that serves as a namespace. This is used to write code that always refer to the same name (keys in self.ns), with symbols that have names that are adjusted to the specific tree. Adjustments to this default namespace is done using ```**kwargs``` when initializing.\n",
    "* ```self.db:``` a dictionary of ```gpy``` symbols that are stored for later use (see the section on trees' attributes)."
   ]
  },
  {
   "cell_type": "markdown",
   "id": "9f86fc13-183d-49fa-81a8-8d7f752bb954",
   "metadata": {},
   "source": [
    "Here we give an example of a nesting tree with two different sectors, and a mix of input/output trees:"
   ]
  },
  {
   "cell_type": "code",
   "execution_count": 2,
   "id": "a8c83bba-844a-41c2-aacd-9c046748f729",
   "metadata": {},
   "outputs": [],
   "source": [
    "t1 = NestingTree.tree('t1', tree = [('s1','Y','L'),('s1','Y','KE'),('s1','KE','x1'),('s1','KE','x2')])\n",
    "t2 = NestingTree.tree('t2', tree = [('s2','Y','X'),('s2','Y','K')], **{'map': 'NewMapName'})  # this gives the attribute 'map' the name 'NewMapName'\n",
    "t3 = NestingTree.tree('t3', tree = [('s2','Y','Y1'),('s2','Y','Y2')], io = 'out')"
   ]
  },
  {
   "cell_type": "markdown",
   "id": "fd9f917e-c418-46be-be42-fc40ec76e70c",
   "metadata": {},
   "source": [
    "### Individual trees' attributes"
   ]
  },
  {
   "cell_type": "markdown",
   "id": "b49be250-9d6e-4217-998a-345bfa02ce9b",
   "metadata": {},
   "source": [
    "The individual trees automatically generate a number of symbols. These can be accessed by slicing ```self[x]``` with 'x' using the static definitions from the namespace. To get the pandas representation (slicing returns the ```gpy```), use the method ```self.get```: "
   ]
  },
  {
   "cell_type": "markdown",
   "id": "100fc891-ad45-4fdb-adc5-194b2d63a201",
   "metadata": {},
   "source": [
    "```self.map:``` The nesting structure as a pandas multiindex"
   ]
  },
  {
   "cell_type": "code",
   "execution_count": 3,
   "id": "8e2aa1b1-1a47-4fcf-b382-470e4296ec9a",
   "metadata": {},
   "outputs": [
    {
     "name": "stdout",
     "output_type": "stream",
     "text": [
      "Name of symbol: 'map_t1'\n",
      " Symbol: \n",
      "MultiIndex([('s1',  'Y',  'L'),\n",
      "            ('s1',  'Y', 'KE'),\n",
      "            ('s1', 'KE', 'x1'),\n",
      "            ('s1', 'KE', 'x2')],\n",
      "           names=['s', 'n', 'nn'])\n"
     ]
    }
   ],
   "source": [
    "print(f\"Name of symbol: '{t1.ns['map']}'\\n\",\n",
    "      f\"Symbol: \\n{t1.get('map')}\")"
   ]
  },
  {
   "cell_type": "markdown",
   "id": "eaa72a32-5b1b-43ac-b781-b07639532a1b",
   "metadata": {},
   "source": [
    "```self.knot:``` Subset of knots in the tree"
   ]
  },
  {
   "cell_type": "code",
   "execution_count": 4,
   "id": "6949ecf5-6c88-409d-9a94-cf59e0a592eb",
   "metadata": {},
   "outputs": [
    {
     "name": "stdout",
     "output_type": "stream",
     "text": [
      "Name of symbol: 'knot_t1'\n",
      " Symbol: \n",
      "MultiIndex([('s1',  'Y'),\n",
      "            ('s1', 'KE')],\n",
      "           names=['s', 'n'])\n"
     ]
    }
   ],
   "source": [
    "print(f\"Name of symbol: '{t1.ns['knot']}'\\n\",\n",
    "      f\"Symbol: \\n{t1.get('knot')}\")"
   ]
  },
  {
   "cell_type": "markdown",
   "id": "0e7fefb4-389a-4ebe-8570-5569c3a4e954",
   "metadata": {},
   "source": [
    "```self.branch:``` Subset of branches in the tree"
   ]
  },
  {
   "cell_type": "code",
   "execution_count": 5,
   "id": "30b475c4-a633-4a85-b0bd-2e7e7f3bea20",
   "metadata": {},
   "outputs": [
    {
     "name": "stdout",
     "output_type": "stream",
     "text": [
      "Name of symbol: 'branch_t1'\n",
      " Symbol: \n",
      "MultiIndex([('s1',  'L'),\n",
      "            ('s1', 'KE'),\n",
      "            ('s1', 'x1'),\n",
      "            ('s1', 'x2')],\n",
      "           names=['s', 'n'])\n"
     ]
    }
   ],
   "source": [
    "print(f\"Name of symbol: '{t1.ns['branch']}'\\n\",\n",
    "      f\"Symbol: \\n{t1.get('branch')}\")"
   ]
  },
  {
   "cell_type": "markdown",
   "id": "db14aa5b-0eef-49a7-8ee5-25fd8910cf7b",
   "metadata": {},
   "source": [
    "```self.n:``` All goods (inputs, intermediates, final goods)"
   ]
  },
  {
   "cell_type": "code",
   "execution_count": 6,
   "id": "9895b4bb-ab2e-47ba-9480-125eb197d969",
   "metadata": {},
   "outputs": [
    {
     "name": "stdout",
     "output_type": "stream",
     "text": [
      "Name of symbol: 'n'\n",
      " Symbol: \n",
      "Index(['Y', 'Y1', 'Y2'], dtype='object', name='n')\n"
     ]
    }
   ],
   "source": [
    "print(f\"Name of symbol: '{t1.ns['n']}'\\n\",\n",
    "      f\"Symbol: \\n{t1.get('n')}\")"
   ]
  },
  {
   "cell_type": "markdown",
   "id": "5b274af7-1876-44e0-a0fb-e5fe3a8c52a2",
   "metadata": {},
   "source": [
    "```self.s:``` Set of sectors."
   ]
  },
  {
   "cell_type": "code",
   "execution_count": 7,
   "id": "82a7eb3b-ddbd-48c3-9d80-4143535a3480",
   "metadata": {},
   "outputs": [
    {
     "name": "stdout",
     "output_type": "stream",
     "text": [
      "Name of symbol: 's'\n",
      " Symbol: \n",
      "Index(['s2'], dtype='object', name='s')\n"
     ]
    }
   ],
   "source": [
    "print(f\"Name of symbol: '{t1.ns['s']}'\\n\",\n",
    "      f\"Symbol: \\n{t1.get('s')}\")"
   ]
  },
  {
   "cell_type": "markdown",
   "id": "4001e780-a350-4810-bda2-661426d33535",
   "metadata": {},
   "source": [
    "```self.input:``` Inputs in the tree."
   ]
  },
  {
   "cell_type": "code",
   "execution_count": 8,
   "id": "d44bb09f-8ea8-4a18-957b-d240f9008739",
   "metadata": {},
   "outputs": [
    {
     "name": "stdout",
     "output_type": "stream",
     "text": [
      "Name of symbol: 'input_t1'\n",
      " Symbol: \n",
      "MultiIndex([('s1',  'L'),\n",
      "            ('s1', 'x1'),\n",
      "            ('s1', 'x2')],\n",
      "           names=['s', 'n'])\n"
     ]
    }
   ],
   "source": [
    "print(f\"Name of symbol: '{t1.ns['input']}'\\n\",\n",
    "      f\"Symbol: \\n{t1.get('input')}\")"
   ]
  },
  {
   "cell_type": "markdown",
   "id": "db25e67e-7baf-4ddb-b043-4ce3eb9bb332",
   "metadata": {},
   "source": [
    "```self.output:``` Outputs from the tree."
   ]
  },
  {
   "cell_type": "code",
   "execution_count": 9,
   "id": "c0fa02dd-6e33-4944-aa00-409dcd954c16",
   "metadata": {},
   "outputs": [
    {
     "name": "stdout",
     "output_type": "stream",
     "text": [
      "Name of symbol: 'output_t1'\n",
      " Symbol: \n",
      "MultiIndex([('s1', 'Y')],\n",
      "           names=['s', 'n'])\n"
     ]
    }
   ],
   "source": [
    "print(f\"Name of symbol: '{t1.ns['output']}'\\n\",\n",
    "      f\"Symbol: \\n{t1.get('output')}\")"
   ]
  },
  {
   "cell_type": "markdown",
   "id": "ed92bc32-d436-44d7-b465-0dad00c57cdf",
   "metadata": {},
   "source": [
    "### Aggregate tree"
   ]
  },
  {
   "cell_type": "markdown",
   "id": "69f3e52c-4683-40f9-8e16-a579d0ba291d",
   "metadata": {},
   "source": [
    "The aggregate tree takes a name, a dictionary of trees, and a namespace (all optional):"
   ]
  },
  {
   "cell_type": "code",
   "execution_count": 10,
   "id": "683b6c9e-1c34-4a69-874c-300d7f38814f",
   "metadata": {},
   "outputs": [],
   "source": [
    "t = NestingTree.AggTree(name='agg', trees ={ti.name: ti for ti in (t1,t2,t3)})"
   ]
  },
  {
   "cell_type": "markdown",
   "id": "8a3b7f16-804d-4e72-bacc-730cd22e0dc8",
   "metadata": {},
   "source": [
    "The aggregate tree works in somewhat the same way as the individual ones: There is a namespace implemented that allows to write code that refers to static names. Symbols are now stored in a ```GpyDB``` accessed as ```self.db```. Beyond its ows namespace, we can also access the individual trees that are added from the ```self.trees```. We navigate this using the ```self.n,self.get``` methods: ```self.n``` accesses the name of the symbol, ```self.get``` returns the pandas-like representation."
   ]
  },
  {
   "cell_type": "markdown",
   "id": "b2f19e2c-1bc3-4b58-9e0d-989bb091aec9",
   "metadata": {},
   "source": [
    "The main method to apply here is ```self.run```: This defines global symbols and adjusts the trees:"
   ]
  },
  {
   "cell_type": "code",
   "execution_count": 11,
   "id": "64269fad-c47f-4914-9971-4bc821e6fd02",
   "metadata": {},
   "outputs": [],
   "source": [
    "t.run()"
   ]
  },
  {
   "cell_type": "markdown",
   "id": "3c5692d6-62ad-470f-aa1b-7a39ce054d75",
   "metadata": {},
   "source": [
    "*Access global variable:*"
   ]
  },
  {
   "cell_type": "code",
   "execution_count": 12,
   "id": "995a334d-1987-497e-ab69-ea8198dd1f7a",
   "metadata": {},
   "outputs": [
    {
     "name": "stdout",
     "output_type": "stream",
     "text": [
      "Name of symbol, global scope: \n",
      "'map_agg'\n",
      " Symbols: \n",
      "MultiIndex([('s2',  'Y', 'Y1'),\n",
      "            ('s2',  'Y',  'X'),\n",
      "            ('s2',  'Y', 'Y2'),\n",
      "            ('s1', 'KE', 'x2'),\n",
      "            ('s1',  'Y', 'KE'),\n",
      "            ('s2',  'Y',  'K'),\n",
      "            ('s1', 'KE', 'x1'),\n",
      "            ('s1',  'Y',  'L')],\n",
      "           names=['s', 'n', 'nn'])\n"
     ]
    }
   ],
   "source": [
    "print(f\"Name of symbol, global scope: \\n'{t.n('map')}'\\n\",\n",
    "      f\"Symbols: \\n{t.get('map')}\")"
   ]
  },
  {
   "cell_type": "markdown",
   "id": "70e2b5bf-ef42-4386-8edb-084022f64749",
   "metadata": {},
   "source": [
    "*Access local variable (in individual tree):*"
   ]
  },
  {
   "cell_type": "code",
   "execution_count": 13,
   "id": "511ef125-05ea-4c06-8671-2fbd6a6963d0",
   "metadata": {},
   "outputs": [
    {
     "name": "stdout",
     "output_type": "stream",
     "text": [
      "Name of symbol, local scope: \n",
      "'map_t1'\n",
      " Symbols: \n",
      "MultiIndex([('s1',  'Y',  'L'),\n",
      "            ('s1',  'Y', 'KE'),\n",
      "            ('s1', 'KE', 'x1'),\n",
      "            ('s1', 'KE', 'x2')],\n",
      "           names=['s', 'n', 'nn'])\n"
     ]
    }
   ],
   "source": [
    "print(f\"Name of symbol, local scope: \\n'{t.n('map',local='t1')}'\\n\",\n",
    "      f\"Symbols: \\n{t.get('map',local='t1')}\")"
   ]
  },
  {
   "cell_type": "markdown",
   "id": "e8b5e09c-11af-4ce9-8719-c0e17acd2c79",
   "metadata": {},
   "source": [
    "### Relevant symbols:\n",
    "In the aggregate tree:\n",
    "* ```n```: Goods.\n",
    "* ```s```: sectors.\n",
    "* ```map```: entire nesting tree.\n",
    "* ```input```: Inputs in aggregate tree.\n",
    "* ```output```: Outputs from aggregate tree.\n",
    "* ```int```: Intermediate goods."
   ]
  },
  {
   "cell_type": "markdown",
   "id": "66e7100a-cadb-4043-b2c7-9afe42eb9c87",
   "metadata": {},
   "source": [
    "Symbols added that are specific to individual tree:\n",
    "* ```knot_o```: For input-type trees, the subset of knots that are outputs from the aggregate tree. \n",
    "* ```branch2o```: Branches in input-type trees, for which the relevant knot is an output from aggregate tree.\n",
    "* ```branch2no```: Branches in input-type trees, for which the relevant knot is not an output from aggregate tree.\n",
    "* ```branch_o```: Branches in output-type trees that are outputs from aggregate tree.\n",
    "* ```branch_no```: Branches in output-type trees that are not outputs from aggregate tree."
   ]
  },
  {
   "cell_type": "markdown",
   "id": "2f37945d-718f-4362-a745-f144fcc30869",
   "metadata": {},
   "source": [
    "In this case, for instance, the sector 's2' produces two outputs: ```Y1,Y2```. These are both branches in the output tree t3. Thus:"
   ]
  },
  {
   "cell_type": "markdown",
   "id": "2bfb33b9-f37b-4ce9-a034-20e5fbfe215c",
   "metadata": {},
   "source": [
    "*No knots in the tree 't2' are outputs, all are branches that are tied to non-outputs:*"
   ]
  },
  {
   "cell_type": "code",
   "execution_count": 15,
   "id": "14708c94-3927-4abb-aba5-24129a92a06b",
   "metadata": {},
   "outputs": [
    {
     "data": {
      "text/plain": [
       "MultiIndex([], names=['s', 'n'])"
      ]
     },
     "execution_count": 15,
     "metadata": {},
     "output_type": "execute_result"
    }
   ],
   "source": [
    "t.get('knot_o',local='t2')"
   ]
  },
  {
   "cell_type": "code",
   "execution_count": 16,
   "id": "f727cc37-17d7-428e-9cf7-292825d0942b",
   "metadata": {},
   "outputs": [
    {
     "data": {
      "text/plain": [
       "MultiIndex([('s2', 'X'),\n",
       "            ('s2', 'K')],\n",
       "           names=['s', 'n'])"
      ]
     },
     "execution_count": 16,
     "metadata": {},
     "output_type": "execute_result"
    }
   ],
   "source": [
    "t.get('branch2no',local='t2')"
   ]
  },
  {
   "cell_type": "markdown",
   "id": "21fb2639-f1e4-45d9-99af-c05dd5ebfb75",
   "metadata": {},
   "source": [
    "*For the tree t3 all branches are outputs:*"
   ]
  },
  {
   "cell_type": "code",
   "execution_count": 17,
   "id": "60a2f011-8243-44ca-a97d-1d7b2177b6bc",
   "metadata": {},
   "outputs": [
    {
     "data": {
      "text/plain": [
       "MultiIndex([('s2', 'Y1'),\n",
       "            ('s2', 'Y2')],\n",
       "           names=['s', 'n'])"
      ]
     },
     "execution_count": 17,
     "metadata": {},
     "output_type": "execute_result"
    }
   ],
   "source": [
    "t.get('branch_o',local='t3')"
   ]
  }
 ],
 "metadata": {
  "kernelspec": {
   "display_name": "Python 3 (ipykernel)",
   "language": "python",
   "name": "python3"
  },
  "language_info": {
   "codemirror_mode": {
    "name": "ipython",
    "version": 3
   },
   "file_extension": ".py",
   "mimetype": "text/x-python",
   "name": "python",
   "nbconvert_exporter": "python",
   "pygments_lexer": "ipython3",
   "version": "3.9.7"
  }
 },
 "nbformat": 4,
 "nbformat_minor": 5
}
