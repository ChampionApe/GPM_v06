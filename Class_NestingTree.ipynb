{
 "cells": [
  {
   "cell_type": "code",
   "execution_count": 1,
   "id": "617f4b63-7251-4e83-9c44-d132a9324b18",
   "metadata": {},
   "outputs": [
    {
     "name": "stdout",
     "output_type": "stream",
     "text": [
      "No clean-up of work-folder\n"
     ]
    }
   ],
   "source": [
    "%run StdPackages.ipynb"
   ]
  },
  {
   "cell_type": "markdown",
   "id": "278c82b2-7d9c-4826-ac0a-96db6bfdad2e",
   "metadata": {
    "tags": []
   },
   "source": [
    "# NestingTree.py"
   ]
  },
  {
   "cell_type": "markdown",
   "id": "4e399c9b-098f-49b2-be8f-6efaa0964940",
   "metadata": {},
   "source": [
    "Nesting tree class takes data on nesting and merge them into one aggregate nesting tree. It then produces a number of mappings/subsets that can be useful, in particular for the CGE model generator. The file includes two different classes of nesting trees (individual and aggregate trees), as well as two \"children\" classes that are basically the same, but let you initialize from a specified data file. The following goes through the individual trees first, and then the aggregate class.\n"
   ]
  },
  {
   "cell_type": "markdown",
   "id": "107552a2-5109-42af-997e-bf33095031a2",
   "metadata": {},
   "source": [
    "## ```tree``` class"
   ]
  },
  {
   "cell_type": "markdown",
   "id": "43baec1f-8705-47a0-88b7-361fe257e864",
   "metadata": {},
   "source": [
    "### Initialize"
   ]
  },
  {
   "cell_type": "markdown",
   "id": "91617c15-0d37-4145-8019-d30ab643b885",
   "metadata": {},
   "source": [
    "Initializing the tree we specify:\n",
    "* ```name```: Only mandatory argument; name of the tree.\n",
    "* ```self.tree:``` List of tuples defining the nesting structure. The tuples should include three elements with (1) sector index, (2) knot, (3) branch.\n",
    "* ```self.io:``` Specifies whether the type of nest is an input type ('inp') or an output type ('out'). The default is input types, where the branches are \"below\" the knots in the tree. The output type reverses this; this is used e.g. for sectors that produce multiple outputs.\n",
    "* ```self.f:``` Specifies the type of function to apply in the specific nest (used for CGE generator). If ```self.io == 'inp'``` the default behavior is 'CES', if ```self.out == 'out'``` default is 'CET'.\n",
    "* ```self.sp:``` Specifies whether or not the nest is ```scale-preserving```, i.e. has the characteristic that the sum of branches equals the knot. This is automatically checked for some functions, defined by the tuple ```_scalePreserving```. This currently recognizes ```self.f``` belonging to 'CES_norm','CET_norm','MNL','MNL_out'; if other scale-preserving functions are used, the ```self.sp``` has to adjusted manually.\n",
    "* ```self.ns:``` A dictionary that serves as a namespace. This is used to write code that always refer to the same name (keys in self.ns), with symbols that have names that are adjusted to the specific tree. Adjustments to this default namespace is done using ```**kwargs``` when initializing.\n",
    "* ```self.db:``` a dictionary of ```gpy``` symbols that are stored for later use (see the section on trees' attributes)."
   ]
  },
  {
   "cell_type": "markdown",
   "id": "9f86fc13-183d-49fa-81a8-8d7f752bb954",
   "metadata": {},
   "source": [
    "Here we give an example of a nesting tree with two different sectors, and a mix of input/output trees:"
   ]
  },
  {
   "cell_type": "code",
   "execution_count": 2,
   "id": "a8c83bba-844a-41c2-aacd-9c046748f729",
   "metadata": {},
   "outputs": [],
   "source": [
    "t1 = NestingTree.tree('t1', tree = [('s1','Y','L'),('s1','Y','KE'),('s1','KE','x1'),('s1','KE','x2')])\n",
    "t2 = NestingTree.tree('t2', tree = [('s2','Y','X'),('s2','Y','K')], **{'map': 'NewMapName'})  # this gives the attribute 'map' the name 'NewMapName'\n",
    "t3 = NestingTree.tree('t3', tree = [('s2','Y1','Y'),('s2','Y2','Y')], io = 'out')"
   ]
  },
  {
   "cell_type": "markdown",
   "id": "fd9f917e-c418-46be-be42-fc40ec76e70c",
   "metadata": {},
   "source": [
    "### Individual trees' attributes"
   ]
  },
  {
   "cell_type": "markdown",
   "id": "a15a9711-e0fb-455c-8c5d-47025a4b4bb3",
   "metadata": {},
   "source": [
    "Beyond the attributes that are created at initialization, the main attributes are defined from running the method ```self.attrs_from_tree()```. This generates a number of symbols and add them to the database in ```self.db```. These can be accessed by slicing ```self[x]``` with 'x' using the static definitions from the keys of the namespace. To get the pandas representation (slicing returns ```gpy``` symbol), use the method ```self.get``` instead."
   ]
  },
  {
   "cell_type": "code",
   "execution_count": 3,
   "id": "a3039017-ae5d-4665-ae45-6657c883b4ee",
   "metadata": {},
   "outputs": [],
   "source": [
    "[t.attrs_from_tree() for t in (t1,t2,t3)];"
   ]
  },
  {
   "cell_type": "markdown",
   "id": "100fc891-ad45-4fdb-adc5-194b2d63a201",
   "metadata": {},
   "source": [
    "```self.map:``` The nesting structure as a pandas multiindex"
   ]
  },
  {
   "cell_type": "code",
   "execution_count": 4,
   "id": "8e2aa1b1-1a47-4fcf-b382-470e4296ec9a",
   "metadata": {},
   "outputs": [
    {
     "name": "stdout",
     "output_type": "stream",
     "text": [
      "Name of symbol: 'map_t1'\n",
      " Symbol: \n",
      "MultiIndex([('s1',  'Y',  'L'),\n",
      "            ('s1',  'Y', 'KE'),\n",
      "            ('s1', 'KE', 'x1'),\n",
      "            ('s1', 'KE', 'x2')],\n",
      "           names=['s', 'n', 'nn'])\n"
     ]
    }
   ],
   "source": [
    "print(f\"Name of symbol: '{t1.ns['map']}'\\n\",\n",
    "      f\"Symbol: \\n{t1.get('map')}\")"
   ]
  },
  {
   "cell_type": "markdown",
   "id": "eaa72a32-5b1b-43ac-b781-b07639532a1b",
   "metadata": {},
   "source": [
    "```self.knot:``` Subset of knots in the tree"
   ]
  },
  {
   "cell_type": "code",
   "execution_count": 5,
   "id": "6949ecf5-6c88-409d-9a94-cf59e0a592eb",
   "metadata": {},
   "outputs": [
    {
     "name": "stdout",
     "output_type": "stream",
     "text": [
      "Name of symbol: 'knot_t1'\n",
      " Symbol: \n",
      "MultiIndex([('s1',  'Y'),\n",
      "            ('s1', 'KE')],\n",
      "           names=['s', 'n'])\n"
     ]
    }
   ],
   "source": [
    "print(f\"Name of symbol: '{t1.ns['knot']}'\\n\",\n",
    "      f\"Symbol: \\n{t1.get('knot')}\")"
   ]
  },
  {
   "cell_type": "markdown",
   "id": "0e7fefb4-389a-4ebe-8570-5569c3a4e954",
   "metadata": {},
   "source": [
    "```self.branch:``` Subset of branches in the tree"
   ]
  },
  {
   "cell_type": "code",
   "execution_count": 6,
   "id": "30b475c4-a633-4a85-b0bd-2e7e7f3bea20",
   "metadata": {},
   "outputs": [
    {
     "name": "stdout",
     "output_type": "stream",
     "text": [
      "Name of symbol: 'branch_t1'\n",
      " Symbol: \n",
      "MultiIndex([('s1',  'L'),\n",
      "            ('s1', 'KE'),\n",
      "            ('s1', 'x1'),\n",
      "            ('s1', 'x2')],\n",
      "           names=['s', 'n'])\n"
     ]
    }
   ],
   "source": [
    "print(f\"Name of symbol: '{t1.ns['branch']}'\\n\",\n",
    "      f\"Symbol: \\n{t1.get('branch')}\")"
   ]
  },
  {
   "cell_type": "markdown",
   "id": "db14aa5b-0eef-49a7-8ee5-25fd8910cf7b",
   "metadata": {},
   "source": [
    "```self.n:``` All goods (inputs, intermediates, final goods)"
   ]
  },
  {
   "cell_type": "code",
   "execution_count": 7,
   "id": "9895b4bb-ab2e-47ba-9480-125eb197d969",
   "metadata": {},
   "outputs": [
    {
     "name": "stdout",
     "output_type": "stream",
     "text": [
      "Name of symbol: 'n'\n",
      " Symbol: \n",
      "Index(['KE', 'L', 'Y', 'x1', 'x2'], dtype='object', name='n')\n"
     ]
    }
   ],
   "source": [
    "print(f\"Name of symbol: '{t1.ns['n']}'\\n\",\n",
    "      f\"Symbol: \\n{t1.get('n')}\")"
   ]
  },
  {
   "cell_type": "markdown",
   "id": "5b274af7-1876-44e0-a0fb-e5fe3a8c52a2",
   "metadata": {},
   "source": [
    "```self.s:``` Set of sectors."
   ]
  },
  {
   "cell_type": "code",
   "execution_count": 8,
   "id": "82a7eb3b-ddbd-48c3-9d80-4143535a3480",
   "metadata": {},
   "outputs": [
    {
     "name": "stdout",
     "output_type": "stream",
     "text": [
      "Name of symbol: 's'\n",
      " Symbol: \n",
      "Index(['s1'], dtype='object', name='s')\n"
     ]
    }
   ],
   "source": [
    "print(f\"Name of symbol: '{t1.ns['s']}'\\n\",\n",
    "      f\"Symbol: \\n{t1.get('s')}\")"
   ]
  },
  {
   "cell_type": "markdown",
   "id": "4001e780-a350-4810-bda2-661426d33535",
   "metadata": {},
   "source": [
    "```self.input:``` Inputs in the tree."
   ]
  },
  {
   "cell_type": "code",
   "execution_count": 9,
   "id": "d44bb09f-8ea8-4a18-957b-d240f9008739",
   "metadata": {},
   "outputs": [
    {
     "name": "stdout",
     "output_type": "stream",
     "text": [
      "Name of symbol: 'input_t1'\n",
      " Symbol: \n",
      "MultiIndex([('s1',  'L'),\n",
      "            ('s1', 'x1'),\n",
      "            ('s1', 'x2')],\n",
      "           names=['s', 'n'])\n"
     ]
    }
   ],
   "source": [
    "print(f\"Name of symbol: '{t1.ns['input']}'\\n\",\n",
    "      f\"Symbol: \\n{t1.get('input')}\")"
   ]
  },
  {
   "cell_type": "markdown",
   "id": "db25e67e-7baf-4ddb-b043-4ce3eb9bb332",
   "metadata": {},
   "source": [
    "```self.output:``` Outputs from the tree."
   ]
  },
  {
   "cell_type": "code",
   "execution_count": 10,
   "id": "c0fa02dd-6e33-4944-aa00-409dcd954c16",
   "metadata": {},
   "outputs": [
    {
     "name": "stdout",
     "output_type": "stream",
     "text": [
      "Name of symbol: 'output_t1'\n",
      " Symbol: \n",
      "MultiIndex([('s1', 'Y')],\n",
      "           names=['s', 'n'])\n"
     ]
    }
   ],
   "source": [
    "print(f\"Name of symbol: '{t1.ns['output']}'\\n\",\n",
    "      f\"Symbol: \\n{t1.get('output')}\")"
   ]
  },
  {
   "cell_type": "markdown",
   "id": "7a966bae-5712-4579-bd3b-02154f4715d4",
   "metadata": {
    "tags": []
   },
   "source": [
    "## ```AggtTree``` class"
   ]
  },
  {
   "cell_type": "markdown",
   "id": "69f3e52c-4683-40f9-8e16-a579d0ba291d",
   "metadata": {},
   "source": [
    "The aggregate tree takes a name, a dictionary of trees, and a namespace (all optional):"
   ]
  },
  {
   "cell_type": "code",
   "execution_count": 19,
   "id": "683b6c9e-1c34-4a69-874c-300d7f38814f",
   "metadata": {},
   "outputs": [],
   "source": [
    "T = NestingTree.AggTree(name='agg', trees ={ti.name: ti for ti in (t1,t2,t3)})"
   ]
  },
  {
   "cell_type": "markdown",
   "id": "8a3b7f16-804d-4e72-bacc-730cd22e0dc8",
   "metadata": {},
   "source": [
    "The aggregate tree works in somewhat the same way as the individual ones: There is a namespace implemented that allows to write code that refers to static names. Symbols are now stored in a ```GpyDB``` accessed as ```self.db```. Beyond its ows namespace, we can also access the individual trees that are added from the ```self.trees```. We navigate this using the ```self.n,self.get``` methods: ```self.n``` accesses the name of the symbol, ```self.get``` returns the pandas-like representation."
   ]
  },
  {
   "cell_type": "markdown",
   "id": "8680b8c4-9a6b-426f-821f-154512864e53",
   "metadata": {},
   "source": [
    "The main method is the ```self__call__(self,namespace=None)```. This defines global symbols and adjusts trees. The namespace option allows for trees to use temporary names for set elements, e.g. if a nesting tree includes the same name for final inputs and outputs:"
   ]
  },
  {
   "cell_type": "code",
   "execution_count": 20,
   "id": "64269fad-c47f-4914-9971-4bc821e6fd02",
   "metadata": {},
   "outputs": [
    {
     "data": {
      "text/plain": [
       "<NestingTree.AggTree at 0x11ca9fece50>"
      ]
     },
     "execution_count": 20,
     "metadata": {},
     "output_type": "execute_result"
    }
   ],
   "source": [
    "T()"
   ]
  },
  {
   "cell_type": "markdown",
   "id": "3c5692d6-62ad-470f-aa1b-7a39ce054d75",
   "metadata": {},
   "source": [
    "*Access global variable:*"
   ]
  },
  {
   "cell_type": "code",
   "execution_count": 23,
   "id": "995a334d-1987-497e-ab69-ea8198dd1f7a",
   "metadata": {},
   "outputs": [
    {
     "name": "stdout",
     "output_type": "stream",
     "text": [
      "Name of symbol, global scope: \n",
      "'map_agg'\n",
      " Symbols: \n",
      "MultiIndex([('s1',  'Y',  'L'),\n",
      "            ('s1',  'Y', 'KE'),\n",
      "            ('s1', 'KE', 'x1'),\n",
      "            ('s1', 'KE', 'x2'),\n",
      "            ('s2',  'Y',  'X'),\n",
      "            ('s2',  'Y',  'K'),\n",
      "            ('s2', 'Y1',  'Y'),\n",
      "            ('s2', 'Y2',  'Y')],\n",
      "           names=['s', 'n', 'nn'])\n"
     ]
    }
   ],
   "source": [
    "print(f\"Name of symbol, global scope: \\n'{T.n('map')}'\\n\",\n",
    "      f\"Symbols: \\n{T.get('map')}\")"
   ]
  },
  {
   "cell_type": "markdown",
   "id": "70e2b5bf-ef42-4386-8edb-084022f64749",
   "metadata": {},
   "source": [
    "*Access local variable (in individual tree):*"
   ]
  },
  {
   "cell_type": "code",
   "execution_count": 24,
   "id": "511ef125-05ea-4c06-8671-2fbd6a6963d0",
   "metadata": {},
   "outputs": [
    {
     "name": "stdout",
     "output_type": "stream",
     "text": [
      "Name of symbol, local scope: \n",
      "'map_t1'\n",
      " Symbols: \n",
      "MultiIndex([('s1',  'Y',  'L'),\n",
      "            ('s1',  'Y', 'KE'),\n",
      "            ('s1', 'KE', 'x1'),\n",
      "            ('s1', 'KE', 'x2')],\n",
      "           names=['s', 'n', 'nn'])\n"
     ]
    }
   ],
   "source": [
    "print(f\"Name of symbol, local scope: \\n'{T.n('map',local='t1')}'\\n\",\n",
    "      f\"Symbols: \\n{T.get('map',local='t1')}\")"
   ]
  },
  {
   "cell_type": "markdown",
   "id": "6c3189da-4e38-4e4c-88fc-250c7b78efbe",
   "metadata": {},
   "source": [
    "The aggregate tree collects individual trees and aggregates them into a single nesting structure. The methods and standard attributes tailored to the methods in ```CGE_Generator``` classes, to help identify exogenous/endogenous subsets and efficiently write gams code."
   ]
  },
  {
   "cell_type": "markdown",
   "id": "e8b5e09c-11af-4ce9-8719-c0e17acd2c79",
   "metadata": {},
   "source": [
    "### Relevant symbols:\n",
    "In the aggregate tree:\n",
    "* ```n```: Goods.\n",
    "* ```s```: sectors.\n",
    "* ```map```: entire nesting tree.\n",
    "* ```input```: Inputs in aggregate tree.\n",
    "* ```output```: Outputs from aggregate tree.\n",
    "* ```int```: Intermediate goods.\n",
    "* ```map_spinp```: Subset of ```map``` that are characterized by the individual tree being input-type and scale-preserving (```tree.sp = True, tree.io = 'inp'```).\n",
    "* ```map_spout```: Subset of ```map``` that are characterized by the individual tree being output-type and scale-preserving (```tree.sp = True, tree.io = 'out'```).\n",
    "* ```knout```: Knots in the nesting tree from output-type trees (```tree.io = 'out'```).\n",
    "* ```kninp```: Knots in the nesting tree from input-type trees (```tree.io = 'inp'```).\n",
    "* ```spinp```: Subset of knots in tree that are both input type + scale preserving.\n",
    "* ```spout```: Subset of knots in tree that are both output type + scale preserving."
   ]
  },
  {
   "cell_type": "markdown",
   "id": "66e7100a-cadb-4043-b2c7-9afe42eb9c87",
   "metadata": {},
   "source": [
    "Symbols added that are specific to individual tree:\n",
    "* **For input type trees:**\n",
    "    * ```knot_o```:  The subset of knots that are outputs from the aggregate tree. \n",
    "    * ```knot_no```: The subset of knots thare are not outputs from aggregate tree.\n",
    "    * ```branch2o```: Branches for which the relevant knot is an output from aggregate tree.\n",
    "    * ```branch2no```: Branches for which the relevant knot is not an output from aggregate tree.\n",
    "* **For output type trees:**\n",
    "    * ```branch_o```: Branches that are outputs from aggregate tree.\n",
    "    * ```branch_no```: Branches that are not outputs from aggregate tree."
   ]
  },
  {
   "cell_type": "markdown",
   "id": "2f37945d-718f-4362-a745-f144fcc30869",
   "metadata": {},
   "source": [
    "In this case, for instance, the sector 's2' produces two outputs: ```Y1,Y2```. These are both branches in the output tree t3. Thus:"
   ]
  },
  {
   "cell_type": "markdown",
   "id": "2bfb33b9-f37b-4ce9-a034-20e5fbfe215c",
   "metadata": {},
   "source": [
    "*No knots in the tree 't2' are outputs, all are branches that are tied to non-outputs:*"
   ]
  },
  {
   "cell_type": "code",
   "execution_count": 26,
   "id": "14708c94-3927-4abb-aba5-24129a92a06b",
   "metadata": {},
   "outputs": [
    {
     "data": {
      "text/plain": [
       "MultiIndex([], names=['s', 'n'])"
      ]
     },
     "execution_count": 26,
     "metadata": {},
     "output_type": "execute_result"
    }
   ],
   "source": [
    "T.get('knot_o',local='t2')"
   ]
  },
  {
   "cell_type": "code",
   "execution_count": 27,
   "id": "f727cc37-17d7-428e-9cf7-292825d0942b",
   "metadata": {},
   "outputs": [
    {
     "data": {
      "text/plain": [
       "MultiIndex([('s2', 'X'),\n",
       "            ('s2', 'K')],\n",
       "           names=['s', 'n'])"
      ]
     },
     "execution_count": 27,
     "metadata": {},
     "output_type": "execute_result"
    }
   ],
   "source": [
    "T.get('branch2no',local='t2')"
   ]
  },
  {
   "cell_type": "markdown",
   "id": "21fb2639-f1e4-45d9-99af-c05dd5ebfb75",
   "metadata": {},
   "source": [
    "*For the tree t3 all branches are outputs:*"
   ]
  },
  {
   "cell_type": "code",
   "execution_count": 28,
   "id": "60a2f011-8243-44ca-a97d-1d7b2177b6bc",
   "metadata": {},
   "outputs": [
    {
     "data": {
      "text/plain": [
       "MultiIndex([('s2', 'Y1'),\n",
       "            ('s2', 'Y2')],\n",
       "           names=['s', 'n'])"
      ]
     },
     "execution_count": 28,
     "metadata": {},
     "output_type": "execute_result"
    }
   ],
   "source": [
    "T.get('branch_o',local='t3')"
   ]
  }
 ],
 "metadata": {
  "kernelspec": {
   "display_name": "Python 3 (ipykernel)",
   "language": "python",
   "name": "python3"
  },
  "language_info": {
   "codemirror_mode": {
    "name": "ipython",
    "version": 3
   },
   "file_extension": ".py",
   "mimetype": "text/x-python",
   "name": "python",
   "nbconvert_exporter": "python",
   "pygments_lexer": "ipython3",
   "version": "3.9.7"
  }
 },
 "nbformat": 4,
 "nbformat_minor": 5
}
