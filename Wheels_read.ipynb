{
 "cells": [
  {
   "cell_type": "code",
   "execution_count": 1,
   "id": "cb6ffafb-10d8-41c0-a494-8cf3371716ed",
   "metadata": {},
   "outputs": [
    {
     "name": "stdout",
     "output_type": "stream",
     "text": [
      "No clean-up of work-folder\n"
     ]
    }
   ],
   "source": [
    "%run StdPackages.ipynb\n",
    "os.chdir(d['py'])\n",
    "from DBWheels_read import SeriesDB_from_wb\n",
    "os.chdir(d['curr'])"
   ]
  },
  {
   "cell_type": "markdown",
   "id": "d61423bb-8f97-4eab-95ca-58e8817020b9",
   "metadata": {
    "tags": []
   },
   "source": [
    "# DBWheels_read.py"
   ]
  },
  {
   "cell_type": "markdown",
   "id": "2b79395f-1cf6-4951-a200-1b7e3b0af097",
   "metadata": {},
   "source": [
    "Small add-on that helps read in data from excel. There are currently 8 methods implemented to read in: sets, subsets, mappings, variables, parameters, scalar variables, scalar parameters, and one method for reading 2d variables arranged in separate sheets."
   ]
  },
  {
   "cell_type": "markdown",
   "id": "8e6c6b02-0839-4e4d-bec6-4980161e2808",
   "metadata": {},
   "source": [
    "The data should be arranged as in the file 'DBWheels_read.xlsx'. We specify how the data is read by adding key = type of function we use to read in and values = list of sheets to apply the given function on."
   ]
  },
  {
   "cell_type": "code",
   "execution_count": 2,
   "id": "4891b18e-7b53-472c-bf00-f116ca4f4819",
   "metadata": {},
   "outputs": [],
   "source": [
    "readlike = {'sets': ['sheet_sets'], \n",
    "            'subsets': ['sheet_subsets'],\n",
    "            'variables': ['sheet_variables'],\n",
    "            'parameters': ['sheet_parameters'],\n",
    "            'scalar_variables': ['sheet_scalar_variables'],\n",
    "            'scalar_parameters': ['sheet_scalar_parameters'],\n",
    "            'variable2D': ['sheet_variable2D']}"
   ]
  },
  {
   "cell_type": "markdown",
   "id": "46e71262-17ca-4558-aa13-469ec9c64937",
   "metadata": {},
   "source": [
    "The following statement creates a ```Database.SeriesDB``` database instance with the symbols that are declared in the excel file. Note that if a symbol is declared in multiple sheets, they will be merged using this function:"
   ]
  },
  {
   "cell_type": "code",
   "execution_count": 3,
   "id": "30d9a3c0-a4cc-40f4-9294-55bfbfc7a57e",
   "metadata": {},
   "outputs": [],
   "source": [
    "dbSeries =  SeriesDB_from_wb(d['data']+'\\\\DBWheels_read.xlsx',readlike)"
   ]
  },
  {
   "cell_type": "markdown",
   "id": "968fd568-b579-4731-8fec-1df4cc2af97b",
   "metadata": {},
   "source": [
    "The resulting symbols can then be accessed:"
   ]
  },
  {
   "cell_type": "code",
   "execution_count": 10,
   "id": "bdadb415-12e8-4124-94c7-c5a5cef0b520",
   "metadata": {},
   "outputs": [
    {
     "data": {
      "text/plain": [
       "'a'"
      ]
     },
     "execution_count": 10,
     "metadata": {},
     "output_type": "execute_result"
    }
   ],
   "source": [
    "'_'.join(['a'])"
   ]
  },
  {
   "cell_type": "code",
   "execution_count": 4,
   "id": "aae61da6-5207-4d1b-b7c1-1d549f3e8f26",
   "metadata": {},
   "outputs": [
    {
     "data": {
      "text/plain": [
       "{'n': <_Database.gpy at 0x2387205b520>,\n",
       " 's': <_Database.gpy at 0x23872019850>,\n",
       " 'subset1': <_Database.gpy at 0x2387204a490>,\n",
       " 'subset2': <_Database.gpy at 0x23872019a30>,\n",
       " 'var1': <_Database.gpy at 0x23875686fa0>,\n",
       " 'var2': <_Database.gpy at 0x23875686be0>,\n",
       " 'par1': <_Database.gpy at 0x23871f8f670>,\n",
       " 'par2': <_Database.gpy at 0x23871f8f4f0>,\n",
       " 'scalar1': <_Database.gpy at 0x23874979d90>,\n",
       " 'scalar2': <_Database.gpy at 0x23875686bb0>,\n",
       " 'scalar3': <_Database.gpy at 0x23875686f10>,\n",
       " 'scalar_par1': <_Database.gpy at 0x238720199a0>,\n",
       " 'scalar_par2': <_Database.gpy at 0x23872019610>,\n",
       " 'scalar_par3': <_Database.gpy at 0x23872019310>,\n",
       " '2dvar': <_Database.gpy at 0x23875686eb0>}"
      ]
     },
     "execution_count": 4,
     "metadata": {},
     "output_type": "execute_result"
    }
   ],
   "source": [
    "dbSeries.database"
   ]
  }
 ],
 "metadata": {
  "kernelspec": {
   "display_name": "Python 3 (ipykernel)",
   "language": "python",
   "name": "python3"
  },
  "language_info": {
   "codemirror_mode": {
    "name": "ipython",
    "version": 3
   },
   "file_extension": ".py",
   "mimetype": "text/x-python",
   "name": "python",
   "nbconvert_exporter": "python",
   "pygments_lexer": "ipython3",
   "version": "3.9.7"
  }
 },
 "nbformat": 4,
 "nbformat_minor": 5
}
