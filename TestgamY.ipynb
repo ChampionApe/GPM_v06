{
 "cells": [
  {
   "cell_type": "code",
   "execution_count": 1,
   "id": "b6c01aa3-3813-417f-b689-3e19a16e58b5",
   "metadata": {},
   "outputs": [],
   "source": [
    "clean_up = True\n",
    "%run StdPackages.ipynb"
   ]
  },
  {
   "cell_type": "code",
   "execution_count": 2,
   "id": "20a60fa6-043d-4351-b554-93561a645f3a",
   "metadata": {},
   "outputs": [],
   "source": [
    "from dreamtools.gamY import Precompiler\n",
    "repo = os.path.join(d['main'],'gams\\\\AbatementExample')"
   ]
  },
  {
   "cell_type": "markdown",
   "id": "0c7f3571-cee5-42c1-a2f1-469376558eaf",
   "metadata": {
    "tags": []
   },
   "source": [
    "## Testing adjustments to gamY package"
   ]
  },
  {
   "cell_type": "markdown",
   "id": "2c665f56-f2bc-4ad8-b281-efe4505333f0",
   "metadata": {},
   "source": [
    "*Read part of a gamY model:*"
   ]
  },
  {
   "cell_type": "code",
   "execution_count": 3,
   "id": "9c9124f6-8133-4c84-9493-5a448868831f",
   "metadata": {},
   "outputs": [],
   "source": [
    "compiler = Precompiler(repo+'\\\\V02_Collect.gms')\n",
    "compiler.locals = {'techtype':\"'normal'\"}\n",
    "text = compiler()"
   ]
  },
  {
   "cell_type": "markdown",
   "id": "cb6dc184-28f4-44ad-957d-f75283d1b310",
   "metadata": {},
   "source": [
    "*Initialize GmsModel and run with a checkpoint:*"
   ]
  },
  {
   "cell_type": "code",
   "execution_count": 4,
   "id": "cc0ad8af-bd91-4619-a00f-011ddb52fbf1",
   "metadata": {},
   "outputs": [],
   "source": [
    "m = GmsPy.GmsModel(ws=d['work'], **{'cns': 'CONOPT4'})\n",
    "m.addlocal('V01_DB', os.path.join(repo,'V01_DB.gdx'))\n",
    "cp = m.ws.add_checkpoint()\n",
    "m.run(run = text, options_run = {'checkpoint':cp})"
   ]
  },
  {
   "cell_type": "markdown",
   "id": "f1429722-da26-4cfd-aa4e-a5426ef19fc2",
   "metadata": {},
   "source": [
    "*Read in the file defining the model and solving it, and execute cp:*"
   ]
  },
  {
   "cell_type": "code",
   "execution_count": 5,
   "id": "a1289082-95d3-47d6-96e7-be4f75464f2a",
   "metadata": {},
   "outputs": [],
   "source": [
    "compiler.update_file_path(repo+'\\\\B_RunFile.gms')\n",
    "text2 = compiler(**{'has_read_file': True})\n",
    "m.run(run = text2, options_add = {'checkpoint':cp})"
   ]
  },
  {
   "cell_type": "markdown",
   "id": "6c3f2093-4d9d-42a6-910c-2f40edbdbe44",
   "metadata": {},
   "source": [
    "## Test writing methods"
   ]
  },
  {
   "cell_type": "markdown",
   "id": "ee95a8cc-67cc-4d5c-8d92-0b550a7c8234",
   "metadata": {},
   "source": [
    "Get db:"
   ]
  },
  {
   "cell_type": "code",
   "execution_count": 6,
   "id": "a39d213c-2b41-47fe-ba3b-51d3c3b6bb97",
   "metadata": {},
   "outputs": [],
   "source": [
    "db_str = os.path.join(repo,'V01_DB.gdx')\n",
    "db = Database.GpyDB(db=db_str)"
   ]
  },
  {
   "cell_type": "markdown",
   "id": "8978b6bb-9967-4009-9f8a-617410886cc2",
   "metadata": {},
   "source": [
    "Write text:"
   ]
  },
  {
   "cell_type": "code",
   "execution_count": 7,
   "id": "7b241fe5-52e3-4f30-b7f9-d9383459d1a4",
   "metadata": {},
   "outputs": [],
   "source": [
    "text_from_db = write_from_db(db,gdx='%V01_DB%')\n",
    "out = ''\n",
    "for v in text_from_db.values():\n",
    "    out += v"
   ]
  },
  {
   "cell_type": "markdown",
   "id": "585235f5-05e7-4f0c-aa20-f866268c4335",
   "metadata": {},
   "source": [
    "*Run with gams:*"
   ]
  },
  {
   "cell_type": "code",
   "execution_count": 8,
   "id": "4e2dc8d6-2ff7-4f53-b07b-d0b6c1ec99c5",
   "metadata": {},
   "outputs": [],
   "source": [
    "m = GmsPy.GmsModel(ws=d['work'])\n",
    "m.addlocal('V01_DB', db_str)\n",
    "m.run(run = out)"
   ]
  }
 ],
 "metadata": {
  "kernelspec": {
   "display_name": "Python 3 (ipykernel)",
   "language": "python",
   "name": "python3"
  },
  "language_info": {
   "codemirror_mode": {
    "name": "ipython",
    "version": 3
   },
   "file_extension": ".py",
   "mimetype": "text/x-python",
   "name": "python",
   "nbconvert_exporter": "python",
   "pygments_lexer": "ipython3",
   "version": "3.9.7"
  }
 },
 "nbformat": 4,
 "nbformat_minor": 5
}
