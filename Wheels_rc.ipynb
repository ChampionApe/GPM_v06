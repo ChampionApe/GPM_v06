{
 "cells": [
  {
   "cell_type": "code",
   "execution_count": 1,
   "id": "42bb1865-6347-4cf8-afd2-cc6374eeabd5",
   "metadata": {},
   "outputs": [],
   "source": [
    "%run StdPackages.ipynb"
   ]
  },
  {
   "cell_type": "markdown",
   "id": "456eba61-ef4e-45fc-90f2-12d0c8cb0695",
   "metadata": {},
   "source": [
    "Load wheels and test databases:"
   ]
  },
  {
   "cell_type": "code",
   "execution_count": 2,
   "id": "e7a380d5-1620-439e-91a7-04019130eac3",
   "metadata": {},
   "outputs": [],
   "source": [
    "fs = [f\"{d['data']}\\\\test_size1000.gdx\", f\"{d['data']}\\\\baselinerun.gdx\"] # files\n",
    "ws = gams.GamsWorkspace() \n",
    "g2np = gams2numpy.Gams2Numpy(ws.system_directory)\n",
    "dbs = {'gms1': ws.add_database_from_gdx(fs[0]), 'gms2': ws.add_database_from_gdx(fs[1]),\n",
    "       'gpy1': Database.GpyDB(db=fs[0],**{'name': 'testdb1'}), 'gpy2': Database.GpyDB(db=fs[1],**{'name': 'testdb1'})}\n",
    "db = dbs['gpy2']"
   ]
  },
  {
   "cell_type": "code",
   "execution_count": 3,
   "id": "e70c8d5d-dc4e-4ae7-8dee-ac2bad7a6223",
   "metadata": {},
   "outputs": [],
   "source": [
    "os.chdir(d['py'])\n",
    "# import DBWheels_rc\n",
    "from DBWheels_rc import rctree_pd, rc_AdjGpy, rc_AdjPd, rctree_admissable_types\n",
    "os.chdir(d['curr'])"
   ]
  },
  {
   "cell_type": "markdown",
   "id": "abf4c258-3977-488a-a437-6f09fd5ee857",
   "metadata": {
    "tags": []
   },
   "source": [
    "# DBWheels_rc.py"
   ]
  },
  {
   "cell_type": "markdown",
   "id": "e36ebbe4-d7ee-48f0-90a3-05d5014bea98",
   "metadata": {},
   "source": [
    "The wheels ```DBWheels_rc.py``` is used to subset ```gpy``` or pandas symbols (```pd.Index, pd.MultiIndex, pd.Series pd.DataFrame```) using nested condition trees. Four main methods: ```rctree_pd, rc_AdjGpy, rc_AdjPd```. "
   ]
  },
  {
   "cell_type": "markdown",
   "id": "472d54f9-6d87-4e50-b395-1998dc9ef89c",
   "metadata": {},
   "source": [
    "### 1: ```rctree_pd(s=None, c = None, alias = {}, lag = {}, pm = False)``` \n",
    "\n",
    "Before going through the conditions in ```c``` this uses the ```rc_AdjPd``` to apply the 'alias' and 'lag' arguments (see section 2 for more). After this, we have the following:\n",
    "\n",
    "```python\n",
    "if isinstance(c, rctree_admissable_types):\n",
    "``` \n",
    "    The method compares indices in 'c' and the symbol 's'. How this is done depends on the setting for pm = True or False.\n",
    "```python\n",
    "elif isinstance(c, tuple):\n",
    "``` \n",
    "    The tuple has to include exactly two elements: The first element specifies how to handle the second element; c[0] belongs to ('and','or','not'). The second element can be a new condition or a list of those (unless the first argument is 'not'). \n",
    "    \n",
    "```python\n",
    "elif isinstance(c, dict):\n",
    "``` \n",
    "    The dict indicates a symbol that belongs to the types rctree_admissable_types, but is adjusted in some way that relies on the rctree_pd method itself. Thus, the dict should be arranged with {'s': s, 'c': c, ...}.\n",
    "```python\n",
    "elif c is None:\n",
    "```\n",
    "    Returns the full symbol s without slicing."
   ]
  },
  {
   "cell_type": "markdown",
   "id": "81e02b05-fc42-4f7f-bac8-5f462604b432",
   "metadata": {},
   "source": [
    "#### 1.1. Single condition"
   ]
  },
  {
   "cell_type": "markdown",
   "id": "ecb0dcbe-9891-456c-ba12-021271e5471d",
   "metadata": {},
   "source": [
    "Let's start with a simple condition. Both ```s``` and ```c``` can be of the following four types:"
   ]
  },
  {
   "cell_type": "code",
   "execution_count": 4,
   "id": "31887e21-e254-4123-8817-78a37e23114e",
   "metadata": {},
   "outputs": [
    {
     "data": {
      "text/plain": [
       "(_Database.gpy,\n",
       " pandas.core.indexes.base.Index,\n",
       " pandas.core.series.Series,\n",
       " pandas.core.frame.DataFrame)"
      ]
     },
     "execution_count": 4,
     "metadata": {},
     "output_type": "execute_result"
    }
   ],
   "source": [
    "rctree_admissable_types"
   ]
  },
  {
   "cell_type": "markdown",
   "id": "c09c1e7a-3b71-4582-a8fc-192abc9dce89",
   "metadata": {},
   "source": [
    "The following yields the same outcome:"
   ]
  },
  {
   "cell_type": "code",
   "execution_count": 5,
   "id": "9ffa19e2-af49-478f-bbe9-49dcd22ea9f9",
   "metadata": {},
   "outputs": [
    {
     "data": {
      "text/plain": [
       "aggid   t   \n",
       "agg5    2018    0.165076\n",
       "agg87   2018    0.148073\n",
       "agg71   2018    0.429286\n",
       "agg123  2018        0.31\n",
       "agg23   2018    0.339071\n",
       "                  ...   \n",
       "agg217  2018    0.315455\n",
       "agg221  2018      0.3883\n",
       "agg222  2018      0.3883\n",
       "agg223  2018    0.377681\n",
       "agg224  2018    0.377681\n",
       "Name: level, Length: 139, dtype: object"
      ]
     },
     "execution_count": 5,
     "metadata": {},
     "output_type": "execute_result"
    }
   ],
   "source": [
    "s = db['Eff']\n",
    "cs = [db['ElCap'], db.get('ElCap'), db['ElCap'].index, db.get('ElCap').to_frame()]\n",
    "c = cs[0]\n",
    "rctree_pd(s=s, c=c)"
   ]
  },
  {
   "cell_type": "markdown",
   "id": "26850146-f8bb-428c-9f2c-0da38bcc4c7b",
   "metadata": {},
   "source": [
    "Before running the subsetting, we could have (1) altered the set names using the alias method or (2) lagged a set value (if if is a numerical index):"
   ]
  },
  {
   "cell_type": "code",
   "execution_count": 6,
   "id": "a62ecc40-c583-4f37-8652-333e8e89aefc",
   "metadata": {},
   "outputs": [
    {
     "data": {
      "text/plain": [
       "aggid   tt  \n",
       "agg127  2017         0.0\n",
       "agg80   2017    1.023287\n",
       "agg5    2017    0.165076\n",
       "agg108  2017    0.834509\n",
       "agg87   2017    0.148073\n",
       "                  ...   \n",
       "agg224  2017    0.377681\n",
       "agg225  2017         0.0\n",
       "agg226  2017         0.0\n",
       "agg227  2017         0.0\n",
       "agg228  2017         0.0\n",
       "Name: level, Length: 228, dtype: object"
      ]
     },
     "execution_count": 6,
     "metadata": {},
     "output_type": "execute_result"
    }
   ],
   "source": [
    "rctree_pd(s, alias = {'t':'tt'}, lag = {'t':-1}) # adjust name of index t to tt, and lag the set with -1"
   ]
  },
  {
   "cell_type": "markdown",
   "id": "42628d24-d657-4133-ac86-d25c04cd07ed",
   "metadata": {},
   "source": [
    "If we subset this new symbol using the condition from before we get an empty series: This is because (1) domains do not overlap (t in one, tt in the other), and (2) the years in one variable is 2017, and 2018 in the other. One of the conditions is enough to yield the empty result:"
   ]
  },
  {
   "cell_type": "code",
   "execution_count": 7,
   "id": "098c13e4-899c-4e85-825e-68e816dbd062",
   "metadata": {},
   "outputs": [
    {
     "data": {
      "text/plain": [
       "(Series([], Name: level, dtype: object),\n",
       " Series([], Name: level, dtype: object))"
      ]
     },
     "execution_count": 7,
     "metadata": {},
     "output_type": "execute_result"
    }
   ],
   "source": [
    "rctree_pd(s, c=c, alias = {'t':'tt'}), rctree_pd(s, c=c, lag = {'t':-1})"
   ]
  },
  {
   "cell_type": "markdown",
   "id": "4a4e22d9-2d42-4319-9f24-7b8c09705bfd",
   "metadata": {},
   "source": [
    "We can also pass the symbol in ```c``` with similar adjustments as carried out on ```s```: While this is a weird scenario, we can get at the same observations as in ```rctree_pd(s,c)``` (only lagged and renamed) if we alias and lag the two variables in the same way. We pass such adjustments to ```c``` using a dictionary input:"
   ]
  },
  {
   "cell_type": "code",
   "execution_count": 8,
   "id": "25948f5a-0788-4f30-b4a8-6262ec36bf75",
   "metadata": {},
   "outputs": [
    {
     "data": {
      "text/plain": [
       "aggid   tt  \n",
       "agg5    2017    0.165076\n",
       "agg87   2017    0.148073\n",
       "agg71   2017    0.429286\n",
       "agg123  2017        0.31\n",
       "agg23   2017    0.339071\n",
       "                  ...   \n",
       "agg217  2017    0.315455\n",
       "agg221  2017      0.3883\n",
       "agg222  2017      0.3883\n",
       "agg223  2017    0.377681\n",
       "agg224  2017    0.377681\n",
       "Name: level, Length: 139, dtype: object"
      ]
     },
     "execution_count": 8,
     "metadata": {},
     "output_type": "execute_result"
    }
   ],
   "source": [
    "alias,lag = {'t': 'tt'}, {'t':-1}\n",
    "c_dict = {'s': c, 'alias': alias, 'lag': lag}\n",
    "rctree_pd(s, c = c_dict, alias = alias, lag = lag)"
   ]
  },
  {
   "cell_type": "markdown",
   "id": "056b9920-b72c-478c-a877-a1660d6e1fdd",
   "metadata": {},
   "source": [
    "#### 1.2. Tuples and multiple conditions"
   ]
  },
  {
   "cell_type": "markdown",
   "id": "ff376e5c-a373-4fc7-88a1-c99d29f8dad9",
   "metadata": {},
   "source": [
    "If we want to add multiple conditions (and/or), we use a tuple with two elements: (keyword, list of conditions):"
   ]
  },
  {
   "cell_type": "code",
   "execution_count": 9,
   "id": "3d467e7a-e06b-4713-b303-b986bfae1642",
   "metadata": {
    "scrolled": true,
    "tags": []
   },
   "outputs": [
    {
     "data": {
      "text/plain": [
       "aggid   t   \n",
       "agg5    2018    0.165076\n",
       "agg87   2018    0.148073\n",
       "agg71   2018    0.429286\n",
       "agg23   2018    0.339071\n",
       "agg89   2018     0.17309\n",
       "agg15   2018    0.395134\n",
       "agg62   2018    0.392741\n",
       "agg111  2018        0.47\n",
       "agg79   2018    0.227883\n",
       "agg122  2018         0.5\n",
       "agg121  2018    0.400667\n",
       "agg19   2018    0.401083\n",
       "agg61   2018    0.368741\n",
       "agg124  2018    0.122748\n",
       "agg109  2018    0.262387\n",
       "agg21   2018       0.206\n",
       "agg32   2018    0.402759\n",
       "agg56   2018    0.376404\n",
       "agg22   2018    0.339948\n",
       "agg70   2018       0.382\n",
       "agg114  2018       0.388\n",
       "agg78   2018    0.386496\n",
       "agg12   2018    0.130029\n",
       "agg110  2018         0.3\n",
       "agg85   2018    0.184003\n",
       "agg90   2018    0.271083\n",
       "agg77   2018    0.153599\n",
       "agg91   2018    0.207216\n",
       "agg103  2018        0.22\n",
       "agg83   2018    0.242192\n",
       "agg3    2018    0.206905\n",
       "agg20   2018     0.08652\n",
       "agg24   2018    0.401724\n",
       "agg99   2018    0.162306\n",
       "agg100  2018    0.162306\n",
       "agg101  2018    0.162306\n",
       "agg96   2018    0.161218\n",
       "agg97   2018    0.121251\n",
       "agg104  2018    0.140284\n",
       "agg105  2018    0.179974\n",
       "agg72   2018       0.308\n",
       "agg107  2018    0.112028\n",
       "agg81   2018    0.185285\n",
       "agg106  2018    0.121647\n",
       "agg115  2018    0.093551\n",
       "agg94   2018    0.033225\n",
       "agg2    2018    0.224169\n",
       "agg112  2018    0.170016\n",
       "agg92   2018    0.093507\n",
       "agg117  2018    0.058389\n",
       "agg218  2018    0.315455\n",
       "agg217  2018    0.315455\n",
       "agg221  2018      0.3883\n",
       "agg222  2018      0.3883\n",
       "agg223  2018    0.377681\n",
       "agg224  2018    0.377681\n",
       "Name: level, dtype: object"
      ]
     },
     "execution_count": 9,
     "metadata": {},
     "output_type": "execute_result"
    }
   ],
   "source": [
    "rctree_pd(s, c = ('and', [db['ElCap'], db.get('chp')])) # both elcap and chp"
   ]
  },
  {
   "cell_type": "code",
   "execution_count": 10,
   "id": "d6989977-ba43-4675-add9-abf5105df9db",
   "metadata": {
    "scrolled": true,
    "tags": []
   },
   "outputs": [
    {
     "data": {
      "text/plain": [
       "aggid   t   \n",
       "agg127  2018         0.0\n",
       "agg5    2018    0.165076\n",
       "agg87   2018    0.148073\n",
       "agg71   2018    0.429286\n",
       "agg123  2018        0.31\n",
       "                  ...   \n",
       "agg224  2018    0.377681\n",
       "agg225  2018         0.0\n",
       "agg226  2018         0.0\n",
       "agg227  2018         0.0\n",
       "agg228  2018         0.0\n",
       "Name: level, Length: 154, dtype: object"
      ]
     },
     "execution_count": 10,
     "metadata": {},
     "output_type": "execute_result"
    }
   ],
   "source": [
    "rctree_pd(s, c = ('or', [db['ElCap'].index, db.get('chp')])) # either elcap or chp"
   ]
  },
  {
   "cell_type": "markdown",
   "id": "9220d204-c107-4022-b326-cc5ace6d5cf9",
   "metadata": {},
   "source": [
    "#### 1.3. Tuples and negating conditions"
   ]
  },
  {
   "cell_type": "markdown",
   "id": "cfe41171-6f8d-4352-9356-cecbb0da268a",
   "metadata": {},
   "source": [
    "We negating conditions, we use the tuple approach with the second argument being a single element (instead of e.g. a list of conditions as with and/or):"
   ]
  },
  {
   "cell_type": "code",
   "execution_count": 11,
   "id": "49acacc3-563a-46f3-b712-68b16d2d7945",
   "metadata": {},
   "outputs": [
    {
     "data": {
      "text/plain": [
       "aggid   t   \n",
       "agg127  2018         0.0\n",
       "agg80   2018    1.023287\n",
       "agg108  2018    0.834509\n",
       "agg40   2018    0.852302\n",
       "agg126  2018         0.0\n",
       "                  ...   \n",
       "agg220  2018         0.0\n",
       "agg225  2018         0.0\n",
       "agg226  2018         0.0\n",
       "agg227  2018         0.0\n",
       "agg228  2018         0.0\n",
       "Name: level, Length: 89, dtype: object"
      ]
     },
     "execution_count": 11,
     "metadata": {},
     "output_type": "execute_result"
    }
   ],
   "source": [
    "rctree_pd(s, c = ('not', db['ElCap']))"
   ]
  },
  {
   "cell_type": "markdown",
   "id": "9bf8dbfa-9500-4cd9-a818-3740667df02e",
   "metadata": {},
   "source": [
    "#### 1.4. Nested conditions"
   ]
  },
  {
   "cell_type": "markdown",
   "id": "ed958c10-3c13-425f-b982-59210e5c0d30",
   "metadata": {},
   "source": [
    "We nest conditions using tuple inputs: we need to specify whether or not the various arguments need to passed as and/or/not conditions. The different types of conditions can be arbitrarily nested. Here are some examples:"
   ]
  },
  {
   "cell_type": "markdown",
   "id": "c8eba70a-7441-417b-89ab-8e09b05711e8",
   "metadata": {},
   "source": [
    "*ElCap and chp, and not HeatCap lagged with -1:*"
   ]
  },
  {
   "cell_type": "code",
   "execution_count": 12,
   "id": "29c52e8a-f70a-48e3-b301-b9e2475caa38",
   "metadata": {
    "scrolled": true,
    "tags": []
   },
   "outputs": [
    {
     "data": {
      "text/plain": [
       "aggid   t   \n",
       "agg5    2018    0.165076\n",
       "agg87   2018    0.148073\n",
       "agg71   2018    0.429286\n",
       "agg23   2018    0.339071\n",
       "agg89   2018     0.17309\n",
       "agg15   2018    0.395134\n",
       "agg62   2018    0.392741\n",
       "agg111  2018        0.47\n",
       "agg79   2018    0.227883\n",
       "agg122  2018         0.5\n",
       "agg121  2018    0.400667\n",
       "agg19   2018    0.401083\n",
       "agg61   2018    0.368741\n",
       "agg124  2018    0.122748\n",
       "agg109  2018    0.262387\n",
       "agg21   2018       0.206\n",
       "agg32   2018    0.402759\n",
       "agg56   2018    0.376404\n",
       "agg22   2018    0.339948\n",
       "agg70   2018       0.382\n",
       "agg114  2018       0.388\n",
       "agg78   2018    0.386496\n",
       "agg12   2018    0.130029\n",
       "agg110  2018         0.3\n",
       "agg85   2018    0.184003\n",
       "agg90   2018    0.271083\n",
       "agg77   2018    0.153599\n",
       "agg91   2018    0.207216\n",
       "agg103  2018        0.22\n",
       "agg83   2018    0.242192\n",
       "agg3    2018    0.206905\n",
       "agg20   2018     0.08652\n",
       "agg24   2018    0.401724\n",
       "agg99   2018    0.162306\n",
       "agg100  2018    0.162306\n",
       "agg101  2018    0.162306\n",
       "agg96   2018    0.161218\n",
       "agg97   2018    0.121251\n",
       "agg104  2018    0.140284\n",
       "agg105  2018    0.179974\n",
       "agg72   2018       0.308\n",
       "agg107  2018    0.112028\n",
       "agg81   2018    0.185285\n",
       "agg106  2018    0.121647\n",
       "agg115  2018    0.093551\n",
       "agg94   2018    0.033225\n",
       "agg2    2018    0.224169\n",
       "agg112  2018    0.170016\n",
       "agg92   2018    0.093507\n",
       "agg117  2018    0.058389\n",
       "agg218  2018    0.315455\n",
       "agg217  2018    0.315455\n",
       "agg221  2018      0.3883\n",
       "agg222  2018      0.3883\n",
       "agg223  2018    0.377681\n",
       "agg224  2018    0.377681\n",
       "Name: level, dtype: object"
      ]
     },
     "execution_count": 12,
     "metadata": {},
     "output_type": "execute_result"
    }
   ],
   "source": [
    "rctree_pd(s, c = ('and', [db['ElCap'], db['chp'], ('not', {'s':db['HeatCap'], 'lag':{'t':-1}}) ]   ))"
   ]
  },
  {
   "cell_type": "markdown",
   "id": "25faded6-84e8-4513-9f49-4f3e3e1c61d2",
   "metadata": {},
   "source": [
    "#### 1.5. Partial matching of domains/levels"
   ]
  },
  {
   "cell_type": "markdown",
   "id": "33f1e7d4-a7de-449d-aa08-5f2cc2ebb324",
   "metadata": {},
   "source": [
    "The ```rctree_pd``` method searches for overlaps in relevant indices. Consider the simple case where ```s```, ```c``` are both pandas multiindex. The default behavior when comparing the two indices, is to evaluate to ```False``` if the index ```c``` has levels that are not in ```s```; not the other way around though. For example: ```Eff[aggid,t]``` can returns a non-empty index when comparing to ```chp[aggid]```, but the reverse is empty per construction:"
   ]
  },
  {
   "cell_type": "code",
   "execution_count": 13,
   "id": "21f0da45-bc45-4639-85d1-fa56b6536e24",
   "metadata": {},
   "outputs": [
    {
     "data": {
      "text/plain": [
       "aggid   t   \n",
       "agg127  2018         0.0\n",
       "agg5    2018    0.165076\n",
       "agg87   2018    0.148073\n",
       "agg71   2018    0.429286\n",
       "agg23   2018    0.339071\n",
       "                  ...   \n",
       "agg224  2018    0.377681\n",
       "agg225  2018         0.0\n",
       "agg226  2018         0.0\n",
       "agg227  2018         0.0\n",
       "agg228  2018         0.0\n",
       "Name: level, Length: 71, dtype: object"
      ]
     },
     "execution_count": 13,
     "metadata": {},
     "output_type": "execute_result"
    }
   ],
   "source": [
    "s,c = db['Eff'],db['chp']\n",
    "rctree_pd(s,c)"
   ]
  },
  {
   "cell_type": "code",
   "execution_count": 14,
   "id": "f0055a4a-0a43-4fd0-ba3c-6eae18f98ff5",
   "metadata": {},
   "outputs": [
    {
     "data": {
      "text/plain": [
       "Index([], dtype='object', name='aggid')"
      ]
     },
     "execution_count": 14,
     "metadata": {},
     "output_type": "execute_result"
    }
   ],
   "source": [
    "rctree_pd(c,s)"
   ]
  },
  {
   "cell_type": "markdown",
   "id": "3b413d4c-7b86-45ba-9eda-081f7236d247",
   "metadata": {},
   "source": [
    "If we want this second method to return a non-empty solution, by only comparing domains that are in both symbols, we can add kwarg ```pm = True```:"
   ]
  },
  {
   "cell_type": "code",
   "execution_count": 15,
   "id": "b26cf291-939c-47c3-a29e-753ce840b7d8",
   "metadata": {},
   "outputs": [
    {
     "data": {
      "text/plain": [
       "Index(['agg127', 'agg5', 'agg87', 'agg71', 'agg23', 'agg89', 'agg126', 'agg15',\n",
       "       'agg62', 'agg131', 'agg111', 'agg79', 'agg122', 'agg121', 'agg19',\n",
       "       'agg61', 'agg113', 'agg124', 'agg109', 'agg119', 'agg21', 'agg120',\n",
       "       'agg32', 'agg56', 'agg22', 'agg70', 'agg114', 'agg78', 'agg12',\n",
       "       'agg110', 'agg128', 'agg85', 'agg90', 'agg77', 'agg91', 'agg65',\n",
       "       'agg103', 'agg83', 'agg1', 'agg3', 'agg20', 'agg24', 'agg99', 'agg100',\n",
       "       'agg101', 'agg96', 'agg97', 'agg104', 'agg105', 'agg72', 'agg107',\n",
       "       'agg81', 'agg106', 'agg115', 'agg94', 'agg2', 'agg112', 'agg92',\n",
       "       'agg117', 'agg218', 'agg217', 'agg219', 'agg220', 'agg221', 'agg222',\n",
       "       'agg223', 'agg224', 'agg225', 'agg226', 'agg227', 'agg228'],\n",
       "      dtype='object', name='aggid')"
      ]
     },
     "execution_count": 15,
     "metadata": {},
     "output_type": "execute_result"
    }
   ],
   "source": [
    "rctree_pd(c,s,pm=True)"
   ]
  },
  {
   "cell_type": "markdown",
   "id": "ef168123-4f9d-4d20-a337-f6c1715bd205",
   "metadata": {},
   "source": [
    "### 2: ```rc_AdjPd(s, alias = {}, lag = {})``` \n",
    "\n",
    "The method receives a symbol ```s``` that belong  to the types ```DBWheels_rc.rctree_admissable_types```, and returns an aliased/lagged version of the symbol. Alias, lag should be specified as dictionaries: Key = level in index, level = new name (in alias) or adjustment to the index (in lag). A few examples illustrate this:"
   ]
  },
  {
   "cell_type": "markdown",
   "id": "9cb958d3-1418-4a16-bc0b-0feb80d0e4d4",
   "metadata": {},
   "source": [
    "*The efficiency variable defeind over [aggid,t]:*"
   ]
  },
  {
   "cell_type": "code",
   "execution_count": 16,
   "id": "475c1586-5bfe-4ebc-b0aa-91e769971f62",
   "metadata": {},
   "outputs": [
    {
     "data": {
      "text/plain": [
       "aggid   t   \n",
       "agg127  2018         0.0\n",
       "agg80   2018    1.023287\n",
       "agg5    2018    0.165076\n",
       "agg108  2018    0.834509\n",
       "agg87   2018    0.148073\n",
       "                  ...   \n",
       "agg224  2018    0.377681\n",
       "agg225  2018         0.0\n",
       "agg226  2018         0.0\n",
       "agg227  2018         0.0\n",
       "agg228  2018         0.0\n",
       "Name: level, Length: 228, dtype: object"
      ]
     },
     "execution_count": 16,
     "metadata": {},
     "output_type": "execute_result"
    }
   ],
   "source": [
    "s.vals"
   ]
  },
  {
   "cell_type": "markdown",
   "id": "ba36d061-4106-4075-9328-d81ecbd762ce",
   "metadata": {},
   "source": [
    "*Adjust the name 't':*"
   ]
  },
  {
   "cell_type": "code",
   "execution_count": 17,
   "id": "db68a918-da40-408d-89d3-dc3d3b8f7ee6",
   "metadata": {},
   "outputs": [
    {
     "data": {
      "text/plain": [
       "aggid   newname_t\n",
       "agg127  2018              0.0\n",
       "agg80   2018         1.023287\n",
       "agg5    2018         0.165076\n",
       "agg108  2018         0.834509\n",
       "agg87   2018         0.148073\n",
       "                       ...   \n",
       "agg224  2018         0.377681\n",
       "agg225  2018              0.0\n",
       "agg226  2018              0.0\n",
       "agg227  2018              0.0\n",
       "agg228  2018              0.0\n",
       "Name: level, Length: 228, dtype: object"
      ]
     },
     "execution_count": 17,
     "metadata": {},
     "output_type": "execute_result"
    }
   ],
   "source": [
    "rc_AdjPd(s, alias = {'t': 'newname_t'})"
   ]
  },
  {
   "cell_type": "markdown",
   "id": "80e60ad3-6b00-48ea-98f3-aaf35013c8fb",
   "metadata": {},
   "source": [
    "*Adjust the index level 't' with +10:*"
   ]
  },
  {
   "cell_type": "code",
   "execution_count": 18,
   "id": "88f95948-2ba9-458d-9dbe-0f4602a76cc3",
   "metadata": {},
   "outputs": [
    {
     "data": {
      "text/plain": [
       "aggid   t   \n",
       "agg127  2028         0.0\n",
       "agg80   2028    1.023287\n",
       "agg5    2028    0.165076\n",
       "agg108  2028    0.834509\n",
       "agg87   2028    0.148073\n",
       "                  ...   \n",
       "agg224  2028    0.377681\n",
       "agg225  2028         0.0\n",
       "agg226  2028         0.0\n",
       "agg227  2028         0.0\n",
       "agg228  2028         0.0\n",
       "Name: level, Length: 228, dtype: object"
      ]
     },
     "execution_count": 18,
     "metadata": {},
     "output_type": "execute_result"
    }
   ],
   "source": [
    "rc_AdjPd(s, lag = {'t': 10})"
   ]
  },
  {
   "cell_type": "markdown",
   "id": "7e602752-7e66-48d3-93c7-3deeeafc4456",
   "metadata": {
    "tags": []
   },
   "source": [
    "### 3: ```rc_AdjGpy(s, c= None, alias = {}, lag = {}, pm = False)``` \n",
    "\n",
    "The method is similar to ```rctree_pd```, but returns a ```gpy``` instance of the symbol instead of pandas-like object."
   ]
  },
  {
   "cell_type": "code",
   "execution_count": 19,
   "id": "38803ab8-6237-47d1-b981-827701d3f6e7",
   "metadata": {},
   "outputs": [
    {
     "data": {
      "text/plain": [
       "aggid   newname_t\n",
       "agg127  2028              0.0\n",
       "agg80   2028         1.023287\n",
       "agg5    2028         0.165076\n",
       "agg108  2028         0.834509\n",
       "agg87   2028         0.148073\n",
       "                       ...   \n",
       "agg224  2028         0.377681\n",
       "agg225  2028              0.0\n",
       "agg226  2028              0.0\n",
       "agg227  2028              0.0\n",
       "agg228  2028              0.0\n",
       "Name: level, Length: 228, dtype: object"
      ]
     },
     "execution_count": 19,
     "metadata": {},
     "output_type": "execute_result"
    }
   ],
   "source": [
    "new_gpy = rc_AdjGpy(s, alias = {'t':'newname_t'}, lag = {'t': 10})\n",
    "new_gpy.vals"
   ]
  },
  {
   "cell_type": "markdown",
   "id": "b51d1a6f-80a6-4108-b67e-be6f99d3859f",
   "metadata": {
    "tags": []
   },
   "source": [
    "## 4. ```rctree_gms```"
   ]
  },
  {
   "cell_type": "markdown",
   "id": "a4c270af-2c35-43ec-9371-a03684e27eb6",
   "metadata": {},
   "source": [
    "The ```rctree_gms``` method automates writing simple pieces of gams code. In particular, it allows us to use the same type of condition trees as ```rctree_pd``` uses to subset pandas objects, to write the corresponding gams code. However, ```rctree_gms``` only uses ```gpy``` symbols as inputs (not pandas objects), as the gams code depends on more information than what pandas objects provides."
   ]
  },
  {
   "cell_type": "markdown",
   "id": "3993b797-05a5-42c0-8d98-d83b23ae972e",
   "metadata": {},
   "source": [
    "Examples:"
   ]
  },
  {
   "cell_type": "markdown",
   "id": "92d433c5-25a4-428d-96f2-ac5f34d3e15f",
   "metadata": {},
   "source": [
    "*A single element:*"
   ]
  },
  {
   "cell_type": "code",
   "execution_count": 20,
   "id": "69100cbb-bd88-42fd-82d4-e22de724477a",
   "metadata": {},
   "outputs": [
    {
     "ename": "NameError",
     "evalue": "name 'DBWheels_rc' is not defined",
     "output_type": "error",
     "traceback": [
      "\u001b[1;31m---------------------------------------------------------------------------\u001b[0m",
      "\u001b[1;31mNameError\u001b[0m                                 Traceback (most recent call last)",
      "\u001b[1;32m~\\AppData\\Local\\Temp/ipykernel_10584/2293170551.py\u001b[0m in \u001b[0;36m<module>\u001b[1;34m\u001b[0m\n\u001b[0;32m      1\u001b[0m \u001b[0mc\u001b[0m \u001b[1;33m=\u001b[0m \u001b[0mdb\u001b[0m\u001b[1;33m[\u001b[0m\u001b[1;34m'chp'\u001b[0m\u001b[1;33m]\u001b[0m\u001b[1;33m\u001b[0m\u001b[1;33m\u001b[0m\u001b[0m\n\u001b[1;32m----> 2\u001b[1;33m \u001b[0mDBWheels_rc\u001b[0m\u001b[1;33m.\u001b[0m\u001b[0mrctree_gms\u001b[0m\u001b[1;33m(\u001b[0m\u001b[0mc\u001b[0m\u001b[1;33m)\u001b[0m\u001b[1;33m\u001b[0m\u001b[1;33m\u001b[0m\u001b[0m\n\u001b[0m",
      "\u001b[1;31mNameError\u001b[0m: name 'DBWheels_rc' is not defined"
     ]
    }
   ],
   "source": [
    "c = db['chp']\n",
    "DBWheels_rc.rctree_gms(c)"
   ]
  },
  {
   "cell_type": "markdown",
   "id": "fd74502b-d92d-4b10-8cfa-12086ef88ac3",
   "metadata": {},
   "source": [
    "*Write a symbol with this conditional:*"
   ]
  },
  {
   "cell_type": "code",
   "execution_count": null,
   "id": "286f5c52-db95-4f57-8216-ba66197ad473",
   "metadata": {},
   "outputs": [],
   "source": [
    "DBWheels_rc.write_symbol(symbol, c)"
   ]
  },
  {
   "cell_type": "markdown",
   "id": "40b1a0bd-6ee8-4ce5-8d02-4592c8c27686",
   "metadata": {},
   "source": [
    "*Write the level of this symbol with conditionals*"
   ]
  },
  {
   "cell_type": "code",
   "execution_count": null,
   "id": "3a4a9bbe-3bcd-4b12-8b13-a4954b29140e",
   "metadata": {},
   "outputs": [],
   "source": [
    "DBWheels_rc.write_symbol(symbol, c, l = \".l\")"
   ]
  },
  {
   "cell_type": "markdown",
   "id": "dc8f0e8d-df00-4949-be6b-182bff9a894d",
   "metadata": {},
   "source": [
    "*Multiple conditions:*"
   ]
  },
  {
   "cell_type": "code",
   "execution_count": null,
   "id": "10c93702-90dc-4ecf-91b7-7689aedaac64",
   "metadata": {},
   "outputs": [],
   "source": [
    "c = {'and': [db['chp'], db['DK']]}\n",
    "DBWheels_rc.rctree_gms(c)"
   ]
  },
  {
   "cell_type": "code",
   "execution_count": null,
   "id": "ac618176-4d2d-4b05-a466-b520d0a99aa7",
   "metadata": {},
   "outputs": [],
   "source": [
    "DBWheels_rc.write_symbol(symbol,c)"
   ]
  },
  {
   "cell_type": "markdown",
   "id": "051c9938-be01-46fd-9807-7b5f79561ca2",
   "metadata": {},
   "source": [
    "*Write aliased symbol:*"
   ]
  },
  {
   "cell_type": "code",
   "execution_count": null,
   "id": "965f0fc5-ce46-4a35-9573-7d0dd6260c5b",
   "metadata": {},
   "outputs": [],
   "source": [
    "DBWheels_rc.write_symbol(symbol,alias={'aggid': 'p'},lag={'t': -1})"
   ]
  },
  {
   "cell_type": "code",
   "execution_count": null,
   "id": "fa961e1e-2009-456a-9b21-5af4195df293",
   "metadata": {},
   "outputs": [],
   "source": [
    "symbol.vals"
   ]
  },
  {
   "cell_type": "code",
   "execution_count": null,
   "id": "e23d60c2-9f38-40d8-815c-6ef8a4c15ac4",
   "metadata": {},
   "outputs": [],
   "source": []
  }
 ],
 "metadata": {
  "kernelspec": {
   "display_name": "Python 3 (ipykernel)",
   "language": "python",
   "name": "python3"
  },
  "language_info": {
   "codemirror_mode": {
    "name": "ipython",
    "version": 3
   },
   "file_extension": ".py",
   "mimetype": "text/x-python",
   "name": "python",
   "nbconvert_exporter": "python",
   "pygments_lexer": "ipython3",
   "version": "3.9.7"
  }
 },
 "nbformat": 4,
 "nbformat_minor": 5
}
