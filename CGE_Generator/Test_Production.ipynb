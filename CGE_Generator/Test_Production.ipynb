{
 "cells": [
  {
   "cell_type": "code",
   "execution_count": 1,
   "id": "7f3abd6c-bc4d-4e15-8962-516ffad6145d",
   "metadata": {},
   "outputs": [],
   "source": [
    "clean_up = True\n",
    "%run StdPackages.ipynb\n",
    "d['gams'] = os.path.join(d['CGE'],'gams')"
   ]
  },
  {
   "cell_type": "markdown",
   "id": "e03c1b40-81bb-4c3e-881b-b4322304c716",
   "metadata": {},
   "source": [
    "## Test A: Production version 2\n",
    "Investigate how nested CES and normalized CES sectors work. This goes through identical steps for:\n",
    "* CES1: A simple CES sector.\n",
    "* CES2: A nested CES sector (2 nests).\n",
    "* CES1_norm: Normalized CES sector.\n",
    "* CES2_norm: Nested and normalized CES sector.\n",
    "* CET1: A simple CET sector.\n",
    "* CET2: A nested CET sector. \n",
    "* CET1_norm: A normalized CET sector.\n",
    "* CET2_norm: A nested, normalized CET sector.\n",
    "* CES_CET: A nested CES, CET sector (CES to a intermediate good, that is split into two outputs CET).\n",
    "* CES_CET_norm: A nested CES, CET normalized sector (same as CES_CET, but CET sector has normalized technology).\n",
    "* CESCET_norm: A nested, normalized CES,CET sector (same as CES_CET, but both sectors have normalized tech).\n",
    "* FunkyTree: Mixes normalized input and output trees: Z1 is an input that is split into an output Y1 and an intermediate good X1. Similarly, Z2 is split into output Y2 and intermediate good X2. Finally, X1 and X2 are combined to a single output Y3. \n",
    "* ExtremeFunk: Mixes normalized input and output trees to highlight the role of choosing the right $\\mu$s to keep exogenous when calibrating."
   ]
  },
  {
   "cell_type": "markdown",
   "id": "e0781f5d-bf81-480c-8243-3c0634955871",
   "metadata": {},
   "source": [
    "## Initialize modules:"
   ]
  },
  {
   "cell_type": "markdown",
   "id": "d2c17fd2-a3c9-417e-bcee-dd7e627fc052",
   "metadata": {},
   "source": [
    "*Global settings:*"
   ]
  },
  {
   "cell_type": "code",
   "execution_count": 2,
   "id": "b5b13414-eb91-409c-b4f5-469251035198",
   "metadata": {},
   "outputs": [],
   "source": [
    "glob = CGE_globals.SmallOpen(kwargs_vals = {'t': range(1,3)})"
   ]
  },
  {
   "cell_type": "markdown",
   "id": "baf569d2-8b72-4e61-87fb-d7053fcc9923",
   "metadata": {},
   "source": [
    "*Init nesting structures:*"
   ]
  },
  {
   "cell_type": "code",
   "execution_count": 3,
   "id": "b12949ff-8236-46fe-87a2-7329ce56e1bf",
   "metadata": {},
   "outputs": [],
   "source": [
    "FunnyName_NS = {n+'_input': n for n in ('Y1','Y2')}\n",
    "data_str = os.path.join(d['data'], 'Nestings.xlsx')\n",
    "read_trees = {'CES1': {'CES1': {'f': 'CES'}},\n",
    "              'CES2': {'CES2': {'f':'CES'}},\n",
    "              'CES1_norm': {'CES1': {'f':'CES_norm'}}, \n",
    "              'CES2_norm': {'CES2': {'f':'CES_norm'}},\n",
    "              'CET1': {'CET1': {'f': 'CET'}},\n",
    "              'CET2': {'CET2': {'f': 'CET'}},\n",
    "              'CET1_norm': {'CET1': {'f': 'CET_norm'}},\n",
    "              'CET2_norm': {'CET2': {'f': 'CET_norm'}},\n",
    "              'CES_CET': {'CES1': {'f': 'CES'}, 'CET1': {'f': 'CET'}},\n",
    "              'CES_CET_norm': {'CES1': {'f':'CES'}, 'CET1': {'f':'CET_norm'}},\n",
    "              'CESCET_norm': {'CES1': {'f':'CES_norm'}, 'CET1': {'f': 'CET_norm'}},\n",
    "              'FunkyTree': {'FunkyTree_CET': {'f':'CET_norm'}, 'FunkyTree_CES': {'f':'CES_norm'}},\n",
    "              'ExtremeFunk': {'ExtremeF1': {'f': 'CES_norm'}, 'ExtremeF2': {'f':'CET_norm'}},\n",
    "              'FunnyName': {'FunnyNameInp': {'f':'CES_norm'}, 'FunnyNameOut': {'f':'CET_norm'}}}\n",
    "Trees = {k: NestingTree.AggTree_from_data(data_str, read_trees = read_trees[k], name = k)(namespace=FunnyName_NS) for k in read_trees} # init trees"
   ]
  },
  {
   "cell_type": "markdown",
   "id": "e8f13456-6ac0-4deb-a087-0e7840bae487",
   "metadata": {},
   "source": [
    "*Init:*"
   ]
  },
  {
   "cell_type": "code",
   "execution_count": 4,
   "id": "776996aa-3159-4c9f-8322-eed976251e95",
   "metadata": {},
   "outputs": [],
   "source": [
    "ws = gams.GamsWorkspace(working_directory=d['work'])\n",
    "Ps = {k: CGE_Production.Production(tree = Trees[k], glob = glob, ns = {}, s_kwargs = {'ws': ws}) for k in Trees}"
   ]
  },
  {
   "cell_type": "markdown",
   "id": "8cbdda2f-def7-4dad-ae30-a2a0dedb9630",
   "metadata": {},
   "source": [
    "#### Calibration subsets"
   ]
  },
  {
   "cell_type": "markdown",
   "id": "7b569bcd-e05c-4c88-91f1-0985b87d3129",
   "metadata": {},
   "source": [
    "The default calibration method relies on endogenizing all $\\mu$ parameters and in turn exogenize all $qD$ variables in the nesting tree. This method has to be adjusted in a way that depends on (1) whether or not the model features multiple outputs per sector and (2) if there are nests with scale-preserving technologies.\n",
    "\n",
    "*NB: We ignore the time index for now.*"
   ]
  },
  {
   "cell_type": "markdown",
   "id": "4b8b9778-b369-47e6-a6ad-4930148d3fa8",
   "metadata": {},
   "source": [
    "##### Without scale-preserving technologies"
   ]
  },
  {
   "cell_type": "markdown",
   "id": "15ea659b-cabd-427a-beac-bb9df3b2ce41",
   "metadata": {},
   "source": [
    "In the simple case, all $\\mu$ are endogenized and all $qD$ are exogenized at some level specified by input-output data. Note that even if we know the cost price on ouptuts, $pS[s,n]$, we would leave this variable endogenous. The reason is that for a sector with constant returns to scale (CRS) technology, we have that:\n",
    "\n",
    "$$\\begin{align}\n",
    "    \\sum_{n\\in inputs} qD[s,n]pD[s,n] = \\sum_{n\\in outputs} qS[s,n] pS[s,n].\n",
    "\\end{align}$$\n",
    "\n",
    "All variables on the left-hand-side (LHS) is exogenous when calibration, and so is the supplied quantities $qS[s,n]$. Thus, for the system of equations to be square, we need to leave $pS[s,n]$ endogenous (alternatively, we could remove one of the price index equations from the system when we calibrate). If input-output data is consistent, note that the solution will automatically be the in data.\n",
    "\n",
    "Note that we still allow for multiple outputs to be produced. Usually, we would distinguish between cost-prices $pS[s,n]$ and equilibrium prices $p[n]$ and assume a price equation in the style of\n",
    "\n",
    "$$\\begin{align}\n",
    "    p[n] = (1+m[s])(pS[s,n]+\\tau[s,n])+\\Gamma[s,n]),\n",
    "\\end{align}$$\n",
    "\n",
    "where $m[s]$ is a sector-specific mark-up, $\\tau[s,n]$ is a unit tax, and $\\Gamma[s,n]$ is a function capturing e.g. adjustment costs of investments. Note that this equation holds for all (outputs, sector)-combinations. If we observe $p[n],\\tau[s,n]$ and can compute $\\Gamma[s,n]$ from the model, this identifies $m[s]$ and all but one $pS[s,n]$; the last one ($pS$) is endogenous."
   ]
  },
  {
   "cell_type": "markdown",
   "id": "525312b3-51ab-462e-bdd8-42ef64aa013d",
   "metadata": {},
   "source": [
    "##### Scale-preserving technologies"
   ]
  },
  {
   "cell_type": "markdown",
   "id": "72034554-91a7-4395-8f07-9201464ff4d3",
   "metadata": {},
   "source": [
    "When we have scale-preserving technologies, we have to think more carefully about what variables are endogenized/exogenized when calibrating. Consider for instance the simple case with $Y$ being produced by $X_1,X_2$ using some scale-preserving technology. The system of equations read (ignoring taxes+markups etc).:\n",
    "\n",
    "$$\\begin{align}\n",
    "    p_Y Y &= p_1X_1+p_2X_2 \\\\ \n",
    "    X_1 &= \\dfrac{F_1(p_1,p_2,p_Y; \\mu_1)}{F_1(p_1,p_2,p_Y; \\mu_1)+F_2(p_1,p_2,p_Y; \\mu_2)}Y \\\\ \n",
    "    X_2 &= \\dfrac{F_2(p_1,p_2,p_Y; \\mu_2)}{F_1(p_1,p_2,p_Y; \\mu_1)+F_2(p_1,p_2,p_Y; \\mu_2)}Y,\n",
    "\\end{align}$$\n",
    "\n",
    "where $F_1,F_2$ are some price functions with share parameters $\\mu_1,\\mu_2$.  In baseline mode, this system is square in $p_Y,X_1,X_2$ taking $Y,p_1,p_2,\\mu_1,\\mu_2$ as given. In calibration mode we would usually exogenize $X_1,X_2$ and endogenize $\\mu_1,\\mu_2$. Given exogenous variables, we can always choose a set of $\\mu_1,\\mu_2$ to induce values $F_1,F_2$, thus, we are essentially solving for $F_1,F_2,p_Y$. Note that solving for $F_1,F_2$ in demand functions yield\n",
    "\n",
    "$$\\begin{align}\n",
    "    F_1\\left(1-\\dfrac{X_1}{Y}\\right) &= \\dfrac{X_1}{Y}F_2 \\\\ \n",
    "    F_2\\left(1-\\dfrac{X_2}{Y}\\right) &= \\dfrac{X_2}{Y}F_1\n",
    "\\end{align}$$\n",
    "\n",
    "Using that $1-X_1/Y = X_2/Y$ and $1-X_2/Y=X_1/Y$ note that the two conditions are linearly dependent, i.e. that they identify the same restriction:\n",
    "\n",
    "$$\\begin{align}\n",
    "    F_1 &= \\dfrac{X_1}{X_2} F_2 \\\\ \n",
    "    F_2 &= \\dfrac{X_2}{X_1} F_1.\n",
    "\\end{align}$$\n",
    "\n",
    "Naturally, with a scale-preserving function, a nest with $N$ share parameters only identify $N-1$ variables; the final one is residually determined by $X_N = Y-\\sum_{i=1}^{N-1}X_i$. This causality means that we need to keep one of the $\\mu$ fixed in calibration mode in scale-preserving nests, and keep the corresponding quantity endogenous."
   ]
  },
  {
   "cell_type": "markdown",
   "id": "52dc1e6d-cdc4-4383-8656-1c534e33e4f9",
   "metadata": {},
   "source": [
    "##### Identifying the right $\\mu$s to keep exogenous/quantities to keep endogenous"
   ]
  },
  {
   "cell_type": "markdown",
   "id": "d93d45cb-1986-4a22-8964-691a54e8bd32",
   "metadata": {},
   "source": [
    "As it turns out, simply choosing one random element in $\\mu$ for all scale-preserving nests to keep exogenous (and endogenize corresponding quantity), does not always work. In particular, this can be a problem if we have nodes in the nesting tree that are simultaneously a branch in a scale-preserving input tree and another scale-preserving output tree. The nesting tree 'FunkyTree' and 'ExtremeFunk' are examples of this. In this case, we could potentially, randomly, pick the element $qD[s,n]$ to be the endogenous element for two trees, thus exogenizing two $\\mu$ elements, but only endogenizing one quantity. Thus, we go through a couple of steps to make sure that does not happen"
   ]
  },
  {
   "cell_type": "markdown",
   "id": "584b2e01-fcce-4a42-86d7-fd718e1e0520",
   "metadata": {},
   "source": [
    "##### Identifying calibration subsets, the general case:"
   ]
  },
  {
   "cell_type": "markdown",
   "id": "6961f9ef-d1c0-450b-a7ff-01ba1aaf9081",
   "metadata": {},
   "source": [
    "The ```Production``` class includes an algorithm that ensures that the right $\\mu$s are kept exogenous in calibration mode, the right quantities $(qD/qS)$ are kept/made endogenous. Importantly, note that the subset ```exomu``` identifies the same number of elements as ```endo_qS``` and ```endo_qD``` combined."
   ]
  },
  {
   "cell_type": "code",
   "execution_count": 5,
   "id": "5941220b-24df-459e-b214-f9561f57fe42",
   "metadata": {},
   "outputs": [],
   "source": [
    "n = 'ExtremeFunk'\n",
    "p = Ps[n]\n",
    "t = Trees[n]"
   ]
  },
  {
   "cell_type": "markdown",
   "id": "8057ea1d-7b8f-4a92-91c4-9a29f0ad78e3",
   "metadata": {},
   "source": [
    "*Four elements are kept exogenous:*"
   ]
  },
  {
   "cell_type": "code",
   "execution_count": 6,
   "id": "3ebc29b2-a3f1-45f1-8932-0c371362b36f",
   "metadata": {},
   "outputs": [
    {
     "data": {
      "text/plain": [
       "MultiIndex([('s1', 'X1', 'Z2'),\n",
       "            ('s1', 'Y1', 'Z1'),\n",
       "            ('s1', 'Y2', 'X3'),\n",
       "            ('s1', 'Y3', 'Z3')],\n",
       "           names=['s', 'n', 'nn'])"
      ]
     },
     "execution_count": 6,
     "metadata": {},
     "output_type": "execute_result"
    }
   ],
   "source": [
    "p.get('exomu')"
   ]
  },
  {
   "cell_type": "markdown",
   "id": "aa1bd438-e505-46f6-8e8c-e4d92c8ea3bb",
   "metadata": {},
   "source": [
    "*One supply element and three demand elements are endogenized:*"
   ]
  },
  {
   "cell_type": "code",
   "execution_count": 7,
   "id": "f149df77-3f69-4554-8295-b3fc900358f2",
   "metadata": {},
   "outputs": [
    {
     "data": {
      "text/plain": [
       "MultiIndex([('s1', 'Y3')],\n",
       "           names=['s', 'n'])"
      ]
     },
     "execution_count": 7,
     "metadata": {},
     "output_type": "execute_result"
    }
   ],
   "source": [
    "p.get('endo_qS')"
   ]
  },
  {
   "cell_type": "code",
   "execution_count": 8,
   "id": "556aab0e-f5ab-4309-8435-06470ed6d76f",
   "metadata": {},
   "outputs": [
    {
     "data": {
      "text/plain": [
       "MultiIndex([('s1', 'X1'),\n",
       "            ('s1', 'X3'),\n",
       "            ('s1', 'Z1')],\n",
       "           names=['s', 'n'])"
      ]
     },
     "execution_count": 8,
     "metadata": {},
     "output_type": "execute_result"
    }
   ],
   "source": [
    "p.get('endo_qD')"
   ]
  },
  {
   "cell_type": "markdown",
   "id": "8cd12bb5-9d5b-4613-9dc5-1bf058f59b50",
   "metadata": {
    "tags": []
   },
   "source": [
    "#### Test baseline mode"
   ]
  },
  {
   "cell_type": "markdown",
   "id": "8cbd91da-0edb-41c8-a91b-9b9b91c2539e",
   "metadata": {},
   "source": [
    "*Init states:*"
   ]
  },
  {
   "cell_type": "code",
   "execution_count": 9,
   "id": "7a04ee96-2ef2-413e-a697-be2fdb515737",
   "metadata": {},
   "outputs": [],
   "source": [
    "[P.compile(initDB=True) for P in Ps.values()];"
   ]
  },
  {
   "cell_type": "markdown",
   "id": "7134cb58-be3a-4694-b25a-6fc5a2cf8838",
   "metadata": {},
   "source": [
    "*Write text:*"
   ]
  },
  {
   "cell_type": "code",
   "execution_count": 10,
   "id": "7cb6b085-aa09-47b0-ab1e-b09336319522",
   "metadata": {},
   "outputs": [],
   "source": [
    "[P.write() for P in Ps.values()];"
   ]
  },
  {
   "cell_type": "markdown",
   "id": "94ce1252-638c-41b2-92f5-1923b6f68cac",
   "metadata": {},
   "source": [
    "*Run models (with same workspace):*"
   ]
  },
  {
   "cell_type": "code",
   "execution_count": 11,
   "id": "d92e6938-8840-4426-93f4-57bc8682f337",
   "metadata": {},
   "outputs": [],
   "source": [
    "Ms = {k: Ps[k].run(exportTo=d['work'], ws=ws,**{'cns': 'CONOPT4'}) for k in Ps}"
   ]
  },
  {
   "cell_type": "markdown",
   "id": "1ac16d03-6d1d-48bc-9699-ba099c7af592",
   "metadata": {},
   "source": [
    "#### Test calibration mode:"
   ]
  },
  {
   "cell_type": "markdown",
   "id": "da676829-1fbb-4b77-9190-0c3aeef297f8",
   "metadata": {},
   "source": [
    "*Change state:*"
   ]
  },
  {
   "cell_type": "code",
   "execution_count": 12,
   "id": "39f1f59e-6c7f-49ee-923c-5381229f0227",
   "metadata": {},
   "outputs": [],
   "source": [
    "[setattr(p.s,'state','C') for p in Ps.values()];"
   ]
  },
  {
   "cell_type": "markdown",
   "id": "e3446cf0-83d3-4dd0-82b3-4d9016198558",
   "metadata": {},
   "source": [
    "*Update database to baseline solution:*"
   ]
  },
  {
   "cell_type": "code",
   "execution_count": 13,
   "id": "5aebf686-89b1-45e2-8128-e08589d5b426",
   "metadata": {},
   "outputs": [],
   "source": [
    "[setattr(Ps[k].s,'db',Ms[k].out_db) for k in Ps];"
   ]
  },
  {
   "cell_type": "markdown",
   "id": "16cf6c3b-93c6-49e9-8d7d-3096c108d182",
   "metadata": {},
   "source": [
    "*Write:*"
   ]
  },
  {
   "cell_type": "code",
   "execution_count": 14,
   "id": "8054b010-7982-43f6-9ce4-e740d31195d3",
   "metadata": {},
   "outputs": [],
   "source": [
    "[P.write() for P in Ps.values()];"
   ]
  },
  {
   "cell_type": "markdown",
   "id": "89b09b1c-1f6f-48b8-9539-bbeabb4e0cf3",
   "metadata": {},
   "source": [
    "*Re-run:*"
   ]
  },
  {
   "cell_type": "code",
   "execution_count": 15,
   "id": "8f9743cf-b7d7-4b02-b9f3-f33aaa1fcb00",
   "metadata": {},
   "outputs": [],
   "source": [
    "Ms = {k: Ps[k].run(exportTo=d['work'], ws=ws,**{'cns': 'CONOPT4'}) for k in Ps}"
   ]
  }
 ],
 "metadata": {
  "kernelspec": {
   "display_name": "Python 3 (ipykernel)",
   "language": "python",
   "name": "python3"
  },
  "language_info": {
   "codemirror_mode": {
    "name": "ipython",
    "version": 3
   },
   "file_extension": ".py",
   "mimetype": "text/x-python",
   "name": "python",
   "nbconvert_exporter": "python",
   "pygments_lexer": "ipython3",
   "version": "3.9.7"
  }
 },
 "nbformat": 4,
 "nbformat_minor": 5
}
