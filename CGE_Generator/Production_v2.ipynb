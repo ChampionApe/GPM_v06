{
 "cells": [
  {
   "cell_type": "code",
   "execution_count": 1,
   "id": "f2b26cb9-3b03-4d1c-abb0-165aae0b65ca",
   "metadata": {},
   "outputs": [
    {
     "name": "stdout",
     "output_type": "stream",
     "text": [
      "The file_gams_py_gdb2.gdx is still active and was not deleted.\n"
     ]
    }
   ],
   "source": [
    "clean_up = True\n",
    "%run StdPackages.ipynb\n",
    "d['gams'] = os.path.join(d['CGE'],'gams')"
   ]
  },
  {
   "cell_type": "markdown",
   "id": "a6ac3784-577f-4753-9803-3626c3a02661",
   "metadata": {},
   "source": [
    "## Example A:\n",
    "Investigate calibration methods for CES-like model"
   ]
  },
  {
   "cell_type": "markdown",
   "id": "7bfcfdd6-91f1-41da-9820-c7908f5f608f",
   "metadata": {},
   "source": [
    "*Global settings:*"
   ]
  },
  {
   "cell_type": "code",
   "execution_count": 2,
   "id": "c94ec321-68cb-4139-a4e8-880b42b5c69a",
   "metadata": {},
   "outputs": [],
   "source": [
    "glob = CGE_globals.SmallOpen(kwargs_vals = {'t': range(1,5)})"
   ]
  },
  {
   "cell_type": "markdown",
   "id": "7b94f209-7ede-4b2b-870a-fba502c97828",
   "metadata": {},
   "source": [
    "*Init nesting structures:*"
   ]
  },
  {
   "cell_type": "code",
   "execution_count": 3,
   "id": "08fced6c-7c3c-42c5-a79c-7b03a8b2dca7",
   "metadata": {},
   "outputs": [],
   "source": [
    "data_str = os.path.join(d['data'], 'SimpleCES.xlsx')\n",
    "read_trees = {'1CES': {'OneNest': {'f': 'CES'}}, '2CES': {'TwoNests': {'f':'CES'}},\n",
    "              '1CES_norm': {'OneNest': {'f':'CES_norm'}}, '2CES_norm': {'TwoNests': {'f':'CES_norm'}}}\n",
    "Trees = {k: NestingTree.AggTree_from_data(data_str, read_trees = read_trees[k], name = k)() for k in read_trees} # init trees"
   ]
  },
  {
   "cell_type": "markdown",
   "id": "35122409-00ff-4bca-b102-43a89ff96184",
   "metadata": {},
   "source": [
    "*Init production modules:*"
   ]
  },
  {
   "cell_type": "code",
   "execution_count": 4,
   "id": "34f913dc-4fe3-4e43-9e8b-efdbb3113d5d",
   "metadata": {},
   "outputs": [],
   "source": [
    "ws = gams.GamsWorkspace(working_directory=d['work'])\n",
    "Ps = {k: CGE_Production.Production(tree = Trees[k], glob = glob, ns = {}, s_kwargs = {'ws': ws}) for k in Trees}"
   ]
  },
  {
   "cell_type": "markdown",
   "id": "f95baf7e-7a80-44ef-9c87-a9e760bd550a",
   "metadata": {},
   "source": [
    "*Init states:*"
   ]
  },
  {
   "cell_type": "code",
   "execution_count": 5,
   "id": "2663ef1f-f837-4dde-8120-772d413a9199",
   "metadata": {},
   "outputs": [],
   "source": [
    "# Ps['1CES'].compile(initDB=True)"
   ]
  },
  {
   "cell_type": "code",
   "execution_count": 6,
   "id": "bc3608f8-54df-45fe-add1-33343f6ed21b",
   "metadata": {},
   "outputs": [],
   "source": [
    "[P.compile(initDB=True) for P in Ps.values()];"
   ]
  }
 ],
 "metadata": {
  "kernelspec": {
   "display_name": "Python 3 (ipykernel)",
   "language": "python",
   "name": "python3"
  },
  "language_info": {
   "codemirror_mode": {
    "name": "ipython",
    "version": 3
   },
   "file_extension": ".py",
   "mimetype": "text/x-python",
   "name": "python",
   "nbconvert_exporter": "python",
   "pygments_lexer": "ipython3",
   "version": "3.9.7"
  }
 },
 "nbformat": 4,
 "nbformat_minor": 5
}
