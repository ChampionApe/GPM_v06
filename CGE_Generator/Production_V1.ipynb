{
 "cells": [
  {
   "cell_type": "code",
   "execution_count": 1,
   "id": "e0c601ef-433c-4e97-8025-410da35b6373",
   "metadata": {},
   "outputs": [
    {
     "name": "stdout",
     "output_type": "stream",
     "text": [
      "The file_gams_py_gdb0.gdx is still active and was not deleted.\n"
     ]
    }
   ],
   "source": [
    "clean_up = True\n",
    "%run StdPackages.ipynb\n",
    "d['gams'] = os.path.join(d['CGE'],'gams')"
   ]
  },
  {
   "cell_type": "markdown",
   "id": "96888d9a-057f-4ab1-a924-501e4d24e7fb",
   "metadata": {},
   "source": [
    "## Example A:\n",
    "1. Define global settings that are applied across all modules.\n",
    "2. Define production structure using nesting trees.\n",
    "3. Define production module from steps 1-2.\n",
    "4. Initialize and compile:\n",
    "    1. Initialize variables (if needed),\n",
    "    2. Initialize groups definition (add to ```self.s.groups```)\n",
    "    3. Define argument defining blocks of equations.\n",
    "    4. Specify settings for different states of the model"
   ]
  },
  {
   "cell_type": "markdown",
   "id": "436469d4-e087-452b-a6f4-450eb236d509",
   "metadata": {},
   "source": [
    "*1. Globals:*"
   ]
  },
  {
   "cell_type": "markdown",
   "id": "ae19569c-ce13-4ed1-a8d6-3251630f09ac",
   "metadata": {},
   "source": [
    "Start by defining the global settings: In this section, we draw on the ```SmallOpen``` type. Beyond some global parameters (e.g. interest rate, long run growth rate, etc.), this includes some definitions for time:"
   ]
  },
  {
   "cell_type": "code",
   "execution_count": 2,
   "id": "d8d91feb-ea14-4f9d-991f-728062465ad5",
   "metadata": {},
   "outputs": [],
   "source": [
    "glob = CGE_globals.SmallOpen(kwargs_vals = {'t': range(1,5)})"
   ]
  },
  {
   "cell_type": "markdown",
   "id": "5ccd8061-838d-4184-a5ac-3d9d1f0efa95",
   "metadata": {},
   "source": [
    "*2. Nesting tree:*"
   ]
  },
  {
   "cell_type": "markdown",
   "id": "f7ad46f6-ead1-40ea-b204-cbc61a89b106",
   "metadata": {},
   "source": [
    "We consider a two-sector model $(s1,s2)$ that produces three goods $(a,b,c)$ using inputs $(K,L,M)$. Sector 1 produces  a single using a nested CES, sector 2 produces two outputs using a nested CES/MNL type function."
   ]
  },
  {
   "cell_type": "code",
   "execution_count": 3,
   "id": "6eb85e1d-f311-4a46-a2e6-815eb02c62bd",
   "metadata": {},
   "outputs": [],
   "source": [
    "name = 'V1'\n",
    "data_str = os.path.join(d['data'],'ProductionModule_v1.xlsx')\n",
    "read_trees = {'Tree1': {'f':'CES'}, 'Tree2': {'f': 'MNL_out'}} # Keys refer sheet, f refers to type.\n",
    "Tree = NestingTree.AggTree_from_data(data_str, read_trees = read_trees, name = name)() # apply call function."
   ]
  },
  {
   "cell_type": "markdown",
   "id": "a3d401fd-c17a-441b-9186-b82c64ae0dba",
   "metadata": {},
   "source": [
    "*3. Initialize production module from tree*"
   ]
  },
  {
   "cell_type": "code",
   "execution_count": 4,
   "id": "287d42c7-667c-4c74-b28c-db15e21e95a3",
   "metadata": {},
   "outputs": [],
   "source": [
    "P = CGE_Production.Production(tree = Tree, glob = glob)"
   ]
  },
  {
   "cell_type": "markdown",
   "id": "32f7aa2d-aa62-439b-b7c9-3b833c1cf039",
   "metadata": {},
   "source": [
    "#### 4: Initialize and compile"
   ]
  },
  {
   "cell_type": "markdown",
   "id": "19b73862-718a-40b2-8cc9-ac1066b1a4e4",
   "metadata": {},
   "source": [
    "The method ```self.compile(order=None, initDB=False)``` is defined for all ```GmsPython``` instances, of which ```CGE_Production.Production``` is a specific instance. This method works through two/three steps:\n",
    "1. ```self.compile_groups:``` Updates the settings ```self.s``` specification of groups from the method ```self.groups()```. A standard method for ```self.groups``` collects ```self.groups()``` for all the modules in ```self.m``` that has such a method defined. The production module has a specific method implemented here. Next, the groups are compiled using ```self.s.Compile.run()```.\n",
    "2. ```self.compile_args:``` Collects and sorts 'args' for the model stored in ```self.s['args']``` specificied by the method ```self.args()```. A standard method ```self.args``` collects ```self.args()``` for all the modules in ```self.m``` that has such a method defined. The production module has a specific method implemented here.\n",
    "3. ```self.initDB```: If ```initDB=True``` a method that supplies simple initial values for relevant variables are applied. A standard method is applied that collects ```self.initDB``` methods from the modules in ```self.m```. "
   ]
  },
  {
   "cell_type": "markdown",
   "id": "6c4391ce-c7be-4836-9a75-d5573e2e3530",
   "metadata": {},
   "source": [
    "*The following can be run by calling ```self.compile(initDB=True)```.*"
   ]
  },
  {
   "cell_type": "markdown",
   "id": "6ae18451-489b-4fa0-a656-7bbf8e3cf7de",
   "metadata": {},
   "source": [
    "*1. Compile groups: This defines and compile the groups.*"
   ]
  },
  {
   "cell_type": "code",
   "execution_count": 5,
   "id": "b825cbb7-1fa9-4f41-85c4-acd2550f877f",
   "metadata": {},
   "outputs": [
    {
     "data": {
      "text/plain": [
       "{'G_V1_exo_always': <_GmsPy.Group at 0x1ddd9631e20>,\n",
       " 'G_V1_endo_always': <_GmsPy.Group at 0x1ddd963c460>,\n",
       " 'G_V1_exo_in_calib': <_GmsPy.Group at 0x1ddd963c4c0>,\n",
       " 'G_V1_endo_in_calib': <_GmsPy.Group at 0x1ddd963c040>}"
      ]
     },
     "execution_count": 5,
     "metadata": {},
     "output_type": "execute_result"
    }
   ],
   "source": [
    "P.compile_groups()"
   ]
  },
  {
   "cell_type": "markdown",
   "id": "6e6efd36-a393-46b2-89b2-00befaf790d2",
   "metadata": {},
   "source": [
    "*Once collected, note importantly that we can access conditions on variables for each group:*"
   ]
  },
  {
   "cell_type": "code",
   "execution_count": 6,
   "id": "e9e80e0c-8494-459b-9091-708c64ee3a29",
   "metadata": {},
   "outputs": [
    {
     "data": {
      "text/plain": [
       "{'qS': <_Database.gpy at 0x1ddd96310d0>,\n",
       " 'pD': <_Database.gpy at 0x1ddd4988c40>,\n",
       " 'sigma': <_Database.gpy at 0x1ddd4988fa0>}"
      ]
     },
     "execution_count": 6,
     "metadata": {},
     "output_type": "execute_result"
    }
   ],
   "source": [
    "conditions = P.s.Compile.groups['G_V1_exo_always'].conditions\n",
    "conditions"
   ]
  },
  {
   "cell_type": "markdown",
   "id": "dc592839-ec08-49dd-8a24-a1f351ca6d34",
   "metadata": {},
   "source": [
    "*These are conditions that can be used to subset pandas objects. In other words, we can access a pandas representation of e.g. 'sigma' that belongs to the specific group:*"
   ]
  },
  {
   "cell_type": "code",
   "execution_count": 7,
   "id": "ce6a02b5-4aec-4fa9-bddd-1fb12518d93a",
   "metadata": {},
   "outputs": [
    {
     "data": {
      "text/plain": [
       "s   n \n",
       "s1  KL    0.5\n",
       "    a       2\n",
       "s2  Y     0.5\n",
       "Name: sigma, dtype: object"
      ]
     },
     "execution_count": 7,
     "metadata": {},
     "output_type": "execute_result"
    }
   ],
   "source": [
    "rc_pd(P.get('sigma'), c = conditions['sigma'])"
   ]
  },
  {
   "cell_type": "markdown",
   "id": "8704bba0-dff0-48d4-a073-478a6832e4a6",
   "metadata": {},
   "source": [
    "*2. Compile args: This defines some arguments that are eventually written to gams code.*"
   ]
  },
  {
   "cell_type": "code",
   "execution_count": 8,
   "id": "4e3ad3d1-bd8c-40bf-b846-fbf8104c9c08",
   "metadata": {},
   "outputs": [
    {
     "data": {
      "text/plain": [
       "{'V1_blocks': '\\n$BLOCK B_V1_Tree1\\n\\tE_zp_out_Tree1[t,s,n]$(knot_o_Tree1[s,n] and txE[t])..\\tpS[t,s,n]*qS[t,s,n] =E= sum(nn$(map_Tree1[s,n,nn]), qD[t,s,nn]*pD[t,s,nn]);\\n\\tE_zp_nout_Tree1[t,s,n]$(knot_no_Tree1[s,n] and txE[t])..\\tpD[t,s,n]*qD[t,s,n] =E= sum(nn$(map_Tree1[s,n,nn]), qD[t,s,nn]*pD[t,s,nn]);\\n\\tE_q_out_Tree1[t,s,n]$(branch2o_Tree1[s,n] and txE[t])..\\tqD[t,s,n] =E= sum(nn$(map_Tree1[s,nn,n]), mu[s,nn,n] * (pS[t,s,nn]/pD[t,s,n])**(sigma[s,nn]) * qS[t,s,nn]);\\n\\tE_q_nout_Tree1[t,s,n]$(branch2no_Tree1[s,n] and txE[t])..\\tqD[t,s,n] =E= sum(nn$(map_Tree1[s,nn,n]), mu[s,nn,n] * (pD[t,s,nn]/pD[t,s,n])**(sigma[s,nn]) * qD[t,s,nn]);\\n$ENDBLOCK\\n\\n\\n$BLOCK B_V1_Tree2\\n\\tE_zp_Tree2[t,s,n]$(knot_Tree2[s,n] and txE[t])..\\tpD[t,s,n]*qD[t,s,n] =E= sum(nn$(map_Tree2[s,n,nn] and branch_o_Tree2[s,nn]), qS[t,s,nn]*pS[t,s,nn])+sum(nn$(map_Tree2[s,n,nn] and branch_no_Tree2[s,nn]), qD[t,s,nn]*pD[t,s,nn]);\\n\\tE_q_out_Tree2[t,s,n]$(branch_o_Tree2[s,n] and txE[t])..\\tqS[t,s,n] =E= sum(nn$(map_Tree2[s,nn,n]), mu[s,nn,n] * exp((pS[t,s,n]-pD[t,s,nn])*sigma[s,nn]) / qiv[t,s,nn]);\\n\\tE_q_nout_Tree2[t,s,n]$(branch_no_Tree2[s,n] and txE[t])..\\t\\tqD[t,s,n] =E= sum(nn$(map_Tree2[s,nn,n]), mu[s,nn,n] * exp((pD[t,s,n]-pD[t,s,nn])*sigma[s,nn]) / qiv[t,s,nn]);\\n\\tE_inclVal_out_Tree2[t,s,n]$(knot_Tree2[s,n] and txE[t])..\\t\\tqiv[t,s,n]=E= sum(nn$(map_Tree2[s,n,nn] and branch_o_Tree2[s,nn]), mu[s,n,nn] * exp((pD[t,s,n]-pS[t,s,nn])*sigma[s,n]-qnorm[t,s,n]))+sum(nn$(map_Tree2[s,n,nn] and branch_no_Tree2[s,nn]), mu[s,n,nn] * exp((pD[t,s,n]-pD[t,s,nn])*sigma[s,n]-qnorm[t,s,n]));\\n$ENDBLOCK\\n'}"
      ]
     },
     "execution_count": 8,
     "metadata": {},
     "output_type": "execute_result"
    }
   ],
   "source": [
    "P.compile_args()"
   ]
  }
 ],
 "metadata": {
  "kernelspec": {
   "display_name": "Python 3 (ipykernel)",
   "language": "python",
   "name": "python3"
  },
  "language_info": {
   "codemirror_mode": {
    "name": "ipython",
    "version": 3
   },
   "file_extension": ".py",
   "mimetype": "text/x-python",
   "name": "python",
   "nbconvert_exporter": "python",
   "pygments_lexer": "ipython3",
   "version": "3.9.7"
  }
 },
 "nbformat": 4,
 "nbformat_minor": 5
}
