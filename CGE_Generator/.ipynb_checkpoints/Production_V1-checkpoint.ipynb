{
 "cells": [
  {
   "cell_type": "code",
   "execution_count": 1,
   "id": "e0c601ef-433c-4e97-8025-410da35b6373",
   "metadata": {},
   "outputs": [
    {
     "name": "stdout",
     "output_type": "stream",
     "text": [
      "The file_gams_py_gdb0.gdx is still active and was not deleted.\n",
      "The file_gams_py_gdb1.gdx is still active and was not deleted.\n",
      "The file_gams_py_gdb14.gdx is still active and was not deleted.\n",
      "The file_gams_py_gdb15.gdx is still active and was not deleted.\n",
      "The file_gams_py_gdb16.gdx is still active and was not deleted.\n",
      "The file_gams_py_gdb17.gdx is still active and was not deleted.\n",
      "The file_gams_py_gdb18.gdx is still active and was not deleted.\n",
      "The file_gams_py_gdb19.gdx is still active and was not deleted.\n",
      "The file_gams_py_gdb20.gdx is still active and was not deleted.\n",
      "The file_gams_py_gdb21.gdx is still active and was not deleted.\n",
      "The file_gams_py_gdb22.gdx is still active and was not deleted.\n",
      "The file_gams_py_gdb23.gdx is still active and was not deleted.\n",
      "The file_gams_py_gdb24.gdx is still active and was not deleted.\n",
      "The file_gams_py_gdb25.gdx is still active and was not deleted.\n",
      "The file_gams_py_gdb26.gdx is still active and was not deleted.\n",
      "The file_gams_py_gdb27.gdx is still active and was not deleted.\n"
     ]
    }
   ],
   "source": [
    "clean_up = True\n",
    "%run StdPackages.ipynb\n",
    "d['gams'] = os.path.join(d['CGE'],'gams')"
   ]
  },
  {
   "cell_type": "markdown",
   "id": "96888d9a-057f-4ab1-a924-501e4d24e7fb",
   "metadata": {},
   "source": [
    "## Example A:\n",
    "1. Define global settings that are applied across all modules.\n",
    "2. Define production structure using nesting trees.\n",
    "3. Define production module from steps 1-2.\n",
    "4. Initialize and compile:\n",
    "    1. Initialize variables (if needed),\n",
    "    2. Initialize groups definition (add to ```self.s.groups```)\n",
    "    3. Define argument defining blocks of equations.\n",
    "    4. Specify settings for different states of the model"
   ]
  },
  {
   "cell_type": "markdown",
   "id": "436469d4-e087-452b-a6f4-450eb236d509",
   "metadata": {},
   "source": [
    "*1. Globals:*"
   ]
  },
  {
   "cell_type": "markdown",
   "id": "ae19569c-ce13-4ed1-a8d6-3251630f09ac",
   "metadata": {},
   "source": [
    "Start by defining the global settings: In this section, we draw on the ```SmallOpen``` type. Beyond some global parameters (e.g. interest rate, long run growth rate, etc.), this includes some definitions for time:"
   ]
  },
  {
   "cell_type": "code",
   "execution_count": 2,
   "id": "d8d91feb-ea14-4f9d-991f-728062465ad5",
   "metadata": {},
   "outputs": [],
   "source": [
    "glob = CGE_globals.SmallOpen(kwargs_vals = {'t': range(1,5)})"
   ]
  },
  {
   "cell_type": "markdown",
   "id": "5ccd8061-838d-4184-a5ac-3d9d1f0efa95",
   "metadata": {},
   "source": [
    "*2. Nesting tree:*"
   ]
  },
  {
   "cell_type": "markdown",
   "id": "f7ad46f6-ead1-40ea-b204-cbc61a89b106",
   "metadata": {},
   "source": [
    "We consider a two-sector model $(s1,s2)$ that produces three goods $(a,b,c)$ using inputs $(K,L,M)$. Sector 1 produces  a single using a nested CES, sector 2 produces two outputs using a nested CES/MNL type function."
   ]
  },
  {
   "cell_type": "code",
   "execution_count": 3,
   "id": "6eb85e1d-f311-4a46-a2e6-815eb02c62bd",
   "metadata": {},
   "outputs": [],
   "source": [
    "name = 'V1'\n",
    "data_str = os.path.join(d['data'],'ProductionModule_v1.xlsx')\n",
    "read_trees = {'Tree1': {'f':'CES'}, 'Tree2': {'f': 'MNL_out'}} # Keys refer sheet, f refers to type.\n",
    "Tree = NestingTree.AggTree_from_data(data_str, read_trees = read_trees, name = name)() # apply call function."
   ]
  },
  {
   "cell_type": "markdown",
   "id": "a3d401fd-c17a-441b-9186-b82c64ae0dba",
   "metadata": {},
   "source": [
    "*3. Initialize production module from tree*"
   ]
  },
  {
   "cell_type": "code",
   "execution_count": 6,
   "id": "287d42c7-667c-4c74-b28c-db15e21e95a3",
   "metadata": {},
   "outputs": [],
   "source": [
    "P = CGE_Production.Production(tree = Tree, glob = glob)"
   ]
  },
  {
   "cell_type": "markdown",
   "id": "32f7aa2d-aa62-439b-b7c9-3b833c1cf039",
   "metadata": {},
   "source": [
    "#### 4: Initialize and compile"
   ]
  },
  {
   "cell_type": "markdown",
   "id": "19b73862-718a-40b2-8cc9-ac1066b1a4e4",
   "metadata": {},
   "source": [
    "The method ```self.compile(order=None, initDB=False)``` is defined for all ```GmsPython``` instances, of which ```CGE_Production.Production``` is a specific instance. This method works through two/three steps:\n",
    "1. ```self.compile_groups:``` Updates the settings ```self.s``` specification of groups from the method ```self.groups()```. A standard method for ```self.groups``` collects ```self.groups()``` for all the modules in ```self.m``` that has such a method defined. The production module has a specific method implemented here. Next, the groups are compiled using ```self.s.Compile.run()```.\n",
    "2. ```self.compile_states:``` Collects and sorts 'args' for the model stored in ```self.s['args']``` specificied by the method ```self.args()```. A standard method ```self.args``` collects ```self.args()``` for all the modules in ```self.m``` that has such a method defined. The production module has a specific method implemented here.\n",
    "3. ```self.initDB```: If ```initDB=True``` a method that supplies simple initial values for relevant variables are applied. A standard method is applied that collects ```self.initDB``` methods from the modules in ```self.m```. "
   ]
  },
  {
   "cell_type": "markdown",
   "id": "6c4391ce-c7be-4836-9a75-d5573e2e3530",
   "metadata": {},
   "source": [
    "*The following can be run by calling ```self.compile(initDB=True)```.*"
   ]
  },
  {
   "cell_type": "markdown",
   "id": "6ae18451-489b-4fa0-a656-7bbf8e3cf7de",
   "metadata": {},
   "source": [
    "*1. Compile groups: This defines and compile the groups.*"
   ]
  },
  {
   "cell_type": "code",
   "execution_count": 5,
   "id": "b825cbb7-1fa9-4f41-85c4-acd2550f877f",
   "metadata": {},
   "outputs": [
    {
     "data": {
      "text/plain": [
       "{'G_V1_exo_always': <_GmsPy.Group at 0x1ae6e0386a0>,\n",
       " 'G_V1_endo_always': <_GmsPy.Group at 0x1ae6e038670>,\n",
       " 'G_V1_exo_in_calib': <_GmsPy.Group at 0x1ae6e038cd0>,\n",
       " 'G_V1_endo_in_calib': <_GmsPy.Group at 0x1ae6e038c10>}"
      ]
     },
     "execution_count": 5,
     "metadata": {},
     "output_type": "execute_result"
    }
   ],
   "source": [
    "P.compile_groups()"
   ]
  },
  {
   "cell_type": "markdown",
   "id": "6e6efd36-a393-46b2-89b2-00befaf790d2",
   "metadata": {},
   "source": [
    "*Once collected, note importantly that we can access conditions on variables for each group:*"
   ]
  },
  {
   "cell_type": "code",
   "execution_count": 6,
   "id": "e9e80e0c-8494-459b-9091-708c64ee3a29",
   "metadata": {},
   "outputs": [
    {
     "data": {
      "text/plain": [
       "{'pD': <_Database.gpy at 0x1ae6e026d90>,\n",
       " 'pS': ('or',\n",
       "  [('and',\n",
       "    [<_Database.gpy at 0x1ae6e038430>, <_Database.gpy at 0x1ae6e026eb0>]),\n",
       "   ('and',\n",
       "    [<_Database.gpy at 0x1ae6e026910>, <_Database.gpy at 0x1ae6e026f10>])]),\n",
       " 'qD': ('or',\n",
       "  [('and',\n",
       "    [<_Database.gpy at 0x1ae6e026d90>, <_Database.gpy at 0x1ae6e026f10>]),\n",
       "   ('and',\n",
       "    [<_Database.gpy at 0x1ae6e026b20>, <_Database.gpy at 0x1ae6e026f10>])]),\n",
       " 'qiv': ('and',\n",
       "  [<_Database.gpy at 0x1ae6e026c40>, <_Database.gpy at 0x1ae6e026f10>])}"
      ]
     },
     "execution_count": 6,
     "metadata": {},
     "output_type": "execute_result"
    }
   ],
   "source": [
    "conditions = P.s.Compile.groups['G_V1_endo_always'].conditions\n",
    "conditions"
   ]
  },
  {
   "cell_type": "markdown",
   "id": "dc592839-ec08-49dd-8a24-a1f351ca6d34",
   "metadata": {},
   "source": [
    "*These are conditions that can be used to subset pandas objects. In other words, we can access a pandas representation of e.g. 'sigma' that belongs to the specific group:*"
   ]
  },
  {
   "cell_type": "code",
   "execution_count": 7,
   "id": "29f6071b-7760-40ed-917e-28743ea376f6",
   "metadata": {},
   "outputs": [
    {
     "data": {
      "text/plain": [
       "{'B': {'name': 'V1_B',\n",
       "  'g_endo': <_MixTools.OrdSet at 0x1ae6e026bb0>,\n",
       "  'g_exo': <_MixTools.OrdSet at 0x1ae6e026d30>,\n",
       "  'blocks': <_MixTools.OrdSet at 0x1ae6e026df0>,\n",
       "  'solve': None,\n",
       "  'args': {},\n",
       "  'text': {}}}"
      ]
     },
     "execution_count": 7,
     "metadata": {},
     "output_type": "execute_result"
    }
   ],
   "source": [
    "P.s.states"
   ]
  },
  {
   "cell_type": "markdown",
   "id": "8704bba0-dff0-48d4-a073-478a6832e4a6",
   "metadata": {},
   "source": [
    "*2. Compile states: Defines relevant states in terms exogenous groups, endogenous groups, block of equations, and args (see the ```GmsSettings``` class for more on these arguments). For the production module, this includes writing blocks that details the gms code:*"
   ]
  },
  {
   "cell_type": "code",
   "execution_count": 8,
   "id": "348e76b7-e57b-4747-8b04-1ec43b208e6e",
   "metadata": {},
   "outputs": [
    {
     "name": "stdout",
     "output_type": "stream",
     "text": [
      "\n",
      "$BLOCK B_V1_Tree1\n",
      "\tE_zp_out_Tree1[t,s,n]$(knot_o_Tree1[s,n] and txE[t])..\tpS[t,s,n]*qS[t,s,n] =E= sum(nn$(map_Tree1[s,n,nn]), qD[t,s,nn]*pD[t,s,nn]);\n",
      "\tE_zp_nout_Tree1[t,s,n]$(knot_no_Tree1[s,n] and txE[t])..\tpD[t,s,n]*qD[t,s,n] =E= sum(nn$(map_Tree1[s,n,nn]), qD[t,s,nn]*pD[t,s,nn]);\n",
      "\tE_q_out_Tree1[t,s,n]$(branch2o_Tree1[s,n] and txE[t])..\tqD[t,s,n] =E= sum(nn$(map_Tree1[s,nn,n]), mu[s,nn,n] * (pS[t,s,nn]/pD[t,s,n])**(sigma[s,nn]) * qS[t,s,nn]);\n",
      "\tE_q_nout_Tree1[t,s,n]$(branch2no_Tree1[s,n] and txE[t])..\tqD[t,s,n] =E= sum(nn$(map_Tree1[s,nn,n]), mu[s,nn,n] * (pD[t,s,nn]/pD[t,s,n])**(sigma[s,nn]) * qD[t,s,nn]);\n",
      "$ENDBLOCK\n",
      "\n",
      "\n",
      "$BLOCK B_V1_Tree2\n",
      "\tE_zp_Tree2[t,s,n]$(knot_Tree2[s,n] and txE[t])..\tpD[t,s,n]*qD[t,s,n] =E= sum(nn$(map_Tree2[s,n,nn] and branch_o_Tree2[s,nn]), qS[t,s,nn]*pS[t,s,nn])+sum(nn$(map_Tree2[s,n,nn] and branch_no_Tree2[s,nn]), qD[t,s,nn]*pD[t,s,nn]);\n",
      "\tE_q_out_Tree2[t,s,n]$(branch_o_Tree2[s,n] and txE[t])..\tqS[t,s,n] =E= sum(nn$(map_Tree2[s,nn,n]), qD[t,s,nn]*mu[s,nn,n] * exp((pS[t,s,n]-pD[t,s,nn])*sigma[s,nn]) / qiv[t,s,nn]);\n",
      "\tE_q_nout_Tree2[t,s,n]$(branch_no_Tree2[s,n] and txE[t])..\t\tqD[t,s,n] =E= sum(nn$(map_Tree2[s,nn,n]), qD[t,s,nn]*mu[s,nn,n] * exp((pD[t,s,n]-pD[t,s,nn])*sigma[s,nn]) / qiv[t,s,nn]);\n",
      "\tE_inclVal_out_Tree2[t,s,n]$(knot_Tree2[s,n] and txE[t])..\t\tqiv[t,s,n]=E= sum(nn$(map_Tree2[s,n,nn] and branch_o_Tree2[s,nn]), mu[s,n,nn] * exp((pD[t,s,n]-pS[t,s,nn])*sigma[s,n]-qnorm[t,s,n]))+sum(nn$(map_Tree2[s,n,nn] and branch_no_Tree2[s,nn]), mu[s,n,nn] * exp((pD[t,s,n]-pD[t,s,nn])*sigma[s,n]-qnorm[t,s,n]));\n",
      "$ENDBLOCK\n",
      "\n"
     ]
    }
   ],
   "source": [
    "P.compile_states()\n",
    "print(P.s['args']['V1_blocks'])"
   ]
  },
  {
   "cell_type": "markdown",
   "id": "b3f17afd-fdb7-4069-b480-441c875f2521",
   "metadata": {},
   "source": [
    "*... which groups are endogeonus/exogenous in each state (two states here, B for baseline and C for calibration):*"
   ]
  },
  {
   "cell_type": "code",
   "execution_count": 9,
   "id": "5cb541f5-7c4f-4005-b91e-12232382cc56",
   "metadata": {},
   "outputs": [
    {
     "data": {
      "text/plain": [
       "(['G_V1_exo_always', 'G_V1_endo_in_calib'],\n",
       " ['G_V1_exo_always', 'G_V1_exo_in_calib'])"
      ]
     },
     "execution_count": 9,
     "metadata": {},
     "output_type": "execute_result"
    }
   ],
   "source": [
    "P.s.states['B']['g_exo'].v, P.s.states['C']['g_exo'].v"
   ]
  },
  {
   "cell_type": "markdown",
   "id": "4afb8f72-4fce-4c59-99e5-ae9cd3420760",
   "metadata": {},
   "source": [
    "*... what blocks of equations are used in each state: (identical in the two states):*"
   ]
  },
  {
   "cell_type": "code",
   "execution_count": 10,
   "id": "9d2c2757-c65b-46f5-a3e0-0c5583e3bc85",
   "metadata": {},
   "outputs": [
    {
     "data": {
      "text/plain": [
       "(['B_V1_Tree1', 'B_V1_Tree2'], ['B_V1_Tree1', 'B_V1_Tree2'])"
      ]
     },
     "execution_count": 10,
     "metadata": {},
     "output_type": "execute_result"
    }
   ],
   "source": [
    "P.s.states['B']['blocks'].v, P.s.states['C']['blocks'].v"
   ]
  },
  {
   "cell_type": "markdown",
   "id": "02ad369d-0d20-4664-a95e-4d39605f7785",
   "metadata": {},
   "source": [
    "*3. Init database: This adds standard initial values to all relevant variables (need to be custom specified in the module).*"
   ]
  },
  {
   "cell_type": "markdown",
   "id": "54f02f00-b66b-42ab-bfb3-798f1b5b9c53",
   "metadata": {},
   "source": [
    "*For instance, we have not added any data on the initial values of supply, 'qS':*"
   ]
  },
  {
   "cell_type": "code",
   "execution_count": 11,
   "id": "9c2ee672-aac9-49e7-89d3-74206f86e355",
   "metadata": {},
   "outputs": [
    {
     "name": "stdout",
     "output_type": "stream",
     "text": [
      "qS has not yet been added to the database\n"
     ]
    }
   ],
   "source": [
    "try:\n",
    "    P.get('qS')\n",
    "except TypeError:\n",
    "    print('qS has not yet been added to the database')"
   ]
  },
  {
   "cell_type": "markdown",
   "id": "ec7f2d7e-8574-4109-afdc-b77816da09aa",
   "metadata": {},
   "source": [
    "*Using ```self.initDB()``` adds a standard set of initial values:*"
   ]
  },
  {
   "cell_type": "code",
   "execution_count": 12,
   "id": "0d645df9-d12b-436a-a3e4-66693a12ab83",
   "metadata": {},
   "outputs": [
    {
     "data": {
      "text/plain": [
       "t  s   n\n",
       "1  s2  b    1\n",
       "       c    1\n",
       "   s1  a    1\n",
       "2  s2  b    1\n",
       "       c    1\n",
       "   s1  a    1\n",
       "3  s2  b    1\n",
       "       c    1\n",
       "   s1  a    1\n",
       "4  s2  b    1\n",
       "       c    1\n",
       "   s1  a    1\n",
       "Name: qS, dtype: int64"
      ]
     },
     "execution_count": 12,
     "metadata": {},
     "output_type": "execute_result"
    }
   ],
   "source": [
    "P.initDB()\n",
    "P.get('qS')"
   ]
  },
  {
   "cell_type": "markdown",
   "id": "8fac3f4d-6462-4d03-b485-2a73d9f85d4e",
   "metadata": {},
   "source": [
    "Creating metagroups without adjusting existing groups:"
   ]
  },
  {
   "cell_type": "markdown",
   "id": "1d8fd506-d37c-4fbb-a99c-24b858e3de7f",
   "metadata": {
    "tags": []
   },
   "source": [
    "#### 5: Write"
   ]
  },
  {
   "cell_type": "code",
   "execution_count": 13,
   "id": "3986572a-0e93-4c0e-8ca1-dfb7eddd9a2e",
   "metadata": {},
   "outputs": [],
   "source": [
    "P.write();"
   ]
  },
  {
   "cell_type": "markdown",
   "id": "7e146cf8-7176-4475-911a-2950a6959ed8",
   "metadata": {
    "tags": []
   },
   "source": [
    "#### 6: Run\n",
    "We can set up and run the model in two ways: By specifying a model and parsing it, or asking for it to be initialized and run. We specify which repo to write the data to"
   ]
  },
  {
   "cell_type": "code",
   "execution_count": 14,
   "id": "4f33c875-4f57-4f97-8dd6-09d92879fe0c",
   "metadata": {},
   "outputs": [],
   "source": [
    "# 1: set up model and pass it:\n",
    "# model = GmsPy.GmsModel(ws=d['work'], **{'cns': 'CONOPT4'})\n",
    "# P.run(model=model, exportTo = d['work'])\n",
    "# 2: This performs the same in one:\n",
    "model = P.run(exportTo = d['work'], ws=d['work'],**{'cns': 'CONOPT4'})"
   ]
  },
  {
   "cell_type": "markdown",
   "id": "0e0452bf-d308-4f0d-b244-81771aa5e1bd",
   "metadata": {},
   "source": [
    "*Inspect solution:*"
   ]
  },
  {
   "cell_type": "code",
   "execution_count": 15,
   "id": "f8e71c33-75d2-4fb0-98aa-31f67cd6f653",
   "metadata": {},
   "outputs": [
    {
     "data": {
      "text/plain": [
       "<AxesSubplot:xlabel='s,n'>"
      ]
     },
     "execution_count": 15,
     "metadata": {},
     "output_type": "execute_result"
    },
    {
     "data": {
      "image/png": "[encoded data removed]",
      "text/plain": [
       "<Figure size 576x396 with 1 Axes>"
      ]
     },
     "metadata": {},
     "output_type": "display_data"
    }
   ],
   "source": [
    "model.out_db.get('pS').xs(1).plot.bar()"
   ]
  },
  {
   "cell_type": "markdown",
   "id": "f9f639ec-a2dd-4239-9503-3cf40ef383f1",
   "metadata": {},
   "source": [
    "#### 7: Use baseline solution and calibrate"
   ]
  },
  {
   "cell_type": "markdown",
   "id": "c8db3d4a-31cb-4636-aa55-dda08ab6d005",
   "metadata": {},
   "source": [
    "*Solve model, add a checkpoint:*"
   ]
  },
  {
   "cell_type": "code",
   "execution_count": 16,
   "id": "e56fbde7-8cd7-45df-b8b3-0c8abb3e2cf6",
   "metadata": {},
   "outputs": [],
   "source": [
    "P.s.db = model.out_db\n",
    "P.s.state = 'C'\n",
    "P.write();\n",
    "cp = P.s.db.ws.add_checkpoint()\n",
    "options_run = {'checkpoint':cp}\n",
    "model = P.run(ws=P.s.db.ws, options_run = options_run, **{'cns': 'CONOPT4'})"
   ]
  },
  {
   "cell_type": "markdown",
   "id": "947f537e-6374-4aa6-a2ed-123703a74b8e",
   "metadata": {},
   "source": [
    "Note that as we've simply changed to calibration state, the targets for the calibration are given by the baseline solution. Thus, the solution is identical to before:"
   ]
  },
  {
   "cell_type": "code",
   "execution_count": 1,
   "id": "42b8e89e-84ff-4742-8547-afd395f46514",
   "metadata": {},
   "outputs": [
    {
     "ename": "NameError",
     "evalue": "name 'model' is not defined",
     "output_type": "error",
     "traceback": [
      "\u001b[1;31m---------------------------------------------------------------------------\u001b[0m",
      "\u001b[1;31mNameError\u001b[0m                                 Traceback (most recent call last)",
      "\u001b[1;32m~\\AppData\\Local\\Temp/ipykernel_17116/4150538629.py\u001b[0m in \u001b[0;36m<module>\u001b[1;34m\u001b[0m\n\u001b[1;32m----> 1\u001b[1;33m \u001b[0mmodel\u001b[0m\u001b[1;33m.\u001b[0m\u001b[0mout_db\u001b[0m\u001b[1;33m.\u001b[0m\u001b[0mget\u001b[0m\u001b[1;33m(\u001b[0m\u001b[1;34m'pS'\u001b[0m\u001b[1;33m)\u001b[0m\u001b[1;33m.\u001b[0m\u001b[0mxs\u001b[0m\u001b[1;33m(\u001b[0m\u001b[1;36m1\u001b[0m\u001b[1;33m)\u001b[0m\u001b[1;33m.\u001b[0m\u001b[0mplot\u001b[0m\u001b[1;33m.\u001b[0m\u001b[0mbar\u001b[0m\u001b[1;33m(\u001b[0m\u001b[1;33m)\u001b[0m\u001b[1;33m\u001b[0m\u001b[1;33m\u001b[0m\u001b[0m\n\u001b[0m",
      "\u001b[1;31mNameError\u001b[0m: name 'model' is not defined"
     ]
    }
   ],
   "source": [
    "model.out_db.get('pS').xs(1).plot.bar()"
   ]
  },
  {
   "cell_type": "markdown",
   "id": "ede09764-c86d-499c-b7e3-a12f87fc457d",
   "metadata": {},
   "source": [
    "#### 8: Testing the calibrate sneaky approach"
   ]
  },
  {
   "cell_type": "markdown",
   "id": "a3cb1141-4700-400a-ae1c-fe9a590a2184",
   "metadata": {},
   "source": [
    "*1. Set up shock with name of the shock:*"
   ]
  },
  {
   "cell_type": "code",
   "execution_count": 18,
   "id": "965ca95b-6568-4f85-8519-d6f232ee5fca",
   "metadata": {},
   "outputs": [],
   "source": [
    "shock = 'testshock'\n",
    "dbT = Database.GpyDB(**{'name':shock})\n",
    "dbT['qD'] = model.out_db.get('qD') * 0.9\n",
    "db0 = model.out_db"
   ]
  },
  {
   "cell_type": "markdown",
   "id": "a3401cf8-58c0-4d96-bffd-eccbacb5d3a2",
   "metadata": {},
   "source": [
    "*2. Subset database to exogenous parts:*"
   ]
  },
  {
   "cell_type": "code",
   "execution_count": 19,
   "id": "dd0c0824-d113-4e18-a0dc-c66506d0aeaa",
   "metadata": {},
   "outputs": [],
   "source": [
    "d = P.s.partition_db(db=dbT)\n",
    "dbT.series = Database.SeriesDB(database = d['non_var'] | d['var_exo'])"
   ]
  },
  {
   "cell_type": "markdown",
   "id": "253758da-e5af-4530-907d-78604c3f01fb",
   "metadata": {},
   "source": [
    "*3. Specify for which variables you want to extract a solution, e.g. prices on outputs with endogenous prices in calibration mode:*"
   ]
  },
  {
   "cell_type": "code",
   "execution_count": 20,
   "id": "bc49dc52-1e54-42cc-a7df-46cffc6eac04",
   "metadata": {},
   "outputs": [],
   "source": [
    "extractSol = {'pS': P.g('endo_pS')}"
   ]
  },
  {
   "cell_type": "markdown",
   "id": "5978e761-a1c9-4b60-84a7-ae7d0c4bc3b0",
   "metadata": {},
   "source": [
    "*4. Define grid database (this uses default arguments for all kwargs to illustrate options):*"
   ]
  },
  {
   "cell_type": "code",
   "execution_count": 21,
   "id": "33624e42-f4be-4c6f-9bb6-fc69993a7d6c",
   "metadata": {},
   "outputs": [
    {
     "data": {
      "text/plain": [
       "{'alias_': <_Database.gpy at 0x1ae6f8c08b0>,\n",
       " 'alias_set': <_Database.gpy at 0x1ae6f93cf70>,\n",
       " 'alias_map2': <_Database.gpy at 0x1ae6f95dcd0>,\n",
       " 'l1': <_Database.gpy at 0x1ae6f96fd60>,\n",
       " 'qD_testshock_ss': <_Database.gpy at 0x1ae6f95d2e0>,\n",
       " 'qD_testshock': <_Database.gpy at 0x1ae6f8c0a00>,\n",
       " 'sol_pS_testshock': <_Database.gpy at 0x1ae6f96f070>,\n",
       " 't': <_Database.gpy at 0x1ae6f8c0820>,\n",
       " 's': <_Database.gpy at 0x1ae6f965be0>,\n",
       " 'n': <_Database.gpy at 0x1ae6f96ff40>}"
      ]
     },
     "execution_count": 21,
     "metadata": {},
     "output_type": "execute_result"
    }
   ],
   "source": [
    "loop = 'l1'\n",
    "shock_db = gridDB(db0, dbT, shock, extractSol = extractSol, n = 10, db_name = 'grids', loop = 'l1', gridtype = 'linear', phi = 1, checkDiff = True, error = 1e-11)\n",
    "shock_db.symbols"
   ]
  },
  {
   "cell_type": "markdown",
   "id": "2acf4f87-0b91-4256-bb3f-9ac102b84869",
   "metadata": {},
   "source": [
    "*NB: We use a standard name convention here. The variable that is looped over is called the original name with the postfix of the shockname. The corresponding subset is defined with '_ss' added.*"
   ]
  },
  {
   "cell_type": "markdown",
   "id": "1b8e397a-50c7-4563-8615-756decfb060c",
   "metadata": {},
   "source": [
    "*4. Use the GmsWrite module to write the text to be passed to a solver:*"
   ]
  },
  {
   "cell_type": "code",
   "execution_count": 24,
   "id": "bb527e23-dfe5-46fc-880d-96018cc613f3",
   "metadata": {},
   "outputs": [],
   "source": [
    "domains, conditional = write_gpy(shock_db[loop]), None\n",
    "updateDict = {k: shock_db[k+'_'+shock+'_ss'] for k in dbT.gettypes(('variable','scalar_variable'))}\n",
    "updateSolDict = {'_'.join(['sol',k,shock]): v for k,v in extractSol.items()}\n",
    "text = GmsWrite.declareAndLoop(domains, shock, db0, shock_db, updateDict=updateDict, updateSolDict=updateSolDict, conditional=conditional,solve=P.s['solve'], model=P.s['name'])"
   ]
  },
  {
   "cell_type": "markdown",
   "id": "3696b596-4e6d-43c2-bcc5-1257cb2b31dc",
   "metadata": {},
   "source": [
    "*Create model instance, add database:*"
   ]
  },
  {
   "cell_type": "code",
   "execution_count": 25,
   "id": "69ef73c5-3354-4fca-a7dd-6fb11382babb",
   "metadata": {},
   "outputs": [],
   "source": [
    "model = GmsPy.GmsModel(ws=P.s.db.ws,**{'cns': 'CONOPT4'})\n",
    "model.addDB(shock_db)\n",
    "model.run(run = text, options_add = {'checkpoint': cp})"
   ]
  }
 ],
 "metadata": {
  "kernelspec": {
   "display_name": "Python 3 (ipykernel)",
   "language": "python",
   "name": "python3"
  },
  "language_info": {
   "codemirror_mode": {
    "name": "ipython",
    "version": 3
   },
   "file_extension": ".py",
   "mimetype": "text/x-python",
   "name": "python",
   "nbconvert_exporter": "python",
   "pygments_lexer": "ipython3",
   "version": "3.9.7"
  }
 },
 "nbformat": 4,
 "nbformat_minor": 5
}
