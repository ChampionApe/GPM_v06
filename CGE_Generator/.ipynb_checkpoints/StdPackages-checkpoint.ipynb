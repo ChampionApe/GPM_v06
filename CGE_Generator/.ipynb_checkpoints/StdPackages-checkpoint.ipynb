{
 "cells": [
  {
   "cell_type": "code",
   "execution_count": 1,
   "id": "9de8695d-af6a-4449-a506-1c3760630337",
   "metadata": {},
   "outputs": [
    {
     "name": "stdout",
     "output_type": "stream",
     "text": [
      "No clean-up of work-folder\n"
     ]
    }
   ],
   "source": [
    "import os \n",
    "CGE_generator = os.getcwd()\n",
    "os.chdir(os.getcwd().split('\\\\CGE_Generator')[0])\n",
    "%run StdPackages.ipynb\n",
    "d['CGE'] = CGE_generator\n",
    "os.chdir(d['py'])\n",
    "import _gamYProd, CGE_Production, CGE_globals\n",
    "from DBWheels_mi import MergeDomains, RepeatVar\n",
    "os.chdir(d['curr'])"
   ]
  }
 ],
 "metadata": {
  "kernelspec": {
   "display_name": "Python 3 (ipykernel)",
   "language": "python",
   "name": "python3"
  },
  "language_info": {
   "codemirror_mode": {
    "name": "ipython",
    "version": 3
   },
   "file_extension": ".py",
   "mimetype": "text/x-python",
   "name": "python",
   "nbconvert_exporter": "python",
   "pygments_lexer": "ipython3",
   "version": "3.9.7"
  }
 },
 "nbformat": 4,
 "nbformat_minor": 5
}
