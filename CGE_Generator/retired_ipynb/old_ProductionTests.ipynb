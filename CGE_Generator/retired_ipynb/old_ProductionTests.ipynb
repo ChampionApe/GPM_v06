{
 "cells": [
  {
   "cell_type": "code",
   "execution_count": 1,
   "id": "f2b26cb9-3b03-4d1c-abb0-165aae0b65ca",
   "metadata": {},
   "outputs": [
    {
     "name": "stdout",
     "output_type": "stream",
     "text": [
      "The file_gams_py_gdb2.gdx is still active and was not deleted.\n"
     ]
    }
   ],
   "source": [
    "clean_up = True\n",
    "%run StdPackages.ipynb\n",
    "d['gams'] = os.path.join(d['CGE'],'gams')"
   ]
  },
  {
   "cell_type": "markdown",
   "id": "a6ac3784-577f-4753-9803-3626c3a02661",
   "metadata": {},
   "source": [
    "## Test A: Production version 1\n",
    "Investigate how nested CES and normalized CES sectors work. This goes through identical steps for:\n",
    "* CES1: A simple CES sector.\n",
    "* CES2: A nested CES sector (2 nests).\n",
    "* CES1_norm: Normalized CES sector.\n",
    "* CES2_norm: Nested and normalized CES sector."
   ]
  },
  {
   "cell_type": "markdown",
   "id": "ab881547-0e1f-4ad0-ab02-bfdcc94fc9f5",
   "metadata": {},
   "source": [
    "### Run baseline:"
   ]
  },
  {
   "cell_type": "markdown",
   "id": "7bfcfdd6-91f1-41da-9820-c7908f5f608f",
   "metadata": {},
   "source": [
    "*Global settings:*"
   ]
  },
  {
   "cell_type": "code",
   "execution_count": 2,
   "id": "c94ec321-68cb-4139-a4e8-880b42b5c69a",
   "metadata": {},
   "outputs": [],
   "source": [
    "glob = CGE_globals.SmallOpen(kwargs_vals = {'t': range(1,3)})"
   ]
  },
  {
   "cell_type": "markdown",
   "id": "7b94f209-7ede-4b2b-870a-fba502c97828",
   "metadata": {},
   "source": [
    "*Init nesting structures:*"
   ]
  },
  {
   "cell_type": "code",
   "execution_count": 3,
   "id": "08fced6c-7c3c-42c5-a79c-7b03a8b2dca7",
   "metadata": {},
   "outputs": [],
   "source": [
    "data_str = os.path.join(d['data'], 'Nestings.xlsx')\n",
    "read_trees = {'CES1': {'OneNest': {'f': 'CES'}}, 'CES2': {'TwoNests': {'f':'CES'}},\n",
    "              'CES1_norm': {'OneNest': {'f':'CES_norm'}}, 'CES2_norm': {'TwoNests': {'f':'CES_norm'}}}\n",
    "Trees = {k: NestingTree.AggTree_from_data(data_str, read_trees = read_trees[k], name = k)() for k in read_trees} # init trees"
   ]
  },
  {
   "cell_type": "markdown",
   "id": "35122409-00ff-4bca-b102-43a89ff96184",
   "metadata": {},
   "source": [
    "*Init production modules:*"
   ]
  },
  {
   "cell_type": "code",
   "execution_count": 4,
   "id": "34f913dc-4fe3-4e43-9e8b-efdbb3113d5d",
   "metadata": {},
   "outputs": [],
   "source": [
    "ws = gams.GamsWorkspace(working_directory=d['work'])\n",
    "Ps = {k: CGE_ProductionV1.Production(tree = Trees[k], glob = glob, ns = {}, s_kwargs = {'ws': ws}) for k in Trees}"
   ]
  },
  {
   "cell_type": "markdown",
   "id": "f95baf7e-7a80-44ef-9c87-a9e760bd550a",
   "metadata": {},
   "source": [
    "*Init states:*"
   ]
  },
  {
   "cell_type": "code",
   "execution_count": 5,
   "id": "bc3608f8-54df-45fe-add1-33343f6ed21b",
   "metadata": {},
   "outputs": [],
   "source": [
    "[P.compile(initDB=True) for P in Ps.values()];"
   ]
  },
  {
   "cell_type": "markdown",
   "id": "0bec82e4-de4c-4d47-a8c0-bf186167b85f",
   "metadata": {},
   "source": [
    "*Write text:*"
   ]
  },
  {
   "cell_type": "code",
   "execution_count": 6,
   "id": "c3f0d98d-fe76-477f-87f6-02e1933affc7",
   "metadata": {},
   "outputs": [],
   "source": [
    "[P.write() for P in Ps.values()];"
   ]
  },
  {
   "cell_type": "markdown",
   "id": "ff021448-e071-416c-8555-4cf932fc1386",
   "metadata": {},
   "source": [
    "*Run models (with same workspace):*"
   ]
  },
  {
   "cell_type": "code",
   "execution_count": 7,
   "id": "1e1da0f0-aba5-48a1-9a50-15adf32a969e",
   "metadata": {},
   "outputs": [],
   "source": [
    "Ms = {k: Ps[k].run(exportTo=d['work'], ws=ws,**{'cns': 'CONOPT4'}) for k in Ps}"
   ]
  },
  {
   "cell_type": "markdown",
   "id": "fb5607ee-c99d-4917-87df-80f41907120c",
   "metadata": {},
   "source": [
    "### Calibrate:"
   ]
  },
  {
   "cell_type": "markdown",
   "id": "f4dab625-b6aa-4ea9-8f53-bf41483733e7",
   "metadata": {},
   "source": [
    "*Change state:*"
   ]
  },
  {
   "cell_type": "code",
   "execution_count": 8,
   "id": "204440c1-a025-4238-8ffc-cc53df6a1018",
   "metadata": {},
   "outputs": [],
   "source": [
    "[setattr(p.s,'state','C') for p in Ps.values()];"
   ]
  },
  {
   "cell_type": "markdown",
   "id": "6fdec25a-73a8-49b4-9a8f-24c98e021e26",
   "metadata": {},
   "source": [
    "*Write:*"
   ]
  },
  {
   "cell_type": "code",
   "execution_count": 9,
   "id": "a46e091c-a923-487a-8748-e2565c5abfe2",
   "metadata": {},
   "outputs": [],
   "source": [
    "[P.write() for P in Ps.values()];"
   ]
  },
  {
   "cell_type": "markdown",
   "id": "379a4e97-d95a-486e-ac9d-467f58b861f4",
   "metadata": {},
   "source": [
    "*Re-run:*"
   ]
  },
  {
   "cell_type": "code",
   "execution_count": 10,
   "id": "358bbd99-4683-4f6e-874d-00f86ab11101",
   "metadata": {},
   "outputs": [],
   "source": [
    "Ms = {k: Ps[k].run(exportTo=d['work'], ws=ws,**{'cns': 'CONOPT4'}) for k in Ps}"
   ]
  }
 ],
 "metadata": {
  "kernelspec": {
   "display_name": "Python 3 (ipykernel)",
   "language": "python",
   "name": "python3"
  },
  "language_info": {
   "codemirror_mode": {
    "name": "ipython",
    "version": 3
   },
   "file_extension": ".py",
   "mimetype": "text/x-python",
   "name": "python",
   "nbconvert_exporter": "python",
   "pygments_lexer": "ipython3",
   "version": "3.9.7"
  }
 },
 "nbformat": 4,
 "nbformat_minor": 5
}
