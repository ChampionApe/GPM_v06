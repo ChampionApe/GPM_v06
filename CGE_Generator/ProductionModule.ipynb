{
 "cells": [
  {
   "cell_type": "code",
   "execution_count": 1,
   "id": "e646c695-174a-4eda-bbba-5f75bffc2f74",
   "metadata": {},
   "outputs": [],
   "source": [
    "clean_up = True\n",
    "%run StdPackages.ipynb\n",
    "d['gams'] = os.path.join(d['CGE'],'gams')"
   ]
  },
  {
   "cell_type": "markdown",
   "id": "9f227546-9b9b-48a3-a18c-91ea59e3d200",
   "metadata": {},
   "source": [
    "# Production module"
   ]
  },
  {
   "cell_type": "markdown",
   "id": "5186d8ed-e773-4d5d-8a3d-8df82a615051",
   "metadata": {},
   "source": [
    "The production module includes nested production functions defined over time, sectors, and goods. Durables can be accumulated using investment goods that are precured with adjustment costs."
   ]
  },
  {
   "cell_type": "markdown",
   "id": "8713e026-9907-4c5d-969e-d444c5ac31e6",
   "metadata": {},
   "source": [
    "## Example A: S symmetric production sectors"
   ]
  },
  {
   "cell_type": "code",
   "execution_count": 2,
   "id": "16d39fe0-6951-4bd9-ad36-b328e86b2821",
   "metadata": {},
   "outputs": [],
   "source": [
    "name = 'A'"
   ]
  },
  {
   "cell_type": "markdown",
   "id": "541823f5-99c2-4222-9533-9afc5971768c",
   "metadata": {},
   "source": [
    "Consider the case with $S$ symmetric production sectors. Assume that all sectors produce a unique output using a CES-like production function. The following creates the relevant nesting structure from this notebook:"
   ]
  },
  {
   "cell_type": "markdown",
   "id": "f58265dc-4a19-4516-b7da-e83bd97bdde1",
   "metadata": {},
   "source": [
    "### A.1: Create nesting tree"
   ]
  },
  {
   "cell_type": "markdown",
   "id": "34a372e6-91e4-43ea-8b79-2cfce8f6adbe",
   "metadata": {},
   "source": [
    "With $S$ production sectors producing unique outputs we have $N=S$ goods. Assuming that all goods are demanded by each sector, we can define one nesting tree as follows:"
   ]
  },
  {
   "cell_type": "code",
   "execution_count": 3,
   "id": "346b81d9-9b90-4111-b294-90d68b3fec07",
   "metadata": {},
   "outputs": [
    {
     "data": {
      "text/plain": [
       "<NestingTree.AggTree at 0x1e23dae8070>"
      ]
     },
     "execution_count": 3,
     "metadata": {},
     "output_type": "execute_result"
    }
   ],
   "source": [
    "N=3 # number of sectors and goods\n",
    "sectors = ['s'+str(i) for i in range(1,N+1)]\n",
    "goods = ['n'+str(i) for i in range(1,N+1)]\n",
    "t = [] # The nesting tree consists of tuples with (sector, knot of nest, branch of nest).\n",
    "for i in range(N):\n",
    "    t += [(sectors[i],goods[i],good+'_input') for good in goods];\n",
    "tree = NestingTree.tree('t1', tree = t)\n",
    "A_tree = NestingTree.AggTree(name, trees = {tree.name: tree})\n",
    "A_tree(namespace = {n+'_input':n for n in goods})"
   ]
  },
  {
   "cell_type": "markdown",
   "id": "56a4b665-b4a2-41b9-97b2-f8d69a7f326f",
   "metadata": {},
   "source": [
    "Note that the nesting tree automatically includes a number of relevant features:\n",
    "* A namespace, e.g. with names for the mapping in the relevant tree. (```self.ns```)\n",
    "* A database with symbols (e.g. mapping, set of goods, sectors). (```self.db```)\n",
    "* A name/specification of function type to be applied for each subet of the tree (```self.trees['t1'].f```)\n",
    "\n",
    "Furthermore, note that it is best-practice to use the postfix '_input' for the input types, to distinguish between a 'n1' that is the production and 'n1' that is the input."
   ]
  },
  {
   "cell_type": "markdown",
   "id": "dab75e56-536e-4a4a-963d-9704d070798e",
   "metadata": {},
   "source": [
    "### A.2: Initialize other symbols"
   ]
  },
  {
   "cell_type": "markdown",
   "id": "db3418a3-af98-48bc-8cd8-62330496133b",
   "metadata": {},
   "source": [
    "* **Time**: Define a set $t$, as well as simple subsets (t0,tE,txE,tx0E).\n",
    "* **Decision variables:** \n",
    "    * Define variable $qD$ as the level of demand and $pD$ the corresponding price (incl. taxes). Defined over inputs and intermediate goods.\n",
    "    * Define variable $qS$ as the level of suplpy and $pS$ the corresponding price (excl. taxes). Defined over outputs.\n",
    "    * Inclusive value ```qiv[t,s,n]``` used for scale-preserving functions. Auxiliary variable used to define the denominator for share functions.\n",
    "* **Technical parameters:**\n",
    "    * Every knot in the nesting tree is characterized by an elasticity (or smoothing parameter),\n",
    "    * Every branch in th nesting tree is characterized by a share parameter.\n",
    "    * Normalizing term used for scale-preserving functions (a value of 0 is neutral) (NB: Defined as parameter)."
   ]
  },
  {
   "cell_type": "code",
   "execution_count": 4,
   "id": "ae7a07d1-fb97-4662-81b3-bb4a66dcca5d",
   "metadata": {},
   "outputs": [],
   "source": [
    "db = A_tree.db\n",
    "db['t'] = pd.Index([1,2], name='t')\n",
    "# Standard subsets:\n",
    "db['t0'] = db.get('t')[0:1]\n",
    "db['tE'] = db.get('t')[-1:]\n",
    "db['txE'] = rc_pd(db.get('t'), c = ('not', db.get('tE')))\n",
    "db['tx0'] = rc_pd(db.get('t'), c = ('not', db.get('t0')))\n",
    "db['tx0E'] = rc_pd(db.get('t'), c = ('not', ('or', [db['tE'],db['t0']])))\n",
    "# Variables:\n",
    "db['qS'] = pd.Series(1, index = MergeDomains([db.get('t'),A_tree.get('output')],db), name = 'qS')\n",
    "db['pS'] = pd.Series(1, index = MergeDomains([db.get('t'),A_tree.get('output')],db), name = 'pS')\n",
    "db['qD'] = pd.Series(1/N, index = MergeDomains([db.get('t'),A_tree.get('int').union(A_tree.get('input'))],db), name = 'qD')\n",
    "db['pD'] = pd.Series(1, index = db['qD'].index, name = 'pD')\n",
    "# Technical parameters (stored as variables to be able to endogenize them at some point):\n",
    "db['sigma'] = pd.Series(0.5, index = A_tree.get('knot'), name = 'sigma')\n",
    "db['mu'] = pd.Series(1/N, index = A_tree.get('map'), name = 'mu')\n",
    "db['qnorm'] = Database.gpy(pd.Series(0, index = MergeDomains([db.get('t'),A_tree.get('knot')],db), name = 'qnorm'), **{'type':'parameter'})"
   ]
  },
  {
   "cell_type": "markdown",
   "id": "639a2552-a74c-4a71-b9dd-f887982186b7",
   "metadata": {},
   "source": [
    "*Write to a gdx file:*"
   ]
  },
  {
   "cell_type": "code",
   "execution_count": 5,
   "id": "23646c32-24ad-44b1-a173-afa24614dc7a",
   "metadata": {},
   "outputs": [],
   "source": [
    "db.merge_internal()\n",
    "db_str = os.path.join(d['work'],name)\n",
    "db.database.export(db_str)"
   ]
  },
  {
   "cell_type": "markdown",
   "id": "5712157d-20d8-465a-9b76-8068fc50bd14",
   "metadata": {
    "tags": []
   },
   "source": [
    "### A.3: Define settings and model"
   ]
  },
  {
   "cell_type": "markdown",
   "id": "6f714246-5638-4a04-90bc-3a49b770b0e9",
   "metadata": {},
   "source": [
    "Set up model:\n",
    "* Define groups: We start defining the model without price wedges and installation costs, and only solve the model in baseline mode (no calibration). In this case, the endogenous variables are: Prices on intermediate goods + outputs, and quantities for everything but the supply variables.\n",
    "* Initialize settings: Initialize with groups.\n",
    "* Define blocks: Use nesting trees to write the relevant blocks of code.\n",
    "* Write text\n",
    "* Set up GmsModel and run."
   ]
  },
  {
   "cell_type": "markdown",
   "id": "92a2ab71-7316-422b-90e2-d647c2321f83",
   "metadata": {},
   "source": [
    "*Groups:*"
   ]
  },
  {
   "cell_type": "code",
   "execution_count": 6,
   "id": "803305cb-c2ea-4b78-b836-9285bf6c9d9b",
   "metadata": {},
   "outputs": [],
   "source": [
    "endo = GmsPy.Group(f\"G_{name}_endo\", v = [('pD', db['int_A']),\n",
    "                                          ('pS', db['output_A']),\n",
    "                                          ('qD', db['int_A']),\n",
    "                                          ('qD', db['input_A'])])\n",
    "exo  = GmsPy.Group(f\"G_{name}_exo\", v = [('mu', db['map_A']),\n",
    "                                         ('sigma', db['knot_A']),\n",
    "                                         ('pD', db['input_A']),\n",
    "                                         ('qS', db['output_A'])])"
   ]
  },
  {
   "cell_type": "markdown",
   "id": "43e3a7ef-4c00-4701-ae00-e9eda8ecf7db",
   "metadata": {},
   "source": [
    "*Define settings:*"
   ]
  },
  {
   "cell_type": "code",
   "execution_count": 7,
   "id": "4e2b887e-d11f-47c2-bf95-1985bd6d6ac0",
   "metadata": {},
   "outputs": [],
   "source": [
    "s = GmsPy.GmsSettings(**{'name': name, 'db': db, 'groups': {g.name: g for g in (endo,exo)}})\n",
    "s.Compile.run()"
   ]
  },
  {
   "cell_type": "markdown",
   "id": "9846da2d-3316-4ebd-b06d-d52a37c8d825",
   "metadata": {},
   "source": [
    "*Write blocks from trees:*"
   ]
  },
  {
   "cell_type": "code",
   "execution_count": 8,
   "id": "b1d597eb-9332-4f5e-b9ee-a71a46d80163",
   "metadata": {},
   "outputs": [],
   "source": [
    "blocks = ''\n",
    "for tree in A_tree.trees.values():\n",
    "    blocks += getattr(_gamYProd,tree.f)(tree.name,tree.name)"
   ]
  },
  {
   "cell_type": "markdown",
   "id": "87141d87-c2f9-42a2-baa2-6a943d3b1c9f",
   "metadata": {},
   "source": [
    "*Add settings:*"
   ]
  },
  {
   "cell_type": "code",
   "execution_count": 9,
   "id": "0cf9f7e8-0e9d-43f6-aa80-910868ea055b",
   "metadata": {},
   "outputs": [],
   "source": [
    "s['g_endo'] = [endo.name]\n",
    "s['g_exo'] = [exo.name]\n",
    "s['blocks'] = [f\"B_{tree.name}\" for tree in A_tree.trees.values()]"
   ]
  },
  {
   "cell_type": "markdown",
   "id": "0f69392d-58b4-42b7-9644-6d45415a3d9e",
   "metadata": {},
   "source": [
    "*Write arguments and write:*"
   ]
  },
  {
   "cell_type": "code",
   "execution_count": 10,
   "id": "434ae60e-535b-46c9-a5e0-813bbdfd1c0d",
   "metadata": {},
   "outputs": [],
   "source": [
    "%%capture\n",
    "s['args'] = s.stdArgs(blocks=blocks)\n",
    "s.write()"
   ]
  },
  {
   "cell_type": "code",
   "execution_count": 11,
   "id": "8273a0ec-fe03-44ae-ad56-9bb5232dccc0",
   "metadata": {},
   "outputs": [],
   "source": [
    "m = GmsPy.GmsModel(ws=d['work'],**{'cns': 'CONOPT4'}) # use CONOPT4 to solve CNS models.\n",
    "m.addlocal(db.name, db_str)\n",
    "m.run(run = '\\n'.join(s['text'].values()))"
   ]
  }
 ],
 "metadata": {
  "kernelspec": {
   "display_name": "Python 3 (ipykernel)",
   "language": "python",
   "name": "python3"
  },
  "language_info": {
   "codemirror_mode": {
    "name": "ipython",
    "version": 3
   },
   "file_extension": ".py",
   "mimetype": "text/x-python",
   "name": "python",
   "nbconvert_exporter": "python",
   "pygments_lexer": "ipython3",
   "version": "3.9.7"
  }
 },
 "nbformat": 4,
 "nbformat_minor": 5
}
