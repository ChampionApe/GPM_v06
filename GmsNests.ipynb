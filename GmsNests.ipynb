{
 "cells": [
  {
   "cell_type": "code",
   "execution_count": 1,
   "id": "6aad2113-6dcc-443e-bff7-cf3734338f8b",
   "metadata": {},
   "outputs": [],
   "source": [
    "clean_up = True\n",
    "%run StdPackages.ipynb\n",
    "repo = os.path.join(d['main'],'gams\\\\AbatementExample')\n",
    "db_str = os.path.join(repo,'V01_DB.gdx')"
   ]
  },
  {
   "cell_type": "code",
   "execution_count": 2,
   "id": "d0f80444-fb40-453a-bccf-6881b81b6f49",
   "metadata": {},
   "outputs": [],
   "source": [
    "os.chdir(d['py'])\n",
    "import GmsNests, _gamYNests\n",
    "os.chdir(d['curr'])"
   ]
  },
  {
   "cell_type": "markdown",
   "id": "422471c1-4379-4078-a49a-226759d0ce8f",
   "metadata": {},
   "source": [
    "### TEST OF GAMS NESTING CLASSES"
   ]
  },
  {
   "cell_type": "markdown",
   "id": "498de20c-4860-4a80-be13-f76d20a3ede7",
   "metadata": {},
   "source": [
    "Set up nesting structure:"
   ]
  },
  {
   "cell_type": "code",
   "execution_count": 6,
   "id": "5bacad2b-5cc7-4704-9d79-84708d15a650",
   "metadata": {},
   "outputs": [],
   "source": [
    "t1 = NestingTree.tree('t1', tree = [('s1','Y','L'),('s1','Y','KE'),('s1','KE','x1'),('s1','KE','x2')])\n",
    "t2 = NestingTree.tree('t2', tree = [('s2','Y','X'),('s2','Y','K')], **{'map': 'NewMapName'})  # this gives the attribute 'map' the name 'NewMapName'\n",
    "t3 = NestingTree.tree('t3', tree = [('s2','Y','Y1'),('s2','Y','Y2')], io = 'out')"
   ]
  },
  {
   "cell_type": "markdown",
   "id": "a0123ed4-b3aa-41e1-930d-8fb77a7b42dc",
   "metadata": {},
   "source": [
    "*Add other variables to namespaces etc:*"
   ]
  },
  {
   "cell_type": "code",
   "execution_count": 7,
   "id": "ae5293cd-8f5c-41ff-991a-e26c0bf3294d",
   "metadata": {},
   "outputs": [],
   "source": [
    "t = NestingTree.AggTree(name='agg', trees ={ti.name: ti for ti in (t1,t2,t3)})\n",
    "t.run()\n",
    "t.ns['t'] = 'year'\n",
    "t.ns.update({k:k for k in ('qD','qS','pS','pD','mu','sigma','txE')})"
   ]
  },
  {
   "cell_type": "code",
   "execution_count": 8,
   "id": "8b12ef4f-1476-43fa-903f-bfb6a596a9d6",
   "metadata": {},
   "outputs": [],
   "source": [
    "ns = t.ns\n",
    "ns_i = t1.ns\n",
    "db = t.db\n",
    "name = t1.name"
   ]
  },
  {
   "cell_type": "code",
   "execution_count": 9,
   "id": "d9d19d8f-50b7-4454-830b-2a2d9677cc00",
   "metadata": {},
   "outputs": [
    {
     "data": {
      "text/plain": [
       "{'n': 'n',\n",
       " 'nn': 'nn',\n",
       " 'nnn': 'nnn',\n",
       " 's': 's',\n",
       " 'map': 'map_t1',\n",
       " 'knot': 'knot_t1',\n",
       " 'branch': 'branch_t1',\n",
       " 'input': 'input_t1',\n",
       " 'output': 'output_t1',\n",
       " 'knot_o': 'knot_o_t1',\n",
       " 'knot_no': 'knot_no_t1',\n",
       " 'branch2o': 'branch2o_t1',\n",
       " 'branch2no': 'branch2no_t1'}"
      ]
     },
     "execution_count": 9,
     "metadata": {},
     "output_type": "execute_result"
    }
   ],
   "source": [
    "ns_i"
   ]
  },
  {
   "cell_type": "markdown",
   "id": "622d4ef6-c728-42fb-958a-e72aa358a8b9",
   "metadata": {},
   "source": [
    "*Add time:*"
   ]
  },
  {
   "cell_type": "code",
   "execution_count": 10,
   "id": "ac16f842-4884-4027-a0c6-ab70a8b9f14d",
   "metadata": {},
   "outputs": [],
   "source": [
    "db['year'] = pd.Index(range(2),name='year')\n",
    "db['txE'] = pd.Index([0],name='year')"
   ]
  },
  {
   "cell_type": "markdown",
   "id": "2d686a49-11ef-4ac5-a605-a715e88cfa33",
   "metadata": {},
   "source": [
    "*Add variables:*"
   ]
  },
  {
   "cell_type": "code",
   "execution_count": 11,
   "id": "f7571422-ac96-4b38-821e-f6db4a6e9467",
   "metadata": {},
   "outputs": [],
   "source": [
    "db['qD'] = pd.Series(1, index = pd.MultiIndex.from_product([db.get('year'),db.get('s'),db.get('n')]),name='qD')\n",
    "db['qS'] = pd.Series(1, index = pd.MultiIndex.from_product([db.get('year'),db.get('s'),db.get('n')]),name='qS')\n",
    "db['pD'] = pd.Series(1, index = pd.MultiIndex.from_product([db.get('year'),db.get('s'),db.get('n')]),name='pD')\n",
    "db['pS'] = pd.Series(1, index = pd.MultiIndex.from_product([db.get('year'),db.get('s'),db.get('n')]),name='pS')\n",
    "db['sigma'] = pd.Series(1, index = pd.MultiIndex.from_product([db.get('s'),db.get('n')]), name = 'sigma')\n",
    "db['mu'] = pd.Series(1, index = pd.MultiIndex.from_product([db.get('s'),db.get('n'),db.get('n').rename('nn')]),name='mu')"
   ]
  },
  {
   "cell_type": "markdown",
   "id": "b75f38f0-dab2-40d0-b269-924cf5eb3894",
   "metadata": {},
   "source": [
    "#### CES test:"
   ]
  },
  {
   "cell_type": "code",
   "execution_count": 20,
   "id": "cef293f5-a858-4478-aec0-be5db72f5fad",
   "metadata": {},
   "outputs": [
    {
     "data": {
      "text/plain": [
       "MultiIndex([('s1',  'L'),\n",
       "            ('s1', 'KE')],\n",
       "           names=['s', 'n'])"
      ]
     },
     "execution_count": 20,
     "metadata": {},
     "output_type": "execute_result"
    }
   ],
   "source": [
    "t.get('branch2o',local='t1')"
   ]
  },
  {
   "cell_type": "code",
   "execution_count": 18,
   "id": "42f0f442-b3f9-42a9-a60b-c777045b2fc3",
   "metadata": {},
   "outputs": [
    {
     "data": {
      "text/plain": [
       "MultiIndex([('s1',  'Y',  'L'),\n",
       "            ('s1',  'Y', 'KE'),\n",
       "            ('s1', 'KE', 'x1'),\n",
       "            ('s1', 'KE', 'x2')],\n",
       "           names=['s', 'n', 'nn'])"
      ]
     },
     "execution_count": 18,
     "metadata": {},
     "output_type": "execute_result"
    }
   ],
   "source": [
    "t.get('map',local='t1')"
   ]
  },
  {
   "cell_type": "code",
   "execution_count": 12,
   "id": "27395644-7e7d-4a8d-82ea-0e948764ad38",
   "metadata": {},
   "outputs": [
    {
     "name": "stdout",
     "output_type": "stream",
     "text": [
      "$BLOCK B_t1\n",
      "\tE_zp_out_t1[year,s,n]$(knot_o_t1[s,n] and txE[year])..\tpS[year,s,n]*qS[year,s,n] =E= sum(nn$(map_t1[s,nn,n]),qD[year,s,nn]*pD[year,s,nn]);\n",
      "\tE_zp_nout_t1[year,s,n]$(knot_no_t1[s,n] and txE[year])..\tpD[year,s,n]*qD[year,s,n] =E= sum(nn$(map_t1[s,nn,n]),qD[year,s,nn]*pD[year,s,nn]);\n",
      "\tE_demand_out_t1[year,s,n]$(branch2o_t1[s,n] and txE[year])..\tqD[year,s,n] =E= sum(nn$(map_t1[s,n,nn]), mu[s,n,nn] * (pS[year,s,nn]/pD[year,s,n])**(sigma[s,nn]) * qS[year,s,nn]);\n",
      "\tE_demand_nout_t1[year,s,n]$(branch2no_t1[s,n] and txE[year])..\tqD[year,s,n] =E= sum(nn$(map_t1[s,n,nn]), mu[s,n,nn] * (pD[year,s,nn]/pD[year,s,n])**(sigma[s,nn]) * qD[year,s,nn]);\n",
      "$ENDBLOCK\n"
     ]
    }
   ],
   "source": [
    "a = GmsNests.CES(ns,ns_i,db,name)\n",
    "print(a.block)"
   ]
  },
  {
   "cell_type": "markdown",
   "id": "741736a8-797d-4107-b6ee-b6112ffd575e",
   "metadata": {},
   "source": [
    "#### CES_norm test:"
   ]
  },
  {
   "cell_type": "code",
   "execution_count": 13,
   "id": "7fbacae6-4104-48a9-bdd4-7b5434bcb2ec",
   "metadata": {},
   "outputs": [
    {
     "name": "stdout",
     "output_type": "stream",
     "text": [
      "$BLOCK B_t1\n",
      "\tE_zp_out_t1[year,s,n]$(knot_o_t1[s,n] and txE[year])..\tpS[year,s,n]*qS[year,s,n] =E= sum(nn$(map_t1[s,nn,n]),qD[year,s,nn]*pD[year,s,nn]);\n",
      "\tE_zp_nout_t1[year,s,n]$(knot_no_t1[s,n] and txE[year])..\tpD[year,s,n]*qD[year,s,n] =E= sum(nn$(map_t1[s,nn,n]),qD[year,s,nn]*pD[year,s,nn]);\n",
      "\tE_demand_out_t1[year,s,n]$(branch2o_t1[s,n] and txE[year])..\tqD[year,s,n] =E= sum(nn$(map_t1[s,n,nn]), mu[s,n,nn] * (pS[year,s,nn]/pD[year,s,n])**(sigma[s,nn]) * qS[year,s,nn] / sum(nnn$(map_t1[s,nnn,nn]), mu[s,nnn,nn] * (pS[year,s,nn]/pD[year,s,nnn])**(sigma[s,nn])));\n",
      "\tE_demand_out_t1[year,s,n]$(branch2o_t1[s,n] and txE[year])..\tqD[year,s,n] =E= sum(nn$(map_t1[s,n,nn]), mu[s,n,nn] * (pD[year,s,nn]/pD[year,s,n])**(sigma[s,nn]) * qD[year,s,nn] / sum(nnn$(map_t1[s,nnn,nn]), mu[s,nnn,nn] * (pD[year,s,nn]/pD[year,s,nnn])**(sigma[s,nn])));\n",
      "$ENDBLOCK\n"
     ]
    }
   ],
   "source": [
    "b = GmsNests.CES_norm(ns,ns_i,db,name)\n",
    "print(b.block)"
   ]
  },
  {
   "cell_type": "markdown",
   "id": "a27a8fd0-a1fa-4208-87f4-1f51d5f401b3",
   "metadata": {},
   "source": [
    "#### MNL test:"
   ]
  },
  {
   "cell_type": "code",
   "execution_count": 14,
   "id": "283618ea-76c7-4f82-ae70-7fe57d903760",
   "metadata": {},
   "outputs": [
    {
     "name": "stdout",
     "output_type": "stream",
     "text": [
      "$BLOCK B_t1\n",
      "\tE_zp_out_t1[year,s,n]$(knot_o_t1[s,n] and txE[year])..\tpS[year,s,n]*qS[year,s,n] =E= sum(nn$(map_t1[s,nn,n]),qD[year,s,nn]*pD[year,s,nn]);\n",
      "\tE_zp_nout_t1[year,s,n]$(knot_no_t1[s,n] and txE[year])..\tpD[year,s,n]*qD[year,s,n] =E= sum(nn$(map_t1[s,nn,n]),qD[year,s,nn]*pD[year,s,nn]);\n",
      "\tE_demand_out_t1[year,s,n]$(branch2o_t1[s,n] and txE[year])..\tqD[year,s,n] =E= sum(nn$(map_t1[s,n,nn]), mu[s,n,nn] * exp((pS[year,s,nn]-pD[year,s,n])*(sigma[s,nn])) * qS[year,s,nn] / sum(nnn$(map_t1[s,nnn,nn]), mu[s,nnn,nn] * exp((pS[year,s,nn]-pD[year,s,nnn])*(sigma[s,nn]))));\n",
      "\tE_demand_out_t1[year,s,n]$(branch2o_t1[s,n] and txE[year])..\tqD[year,s,n] =E= sum(nn$(map_t1[s,n,nn]), mu[s,n,nn] * exp((pD[year,s,nn]-pD[year,s,n])*(sigma[s,nn])) * qD[year,s,nn] / sum(nnn$(map_t1[s,nnn,nn]), mu[s,nnn,nn] * exp((pD[year,s,nn]-pD[year,s,nnn])*(sigma[s,nn]))));\n",
      "$ENDBLOCK\n"
     ]
    }
   ],
   "source": [
    "c = GmsNests.MNL(ns,ns_i,db,name)\n",
    "print(c.block)"
   ]
  },
  {
   "cell_type": "markdown",
   "id": "bb51164f-245c-4ccd-9a96-83ba4a23f9ca",
   "metadata": {},
   "source": [
    "#### CET test:"
   ]
  },
  {
   "cell_type": "code",
   "execution_count": 21,
   "id": "9301cccb-7d4d-48d8-8573-ac4ed476a54b",
   "metadata": {},
   "outputs": [],
   "source": [
    "ns = t.ns\n",
    "ns_i = t3.ns\n",
    "db = t.db\n",
    "name = t3.name"
   ]
  },
  {
   "cell_type": "code",
   "execution_count": 22,
   "id": "49cdd0fa-cf94-49d4-9c7d-3aab181fcc2c",
   "metadata": {},
   "outputs": [
    {
     "name": "stdout",
     "output_type": "stream",
     "text": [
      "$BLOCK B_t3\n",
      "\tE_zp_t3[year,s,n]$(knot_t3[s,n] and txE[year])..\tpD[year,s,n]*qD[year,s,n] =E= sum(nn$(map_t3[s,nn,n] and branch_o_t3[s,nn]), qS[year,s,nn]*pS[year,s,nn])+sum(nn$(map_t3[s,nn,n] and branch_no_t3[s,nn]), qD[year,s,nn]*pD[year,s,nn]);\n",
      "\tE_demand_out_t3[year,s,n]$(branch_o_t3[s,n] and txE[year])..\tqS[year,s,n] =E= sum(nn$(map_t3[s,n,nn]), mu[s,n,nn] * (pS[year,s,n]/pD[year,s,nn])**(sigma[s,nn]) * qD[year,s,nn]);\n",
      "\tE_demand_nout_t3[year,s,n]$(branch_no_t3[s,n] and txE[year])..\tqD[year,s,n] =E= sum(nn$(map_t3[s,n,nn]), mu[s,n,nn] * (pD[year,s,n]/pD[year,s,nn])**(sigma[s,nn]) * qD[year,s,nn]);\n",
      "$ENDBLOCK\n"
     ]
    }
   ],
   "source": [
    "d = GmsNests.CET(ns,ns_i,db,name)\n",
    "print(d.block)"
   ]
  },
  {
   "cell_type": "markdown",
   "id": "6e94c75c-ea8f-4e89-84d8-033ce5eeff4a",
   "metadata": {},
   "source": [
    "#### CET_norm test:"
   ]
  },
  {
   "cell_type": "code",
   "execution_count": 23,
   "id": "43b7fe54-b783-4f76-b914-11674b8ad94f",
   "metadata": {},
   "outputs": [
    {
     "name": "stdout",
     "output_type": "stream",
     "text": [
      "$BLOCK B_t3\n",
      "\tE_zp_t3[year,s,n]$(knot_t3[s,n] and txE[year])..\tpD[year,s,n]*qD[year,s,n] =E= sum(nn$(map_t3[s,nn,n] and branch_o_t3[s,nn]), qS[year,s,nn]*pS[year,s,nn])+sum(nn$(map_t3[s,nn,n] and branch_no_t3[s,nn]), qD[year,s,nn]*pD[year,s,nn]);\n",
      "\tE_demand_out_t3[year,s,n]$(branch_o_t3[s,n] and txE[year])..\tqS[year,s,n] =E= sum(nn$(map_t3[s,n,nn]), mu[s,n,nn] * (pS[year,s,n]/pD[year,s,nn])**(sigma[s,nn]) * qD[year,s,nn]) / (sum(nnn$(map_t3[s,nnn,nn] and branch_o_t3[s,nnn]), mu[s,nnn,nn]*(pS[year,s,nnn]/pD[year,s,nn])**(sigma[s,nn])+sum(nnn and branch_no_t3[s,nnn]), mu[s,nnn,nn]*(pD[year,s,nnn]/pD[year,s,nn])**(sigma[s,nn])));\n",
      "\tE_demand_nout_t3[year,s,n]$(branch_no_t3[s,n] and txE[year])..\tqD[year,s,n] =E= sum(nn$(map_t3[s,n,nn]), mu[s,n,nn] * (pD[year,s,n]/pD[year,s,nn])**(sigma[s,nn]) * qD[year,s,nn]) / (sum(nnn$(map_t3[s,nnn,nn] and branch_o_t3[s,nnn]), mu[s,nnn,nn]*(pS[year,s,nnn]/pD[year,s,nn])**(sigma[s,nn])+sum(nnn and branch_no_t3[s,nnn]), mu[s,nnn,nn]*(pD[year,s,nnn]/pD[year,s,nn])**(sigma[s,nn])));\n",
      "$ENDBLOCK\n"
     ]
    }
   ],
   "source": [
    "e = GmsNests.CET_norm(ns,ns_i,db,name)\n",
    "print(e.block)"
   ]
  },
  {
   "cell_type": "markdown",
   "id": "01861669-6c56-4dde-8837-6d57aff46cda",
   "metadata": {},
   "source": [
    "#### MNL_out test:"
   ]
  },
  {
   "cell_type": "code",
   "execution_count": 15,
   "id": "58064c4b-ab82-474f-8a2c-08db27bd1aed",
   "metadata": {},
   "outputs": [
    {
     "name": "stdout",
     "output_type": "stream",
     "text": [
      "$BLOCK B_t3\n",
      "\tE_zp_t3[year,s,n]$(knot_t3[s,n] and txE[year])..\tpD[year,s,n]*qD[year,s,n] =E= sum(nn$(map_t3[s,nn,n] and branch_o_t3[s,nn]), qS[year,s,nn]*pS[year,s,nn])+sum(nn$(map_t3[s,nn,n] and branch_no_t3[s,nn]), qD[year,s,nn]*pD[year,s,nn]);\n",
      "\tE_demand_out_t3[year,s,n]$(branch_o_t3[s,n] and txE[year])..\tqS[year,s,n] =E= sum(nn$(map_t3[s,n,nn]), mu[s,n,nn] * (pS[year,s,n]/pD[year,s,nn])**(sigma[s,nn]) * qD[year,s,nn]) / (sum(nnn$(map_t3[s,nnn,nn] and branch_o_t3[s,nnn]), mu[s,nnn,nn]*(pS[year,s,nnn]/pD[year,s,nn])**(sigma[s,nn])+sum(nnn and branch_no_t3[s,nnn]), mu[s,nnn,nn]*(pD[year,s,nnn]/pD[year,s,nn])**(sigma[s,nn])));\n",
      "\tE_demand_nout_t3[year,s,n]$(branch_no_t3[s,n] and txE[year])..\tqD[year,s,n] =E= sum(nn$(map_t3[s,n,nn]), mu[s,n,nn] * (pD[year,s,n]/pD[year,s,nn])**(sigma[s,nn]) * qD[year,s,nn]) / (sum(nnn$(map_t3[s,nnn,nn] and branch_o_t3[s,nnn]), mu[s,nnn,nn]*(pS[year,s,nnn]/pD[year,s,nn])**(sigma[s,nn])+sum(nnn and branch_no_t3[s,nnn]), mu[s,nnn,nn]*(pD[year,s,nnn]/pD[year,s,nn])**(sigma[s,nn])));\n",
      "$ENDBLOCK\n"
     ]
    }
   ],
   "source": [
    "f = GmsNests.CET_norm(ns,ns_i,db,name)\n",
    "print(f.block)"
   ]
  }
 ],
 "metadata": {
  "kernelspec": {
   "display_name": "Python 3 (ipykernel)",
   "language": "python",
   "name": "python3"
  },
  "language_info": {
   "codemirror_mode": {
    "name": "ipython",
    "version": 3
   },
   "file_extension": ".py",
   "mimetype": "text/x-python",
   "name": "python",
   "nbconvert_exporter": "python",
   "pygments_lexer": "ipython3",
   "version": "3.9.7"
  }
 },
 "nbformat": 4,
 "nbformat_minor": 5
}
