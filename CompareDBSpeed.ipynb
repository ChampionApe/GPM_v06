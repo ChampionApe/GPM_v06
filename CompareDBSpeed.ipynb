{
 "cells": [
  {
   "cell_type": "code",
   "execution_count": 1,
   "id": "7ac3c807-6307-4a7f-a1d0-dfc0bd22da98",
   "metadata": {},
   "outputs": [],
   "source": [
    "%run StdPackages.ipynb"
   ]
  },
  {
   "cell_type": "markdown",
   "id": "18f3f9f4-0e8f-4001-bc9b-fd55246a1c79",
   "metadata": {},
   "source": [
    "*Run non-standard packages:*"
   ]
  },
  {
   "cell_type": "code",
   "execution_count": 2,
   "id": "3da6bfd7-e75a-4628-9363-3ba5420f0ba5",
   "metadata": {},
   "outputs": [],
   "source": [
    "import gmdcc, gamstransfer\n",
    "os.chdir(d['py'])\n",
    "import Database_old\n",
    "os.chdir(d['curr'])"
   ]
  },
  {
   "cell_type": "markdown",
   "id": "43c9f912-3d8e-41f1-af13-d0355e18ca2c",
   "metadata": {},
   "source": [
    "# Comparison of speed for loading/writing data"
   ]
  },
  {
   "cell_type": "markdown",
   "id": "6d678e5a-48cc-47d6-bd1a-65dbaabd8e1a",
   "metadata": {},
   "source": [
    "This notebook compares the speed of writing/reading data from/to GAMS with various methods: (1) Old database version. (2) GAMS' own package ```gamstransfer```, (3) New database version (from ```gams.GamsDatabase``` and ```gams.GamsDataBase._gmd``` attributes).\n",
    "\n",
    "\n",
    "We refer to *databases with large symbols* as including variables/sets/mappings with 1 million records. We refer to *databases with many symbols* as one including roughly 100 relatively small symbols. The overall conclusion is that the new ```Database``` methods are **by far the fastest** for loading all types of data, the fastest at writing large symbols, and almost as fast as writing many small symbols as the old database and much faster than the ```gamstransfer``` methods. More specifically:\n",
    "* ```Database_old:```\n",
    "    * *Loading:* Very inefficient at loading large symbols (37 times slower than best performance). Very inefficient at loading many smaller symbols (9.5 times slower than best performance).\n",
    "    * *Writing:* Relatively inefficient at writing large symbols (5.4 times slower than best performance). **Best performance** for writing many smaller symbols with an average of **0.279 seconds** per run.\n",
    "* ```gamstransfer:```\n",
    "    * *Loading:* Relatively inefficient at loading large symbols (2.7 times slower than best performance). *Cannot run with aliased symbols.*\n",
    "    * *Writing:* Relatively inefficient at writing large symbols (2.7 times slower than best performance). Very inefficient at writing many smaller symbols (14.7 times slower than best performance).\n",
    "* ```Database:```\n",
    "    * *Loading, from ```GamsDatabase```:* (Almost) **best performance** for loading large symbols with an average of **2.89 seconds** per run. (Almost) **best performance** for loading many smaller symbols with an average of **90 milliseconds**. \n",
    "    * *Loading, from ```GamsDatabase._gmd```:* **Best performance** for loading large symbols with an average of **2.84 seconds** per run. **Best performance** for loading many smaller symbols witn an average of **89 milliseconds**. Has the added bonus of also reading in information on aliased symbols.\n",
    "    * *Writing:* **Best performance** for writing large symbols with an average of **7.91 seconds** per run. Relatively efficient for writing many smaller symbols (1.4 times slower than best performance)."
   ]
  },
  {
   "cell_type": "markdown",
   "id": "5c6f7105-3cc4-4bf5-88d8-ba3c4a307fc3",
   "metadata": {},
   "source": [
    "### 1: Load test data sets"
   ]
  },
  {
   "cell_type": "markdown",
   "id": "5bc9ebb2-7f14-4b3c-bf6c-877022ba5f13",
   "metadata": {},
   "source": [
    "*Load test databases: Test file 1 has large sets and variables, test file 2 has a lot of symbols and types.*"
   ]
  },
  {
   "cell_type": "code",
   "execution_count": 3,
   "id": "4731096f-90b5-4a03-b365-56bd44d2a24e",
   "metadata": {},
   "outputs": [],
   "source": [
    "fs = [f\"{d['data']}\\\\test_size1000000.gdx\", f\"{d['data']}\\\\baselinerun.gdx\"] # files\n",
    "ws = gams.GamsWorkspace() \n",
    "g2np = gams2numpy.Gams2Numpy(ws.system_directory)\n",
    "rc = gmdcc.new_intp()\n",
    "dbs = {'gmd1': ws.add_database_from_gdx(fs[0]), 'gmd2': ws.add_database_from_gdx(fs[1])}\n",
    "dbs.update({'gpydict1': Database.dict_from_GamsDatabase(dbs['gmd1'],g2np), 'gpydict2': Database.dict_from_GamsDatabase(dbs['gmd2'],g2np)})\n",
    "dbs.update({'gpm1': Database_old.GPM_database(db=dbs['gmd1']), 'gpm2': Database_old.GPM_database(db=dbs['gmd2'])})"
   ]
  },
  {
   "cell_type": "markdown",
   "id": "2f97e271-d534-4b85-b399-3cd4c5d9b3b7",
   "metadata": {
    "tags": []
   },
   "source": [
    "### 2: Load dataset"
   ]
  },
  {
   "cell_type": "markdown",
   "id": "3a4fe8b9-f46a-49f8-9e13-9c64cb938c73",
   "metadata": {
    "tags": []
   },
   "source": [
    "#### 2.1: Load large files"
   ]
  },
  {
   "cell_type": "code",
   "execution_count": 4,
   "id": "675c3ad6-4e29-4cbf-9111-d7b73c74173c",
   "metadata": {},
   "outputs": [],
   "source": [
    "db = dbs['gmd1']"
   ]
  },
  {
   "cell_type": "markdown",
   "id": "626b8a2c-849e-4b7b-b8d7-3c9f0862e36f",
   "metadata": {},
   "source": [
    "*Old version (simply takes too much time to run a lot of times):*"
   ]
  },
  {
   "cell_type": "code",
   "execution_count": 5,
   "id": "eae10bf8-fb8f-4256-a647-8d910b953f78",
   "metadata": {},
   "outputs": [
    {
     "name": "stdout",
     "output_type": "stream",
     "text": [
      "1min 43s ± 0 ns per loop (mean ± std. dev. of 1 run, 1 loop each)\n"
     ]
    }
   ],
   "source": [
    "%%timeit -r 1 -n 1\n",
    "db_old = Database_old.GPM_database.PM_from_gdx(db)"
   ]
  },
  {
   "cell_type": "markdown",
   "id": "ffb55360-38fb-44c6-a04f-0353442e687f",
   "metadata": {},
   "source": [
    "*gamstransfer container:*"
   ]
  },
  {
   "cell_type": "code",
   "execution_count": 6,
   "id": "5bb47074-ef78-4d1c-9ab4-1d733ae74ebd",
   "metadata": {},
   "outputs": [
    {
     "name": "stdout",
     "output_type": "stream",
     "text": [
      "7.47 s ± 122 ms per loop (mean ± std. dev. of 3 runs, 10 loops each)\n"
     ]
    }
   ],
   "source": [
    "%%timeit -r 3 -n 10\n",
    "db_gt = gamstransfer.Container(db)"
   ]
  },
  {
   "cell_type": "markdown",
   "id": "596892ed-7f10-481e-8b7b-f995f03e2659",
   "metadata": {},
   "source": [
    "*Database using the ```gams.GamsDatabase``` instance:*"
   ]
  },
  {
   "cell_type": "code",
   "execution_count": 7,
   "id": "9248b6cd-8ead-4f8d-91a6-58ed280bb4ea",
   "metadata": {},
   "outputs": [
    {
     "name": "stdout",
     "output_type": "stream",
     "text": [
      "2.89 s ± 155 ms per loop (mean ± std. dev. of 3 runs, 10 loops each)\n"
     ]
    }
   ],
   "source": [
    "%%timeit -r 3 -n 10\n",
    "db_gms = Database.dict_from_GamsDatabase(db,g2np)"
   ]
  },
  {
   "cell_type": "markdown",
   "id": "92a84606-4d45-4d5b-8894-df806976f169",
   "metadata": {},
   "source": [
    "*Database using ```gams.GamsDatabase._gmd```:*"
   ]
  },
  {
   "cell_type": "code",
   "execution_count": 8,
   "id": "5143be33-4b69-463c-ab44-2a62810246f6",
   "metadata": {},
   "outputs": [
    {
     "name": "stdout",
     "output_type": "stream",
     "text": [
      "2.99 s ± 93.4 ms per loop (mean ± std. dev. of 3 runs, 10 loops each)\n"
     ]
    }
   ],
   "source": [
    "%%timeit -r 3 -n 10\n",
    "db_gmd = Database.dict_from_GmdDatabase(db._gmd,g2np)"
   ]
  },
  {
   "cell_type": "markdown",
   "id": "634cde94-07f5-4ded-bf2d-6e545e42f5a3",
   "metadata": {
    "tags": []
   },
   "source": [
    "#### 2.2: Load files with many symbols/different types"
   ]
  },
  {
   "cell_type": "code",
   "execution_count": 9,
   "id": "4305ed29-d7cb-4e6c-9e41-06e038326d63",
   "metadata": {},
   "outputs": [],
   "source": [
    "db = dbs['gmd2']"
   ]
  },
  {
   "cell_type": "markdown",
   "id": "a08e998c-be59-42cb-9659-bca48d639221",
   "metadata": {},
   "source": [
    "*The old database version*"
   ]
  },
  {
   "cell_type": "code",
   "execution_count": 10,
   "id": "eb4d2205-b63f-4578-a29a-62df20a1e333",
   "metadata": {},
   "outputs": [
    {
     "name": "stdout",
     "output_type": "stream",
     "text": [
      "914 ms ± 54.6 ms per loop (mean ± std. dev. of 3 runs, 10 loops each)\n"
     ]
    }
   ],
   "source": [
    "%%timeit -r 3 -n 10\n",
    "db_old = Database_old.GPM_database.PM_from_gdx(db)"
   ]
  },
  {
   "cell_type": "markdown",
   "id": "38518f78-e7d8-4f0b-9066-51f7ebbebce7",
   "metadata": {},
   "source": [
    "*gamstransfer container: Cannot run with aliases in the database - crashes the kernel.*"
   ]
  },
  {
   "cell_type": "code",
   "execution_count": 11,
   "id": "5a5f2d57-b63c-4527-9e35-83d8eb6b26d1",
   "metadata": {},
   "outputs": [],
   "source": [
    "# %%timeit -r 3 -n 10\n",
    "# db_gt = gamstransfer.Container(db)"
   ]
  },
  {
   "cell_type": "markdown",
   "id": "15103903-ef1c-47f7-a9b6-5015d20d4436",
   "metadata": {},
   "source": [
    "*Database using the ```gams.GamsDatabase``` instance:*"
   ]
  },
  {
   "cell_type": "code",
   "execution_count": 11,
   "id": "7d2bb55c-141e-4dcb-96b8-373bf41d9bba",
   "metadata": {},
   "outputs": [
    {
     "name": "stdout",
     "output_type": "stream",
     "text": [
      "90.6 ms ± 3.12 ms per loop (mean ± std. dev. of 3 runs, 10 loops each)\n"
     ]
    }
   ],
   "source": [
    "%%timeit -r 3 -n 10\n",
    "db_gms = Database.dict_from_GamsDatabase(db,g2np)"
   ]
  },
  {
   "cell_type": "markdown",
   "id": "781aa4e2-c0d2-4a04-81b8-71ed784fbf30",
   "metadata": {},
   "source": [
    "*Database using ```gams.GamsDatabase._gmd```:*"
   ]
  },
  {
   "cell_type": "code",
   "execution_count": 12,
   "id": "b5bdf081-60e2-4e70-9ce1-d20d1217a8fd",
   "metadata": {},
   "outputs": [
    {
     "name": "stdout",
     "output_type": "stream",
     "text": [
      "89.1 ms ± 1.92 ms per loop (mean ± std. dev. of 3 runs, 10 loops each)\n"
     ]
    }
   ],
   "source": [
    "%%timeit -r 3 -n 10\n",
    "db_gmd = Database.dict_from_GmdDatabase(db._gmd,g2np)"
   ]
  },
  {
   "cell_type": "markdown",
   "id": "92bc0900-6439-4175-9548-90d6c8873408",
   "metadata": {
    "tags": []
   },
   "source": [
    "### 3: Write to gams.GamsDatabase"
   ]
  },
  {
   "cell_type": "markdown",
   "id": "aa780760-1f26-4dcd-95ac-8d9d7ae532c6",
   "metadata": {
    "tags": []
   },
   "source": [
    "#### 3.1: Write large files"
   ]
  },
  {
   "cell_type": "code",
   "execution_count": 16,
   "id": "6d55812a-7ef6-41d8-b40c-7fdcab392bc8",
   "metadata": {},
   "outputs": [],
   "source": [
    "db = dbs['gpydict1']"
   ]
  },
  {
   "cell_type": "markdown",
   "id": "5e132e90-9dc8-419d-a5c5-265824d76620",
   "metadata": {},
   "source": [
    "*Old version: results in roughly 43 sec per run:*"
   ]
  },
  {
   "cell_type": "code",
   "execution_count": 17,
   "id": "60e81bcd-d0f4-4cc4-ad25-fbe82000203a",
   "metadata": {},
   "outputs": [
    {
     "name": "stdout",
     "output_type": "stream",
     "text": [
      "42.6 s ± 1.09 s per loop (mean ± std. dev. of 3 runs, 5 loops each)\n"
     ]
    }
   ],
   "source": [
    "%%timeit -r 3 -n 5\n",
    "new_db = ws.add_database()\n",
    "[Database_old.GPM_database.gpy2gams(new_db, symbol) for symbol in dbs['gpm1']]"
   ]
  },
  {
   "cell_type": "markdown",
   "id": "5da0c0b5-c6cc-4c14-9918-e58488e6a442",
   "metadata": {},
   "source": [
    "*Using ```gamstransfer.Container```:*"
   ]
  },
  {
   "cell_type": "code",
   "execution_count": 18,
   "id": "d5529b67-7090-4d64-a515-8c531caf636a",
   "metadata": {},
   "outputs": [
    {
     "name": "stdout",
     "output_type": "stream",
     "text": [
      "21 s ± 297 ms per loop (mean ± std. dev. of 3 runs, 5 loops each)\n"
     ]
    }
   ],
   "source": [
    "%%timeit -r 3 -n 5\n",
    "new_db = ws.add_database()\n",
    "container = gamstransfer.Container()\n",
    "[Database.gamstransfer_from_py_(symbol,container) for symbol in db.values()]\n",
    "container.write(write_to=new_db)"
   ]
  },
  {
   "cell_type": "markdown",
   "id": "e8e0dbb1-f623-48c8-b0ee-845d7c0f7cc6",
   "metadata": {},
   "source": [
    "*Using ```gams2numpy``` methods directly:*"
   ]
  },
  {
   "cell_type": "code",
   "execution_count": 19,
   "id": "6a349f24-cfa4-4784-af10-93fd9ecac1b0",
   "metadata": {},
   "outputs": [
    {
     "name": "stdout",
     "output_type": "stream",
     "text": [
      "7.91 s ± 406 ms per loop (mean ± std. dev. of 3 runs, 5 loops each)\n"
     ]
    }
   ],
   "source": [
    "%%timeit -r 3 -n 5\n",
    "new_db = ws.add_database()\n",
    "Database.gams_from_db_py(db.values(),new_db,g2np)"
   ]
  },
  {
   "cell_type": "markdown",
   "id": "04fe8c57-67ea-4370-a6e0-e57e67795f2b",
   "metadata": {
    "tags": []
   },
   "source": [
    "#### 3.2: Write files with many symbols/different types"
   ]
  },
  {
   "cell_type": "code",
   "execution_count": 20,
   "id": "63e25769-3d5d-41df-a009-fa2448f38a6b",
   "metadata": {},
   "outputs": [],
   "source": [
    "db = dbs['gpydict2']"
   ]
  },
  {
   "cell_type": "markdown",
   "id": "7022d5ec-fd08-4a52-847c-aefae7bc9178",
   "metadata": {},
   "source": [
    "*Old version: Fastest when we loop over symbols.*"
   ]
  },
  {
   "cell_type": "code",
   "execution_count": 21,
   "id": "70241747-a58c-492d-83b0-20d8300bfbfc",
   "metadata": {},
   "outputs": [
    {
     "name": "stdout",
     "output_type": "stream",
     "text": [
      "279 ms ± 12.8 ms per loop (mean ± std. dev. of 3 runs, 5 loops each)\n"
     ]
    }
   ],
   "source": [
    "%%timeit -r 3 -n 5\n",
    "new_db = ws.add_database()\n",
    "[Database_old.GPM_database.gpy2gams(new_db, symbol) for symbol in dbs['gpm2']]"
   ]
  },
  {
   "cell_type": "markdown",
   "id": "f5728b9d-6950-4d26-92eb-5d72c6cd27a2",
   "metadata": {},
   "source": [
    "*Using ```gamstransfer.Container```:*"
   ]
  },
  {
   "cell_type": "code",
   "execution_count": 22,
   "id": "794ab227-3c42-4b26-9062-85e2d045cf9f",
   "metadata": {},
   "outputs": [
    {
     "name": "stdout",
     "output_type": "stream",
     "text": [
      "4.13 s ± 310 ms per loop (mean ± std. dev. of 3 runs, 5 loops each)\n"
     ]
    }
   ],
   "source": [
    "%%timeit -r 3 -n 5\n",
    "new_db = ws.add_database()\n",
    "container = gamstransfer.Container()\n",
    "[Database.gamstransfer_from_py_(symbol,container) for symbol in db.values()]\n",
    "container.write(write_to=new_db)"
   ]
  },
  {
   "cell_type": "markdown",
   "id": "1db28246-fb0a-4eec-9cde-bb52b978d274",
   "metadata": {},
   "source": [
    "*Using ```gams2numpy``` methods directly:*"
   ]
  },
  {
   "cell_type": "code",
   "execution_count": 24,
   "id": "6b6d7538-b4cd-461c-91a0-6fd0d9174824",
   "metadata": {},
   "outputs": [
    {
     "name": "stdout",
     "output_type": "stream",
     "text": [
      "393 ms ± 6.51 ms per loop (mean ± std. dev. of 3 runs, 5 loops each)\n"
     ]
    }
   ],
   "source": [
    "%%timeit -r 3 -n 5\n",
    "new_db = ws.add_database()\n",
    "Database.gams_from_db_py(db.values(),new_db,g2np)"
   ]
  }
 ],
 "metadata": {
  "kernelspec": {
   "display_name": "Python 3 (ipykernel)",
   "language": "python",
   "name": "python3"
  },
  "language_info": {
   "codemirror_mode": {
    "name": "ipython",
    "version": 3
   },
   "file_extension": ".py",
   "mimetype": "text/x-python",
   "name": "python",
   "nbconvert_exporter": "python",
   "pygments_lexer": "ipython3",
   "version": "3.9.7"
  }
 },
 "nbformat": 4,
 "nbformat_minor": 5
}
